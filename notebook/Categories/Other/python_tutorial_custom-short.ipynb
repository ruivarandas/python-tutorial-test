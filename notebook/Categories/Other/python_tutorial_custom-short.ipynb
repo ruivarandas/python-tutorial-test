{
 "cells": [
  {
   "cell_type": "markdown",
   "metadata": {
    "deletable": false,
    "editable": false,
    "hideCode": false,
    "hidePrompt": false,
    "slideshow": {
     "slide_type": "skip"
    },
    "solved": false,
    "tags": [
     "header"
    ],
    "template": true,
    "undeletable": true
   },
   "source": [
    "<table width=\"100%\">\n",
    "    <tr style=\"border-bottom:solid 2pt #009EE3\">\n",
    "        <td class=\"header_buttons\">\n",
    "            <a href=\"FILENAME\" download><img src=\"../../images/icons/download.png\" alt=\"biosignalsnotebooks | download button\"></a>\n",
    "        </td>\n",
    "        <td class=\"header_buttons\">\n",
    "            <a href=\"SOURCE\" target=\"_blank\"><img src=\"../../images/icons/program.png\" alt=\"biosignalsnotebooks | binder server\" title=\"Be creative and test your solutions !\"></a>\n",
    "        </td>\n",
    "        <td></td>\n",
    "        <td class=\"header_icons\">\n",
    "            <a href=\"../MainFiles/biosignalsnotebooks.ipynb\"><img src=\"../../images/icons/home.png\" alt=\"biosignalsnotebooks | home button\"></a>\n",
    "        </td>\n",
    "        <td class=\"header_icons\">\n",
    "            <a href=\"../MainFiles/contacts.ipynb\"><img src=\"../../images/icons/contacts.png\" alt=\"biosignalsnotebooks | contacts button\"></a>\n",
    "        </td>\n",
    "        <td class=\"header_icons\">\n",
    "            <a href=\"https://github.com/biosignalsplux/biosignalsnotebooks\" target=\"_blank\"><img src=\"../../images/icons/github.png\" alt=\"biosignalsnotebooks | github button\"></a>\n",
    "        </td>\n",
    "        <td class=\"header_logo\">\n",
    "            <img src=\"../../images/ost_logo.png\" alt=\"biosignalsnotebooks | project logo\">\n",
    "        </td>\n",
    "    </tr>\n",
    "</table>"
   ]
  },
  {
   "cell_type": "markdown",
   "metadata": {
    "deletable": false,
    "editable": false,
    "hideCode": false,
    "hidePrompt": false,
    "slideshow": {
     "slide_type": "skip"
    },
    "solved": false,
    "tags": [
     "intro_info_title"
    ],
    "template": true,
    "undeletable": true
   },
   "source": [
    "<link rel=\"stylesheet\" href=\"../../styles/theme_style.css\">\n",
    "<!--link rel=\"stylesheet\" href=\"../../styles/header_style.css\"-->\n",
    "<link rel=\"stylesheet\" href=\"https://cdnjs.cloudflare.com/ajax/libs/font-awesome/4.7.0/css/font-awesome.min.css\">\n",
    "\n",
    "<table width=\"100%\">\n",
    "    <tr>\n",
    "        <td id=\"image_td\" width=\"15%\" class=\"header_image_color_15\"><div id=\"image_img\"\n",
    "        class=\"header_image_15\"></div></td>\n",
    "        <td class=\"header_text\"> Python Exercises </td>\n",
    "    </tr>\n",
    "</table>"
   ]
  },
  {
   "cell_type": "markdown",
   "metadata": {
    "deletable": false,
    "editable": false,
    "hideCode": false,
    "hidePrompt": false,
    "slideshow": {
     "slide_type": "skip"
    },
    "solved": false,
    "tags": [
     "intro_info_tags"
    ],
    "template": true,
    "undeletable": true
   },
   "source": [
    "<div id=\"flex-container\">\n",
    "    <div id=\"diff_level\" class=\"flex-item\">\n",
    "        <strong>Difficulty Level:</strong>   <span class=\"fa fa-star checked\"></span>\n",
    "                                <span class=\"fa fa-star\"></span>\n",
    "                                <span class=\"fa fa-star\"></span>\n",
    "                                <span class=\"fa fa-star\"></span>\n",
    "                                <span class=\"fa fa-star\"></span>\n",
    "    </div>\n",
    "    <div id=\"tag\" class=\"flex-item-tag\">\n",
    "        <span id=\"tag_list\">\n",
    "            <table id=\"tag_list_table\">\n",
    "                <tr>\n",
    "                    <td class=\"shield_left\">Tags</td>\n",
    "                    <td class=\"shield_right\" id=\"tags\">other&#9729;Python&#9729;practice</td>\n",
    "                </tr>\n",
    "            </table>\n",
    "        </span>\n",
    "        <!-- [OR] Visit https://img.shields.io in order to create a tag badge-->\n",
    "    </div>\n",
    "</div>"
   ]
  },
  {
   "cell_type": "markdown",
   "metadata": {
    "deletable": false,
    "editable": false,
    "hideCode": false,
    "hidePrompt": false,
    "slideshow": {
     "slide_type": "skip"
    },
    "solved": false,
    "tags": [
     "test"
    ],
    "template": true,
    "undeletable": true
   },
   "source": [
    "In this notebook you will be able to learn Python by using Python. Here, you will learn the basics of Python programming, while applying that knowledge in practical examples."
   ]
  },
  {
   "cell_type": "markdown",
   "metadata": {
    "deletable": false,
    "editable": false,
    "hideCode": false,
    "hidePrompt": false,
    "slideshow": {
     "slide_type": "skip"
    },
    "solved": false,
    "template": true,
    "undeletable": true
   },
   "source": [
    "<hr>"
   ]
  },
  {
   "cell_type": "code",
   "execution_count": null,
   "metadata": {
    "deletable": false,
    "hide": true,
    "init_cell": true,
    "slideshow": {
     "slide_type": "skip"
    },
    "solved": false,
    "undeletable": true
   },
   "outputs": [],
   "source": [
    "from io import StringIO\n",
    "import sys\n",
    "from os import devnull\n",
    "\n",
    "def get_printed_cell(cell, *args):\n",
    "    old_stdout = sys.stdout\n",
    "    sys.stdout = mystdout = StringIO()\n",
    "    try:\n",
    "        if type(cell) == str:\n",
    "            exec(cell)\n",
    "        elif type(cell) == list:\n",
    "            for command in cell:\n",
    "                eval(command)\n",
    "        elif callable(cell):\n",
    "            cell(*args)\n",
    "    finally:\n",
    "        sys.stdout = old_stdout\n",
    "\n",
    "    return mystdout.getvalue()\n",
    "\n",
    "class HiddenPrints:\n",
    "    def __enter__(self):\n",
    "        self._original_stdout = sys.stdout\n",
    "        sys.stdout = open(devnull, 'w')\n",
    "\n",
    "    def __exit__(self, exc_type, exc_val, exc_tb):\n",
    "        sys.stdout.close()\n",
    "        sys.stdout = self._original_stdout\n",
    "\n",
    "enable = [True]*6"
   ]
  },
  {
   "cell_type": "markdown",
   "metadata": {
    "deletable": false,
    "editable": false,
    "hideCode": false,
    "hidePrompt": false,
    "hide_input": false,
    "slideshow": {
     "slide_type": "slide"
    },
    "solved": false,
    "undeletable": true
   },
   "source": [
    "<p class=\"steps\">1 - Define a variable</p>\n",
    "In Python, variables are not required to be defined regarding their type. So, the same variable can be a number, a boolean, a string, a list, etc. Try to assign the number <b>5</b> to a variable <b>a</b> using the operator <b>=</b> ."
   ]
  },
  {
   "cell_type": "code",
   "execution_count": null,
   "metadata": {
    "deletable": false,
    "hideCode": false,
    "hidePrompt": false,
    "hide_input": false,
    "solved": true,
    "undeletable": true
   },
   "outputs": [],
   "source": []
  },
  {
   "cell_type": "code",
   "execution_count": null,
   "metadata": {
    "deletable": false,
    "slideshow": {
     "slide_type": "fragment"
    },
    "solved": false,
    "test": true,
    "undeletable": true
   },
   "outputs": [],
   "source": [
    "try:\n",
    "    with HiddenPrints():\n",
    "        assert a == 5\n",
    "    print(\"Passed!\")\n",
    "except AssertionError as e:\n",
    "    print(\"Failed...\")\n",
    "except Exception as e:\n",
    "    if _i is not '':\n",
    "        print(\"Error: \", e)\n",
    "        print(\"Failed...\")\n",
    "    pass"
   ]
  },
  {
   "cell_type": "markdown",
   "metadata": {
    "deletable": false,
    "editable": false,
    "hideCode": false,
    "hidePrompt": false,
    "hide_input": false,
    "slideshow": {
     "slide_type": "slide"
    },
    "solved": false,
    "undeletable": true
   },
   "source": [
    "Now, change that variable to the string <b>\"Hello World!\"</b>"
   ]
  },
  {
   "cell_type": "code",
   "execution_count": null,
   "metadata": {
    "deletable": false,
    "hideCode": false,
    "hidePrompt": false,
    "hide_input": false,
    "scrolled": true,
    "solved": false,
    "undeletable": true
   },
   "outputs": [],
   "source": []
  },
  {
   "cell_type": "code",
   "execution_count": null,
   "metadata": {
    "deletable": false,
    "slideshow": {
     "slide_type": "fragment"
    },
    "solved": false,
    "test": true,
    "undeletable": true
   },
   "outputs": [],
   "source": [
    "try:\n",
    "    with HiddenPrints():\n",
    "        assert a == \"Hello World!\"\n",
    "    print(\"Passed!\")\n",
    "except AssertionError as e:\n",
    "    print(\"Failed...\", e)\n",
    "except Exception as e:\n",
    "    if _i is not '':\n",
    "        print(\"Error: \", e)\n",
    "        print(\"Failed...\")\n",
    "    pass"
   ]
  },
  {
   "cell_type": "markdown",
   "metadata": {
    "deletable": false,
    "editable": false,
    "hideCode": false,
    "hidePrompt": false,
    "slideshow": {
     "slide_type": "fragment"
    },
    "solved": false,
    "undeletable": true
   },
   "source": [
    "<strong class=\"color2\">See how the same variable can be defined with different types?</strong> This is a very powerful feature of Python, but with great power, comes greater responsibility. When writing code you need to be extra careful because a change in the type of one variable may alter the behavior of an application. However, with practice you will find this a fantastic feature!"
   ]
  },
  {
   "cell_type": "markdown",
   "metadata": {
    "deletable": false,
    "editable": false,
    "hideCode": false,
    "hidePrompt": false,
    "slideshow": {
     "slide_type": "slide"
    },
    "solved": false,
    "undeletable": true
   },
   "source": [
    "<p class=\"steps\">2 - Print statement</p>\n",
    "Print is a built-in function that allows one to show whatever string that is given as input in the console. In the next cell, try to print <b>\"Hello World!\"</b> in the console.\n",
    "\n",
    "<span class=\"color5\"><b>Note:</b> the parenthesis are the way that Python recognizes that you are calling a function. Inside those parenthesis, we insert the inputs for the function, to which we call arguments of the function. There are functions that have no arguments, and so the parenthesis will be empty. (Don't worry if this is too complicated, we will get to functions latter in this notebook)</span>"
   ]
  },
  {
   "cell_type": "code",
   "execution_count": null,
   "metadata": {
    "deletable": false,
    "hideCode": false,
    "hidePrompt": false,
    "slideshow": {
     "slide_type": "fragment"
    },
    "solved": false,
    "undeletable": true
   },
   "outputs": [],
   "source": []
  },
  {
   "cell_type": "code",
   "execution_count": null,
   "metadata": {
    "deletable": false,
    "scrolled": true,
    "slideshow": {
     "slide_type": "fragment"
    },
    "solved": false,
    "test": true,
    "undeletable": true
   },
   "outputs": [],
   "source": [
    "# Test Cell\n",
    "try:\n",
    "    with HiddenPrints():\n",
    "        output = get_printed_cell(_i)\n",
    "        assert \"Hello World!\" in output\n",
    "    print(\"Passed!\")\n",
    "except AssertionError as e:\n",
    "    print(\"Failed...\", e)\n",
    "except Exception as e:\n",
    "    if _i is not '':\n",
    "        print(\"Error: \", e)\n",
    "        print(\"Failed...\")\n",
    "    pass"
   ]
  },
  {
   "cell_type": "markdown",
   "metadata": {
    "deletable": false,
    "editable": false,
    "hideCode": false,
    "hidePrompt": false,
    "slideshow": {
     "slide_type": "slide"
    },
    "solved": false,
    "undeletable": true
   },
   "source": [
    "Next, print the variable <b>a</b> that you defined before."
   ]
  },
  {
   "cell_type": "code",
   "execution_count": null,
   "metadata": {
    "deletable": false,
    "hideCode": false,
    "hidePrompt": false,
    "slideshow": {
     "slide_type": "fragment"
    },
    "solved": false,
    "undeletable": true
   },
   "outputs": [],
   "source": []
  },
  {
   "cell_type": "code",
   "execution_count": null,
   "metadata": {
    "deletable": false,
    "slideshow": {
     "slide_type": "fragment"
    },
    "solved": false,
    "test": true,
    "undeletable": true
   },
   "outputs": [],
   "source": [
    "# Test Cell\n",
    "try:\n",
    "    with HiddenPrints():\n",
    "        input_cell = _i\n",
    "        output = get_printed_cell(input_cell)\n",
    "        assert \"Hello World!\" in output and \"Hello World\" not in input_cell\n",
    "    print(\"Passed!\")\n",
    "except AssertionError as e:\n",
    "    print(\"Failed...\", e)\n",
    "except Exception as e:\n",
    "    if _i is not '':\n",
    "        print(\"Error: \", e)\n",
    "        print(\"Failed...\")\n",
    "    pass"
   ]
  },
  {
   "cell_type": "markdown",
   "metadata": {
    "deletable": false,
    "editable": false,
    "hideCode": false,
    "hidePrompt": false,
    "slideshow": {
     "slide_type": "fragment"
    },
    "solved": false,
    "undeletable": true
   },
   "source": [
    "<strong class=\"color2\">See how the result is the same?</strong> That's because your variable was defined as \"Hello World!\", the same string you printed in the previous cell. Go ahead and change the value of your variable and try to print it again, to see how it affects the output of the print statement. You can print variables whichever types they are."
   ]
  },
  {
   "cell_type": "markdown",
   "metadata": {
    "deletable": false,
    "editable": false,
    "hideCode": false,
    "hidePrompt": false,
    "slideshow": {
     "slide_type": "slide"
    },
    "solved": false,
    "undeletable": true
   },
   "source": [
    "<p class=\"steps\">3 - Working with lists</p>\n",
    "Lists in Python are data structures that are ordered, changeable and allow duplicate members. This means that they allow to store other data structures and then to retrieve them given their position in the list. If this seems too complicated, follow the practical example.\n",
    "\n",
    "In this example, we will use the temperature readings in degrees Celcius of an individual during one week."
   ]
  },
  {
   "cell_type": "code",
   "execution_count": null,
   "metadata": {
    "deletable": false,
    "editable": false,
    "example": true,
    "hideCode": false,
    "hidePrompt": false,
    "slideshow": {
     "slide_type": "fragment"
    },
    "solved": false,
    "undeletable": true
   },
   "outputs": [],
   "source": [
    "temperatures = [36, 35, 38, 37, 40, 39, 41]"
   ]
  },
  {
   "cell_type": "markdown",
   "metadata": {
    "deletable": false,
    "editable": false,
    "hideCode": false,
    "hidePrompt": false,
    "slideshow": {
     "slide_type": "fragment"
    },
    "solved": false,
    "undeletable": true
   },
   "source": [
    "So, we end up with a list composed of seven values. Remember that lists in Python start with index 0. Thus, the position 0 of <b>temperatures</b> corresponds to 36, the position 1 of <b>temperatures</b> corresponds to 35 and so on. In the next cell, we will retrieve the temperature reading of day 1 (position 0 of the list)."
   ]
  },
  {
   "cell_type": "code",
   "execution_count": null,
   "metadata": {
    "deletable": false,
    "editable": false,
    "example": true,
    "hideCode": false,
    "hidePrompt": false,
    "slideshow": {
     "slide_type": "fragment"
    },
    "solved": false,
    "undeletable": true
   },
   "outputs": [],
   "source": [
    "temperatures[0]"
   ]
  },
  {
   "cell_type": "markdown",
   "metadata": {
    "deletable": false,
    "editable": false,
    "hideCode": false,
    "hidePrompt": false,
    "slideshow": {
     "slide_type": "slide"
    },
    "solved": false,
    "undeletable": true
   },
   "source": [
    "Now, we would like to get the temperature reading of the 3rd day. Retrieve that value in the next cell."
   ]
  },
  {
   "cell_type": "code",
   "execution_count": null,
   "metadata": {
    "deletable": false,
    "hideCode": false,
    "hidePrompt": false,
    "slideshow": {
     "slide_type": "fragment"
    },
    "solved": false,
    "undeletable": true
   },
   "outputs": [],
   "source": []
  },
  {
   "cell_type": "code",
   "execution_count": null,
   "metadata": {
    "deletable": false,
    "slideshow": {
     "slide_type": "fragment"
    },
    "solved": false,
    "test": true,
    "undeletable": true
   },
   "outputs": [],
   "source": [
    "# Test Cell\n",
    "try:\n",
    "    with HiddenPrints():\n",
    "        assert int(_) == temperatures[2]\n",
    "    print(\"Passed!\")\n",
    "except AssertionError as e:\n",
    "    print(\"Failed...\", e)\n",
    "except Exception as e:\n",
    "    if _i is not '':\n",
    "        print(\"Error: \", e)\n",
    "        print(\"Failed...\")\n",
    "    pass"
   ]
  },
  {
   "cell_type": "markdown",
   "metadata": {
    "deletable": false,
    "editable": false,
    "hideCode": false,
    "hidePrompt": false,
    "slideshow": {
     "slide_type": "slide"
    },
    "solved": false,
    "undeletable": true
   },
   "source": [
    "Okay, so it is very easy to get the values of specific days using lists. But what if we just wanted the last reading and we didn't know the number of temperature readings of the list? Well, Python takes care of that too. The next cell shows how to get the value of the last temperature reading of the list."
   ]
  },
  {
   "cell_type": "code",
   "execution_count": null,
   "metadata": {
    "deletable": false,
    "editable": false,
    "example": true,
    "hideCode": false,
    "hidePrompt": false,
    "slideshow": {
     "slide_type": "fragment"
    },
    "solved": false,
    "undeletable": true
   },
   "outputs": [],
   "source": [
    "temperatures[-1]"
   ]
  },
  {
   "cell_type": "markdown",
   "metadata": {
    "deletable": false,
    "editable": false,
    "hideCode": false,
    "hidePrompt": false,
    "slideshow": {
     "slide_type": "slide"
    },
    "solved": false,
    "undeletable": true
   },
   "source": [
    "Now, get the third to last temperature reading of the list."
   ]
  },
  {
   "cell_type": "code",
   "execution_count": null,
   "metadata": {
    "deletable": false,
    "hideCode": false,
    "hidePrompt": false,
    "slideshow": {
     "slide_type": "fragment"
    },
    "solved": false,
    "undeletable": true
   },
   "outputs": [],
   "source": []
  },
  {
   "cell_type": "code",
   "execution_count": null,
   "metadata": {
    "deletable": false,
    "slideshow": {
     "slide_type": "fragment"
    },
    "solved": false,
    "test": true,
    "undeletable": true
   },
   "outputs": [],
   "source": [
    "# Test Cell\n",
    "try:\n",
    "    with HiddenPrints():\n",
    "        assert int(_) == temperatures[-3]\n",
    "    print(\"Passed!\")\n",
    "except AssertionError as e:\n",
    "    print(\"Failed...\", e)\n",
    "except Exception as e:\n",
    "    if _i is not '':\n",
    "        print(\"Error: \", e)\n",
    "        print(\"Failed...\")\n",
    "    pass"
   ]
  },
  {
   "cell_type": "markdown",
   "metadata": {
    "deletable": false,
    "editable": false,
    "hideCode": false,
    "hidePrompt": false,
    "slideshow": {
     "slide_type": "fragment"
    },
    "solved": false,
    "undeletable": true
   },
   "source": [
    "<strong class=\"color2\">See how you can refer to indexes relative to the end of the list?</strong> That is another very powerful feature of Python. Other languages would require you to calculate the length of the list and then subtract the number of indexes from that value. In Python you specify all that with a negative number."
   ]
  },
  {
   "cell_type": "markdown",
   "metadata": {
    "deletable": false,
    "editable": false,
    "slideshow": {
     "slide_type": "slide"
    },
    "solved": false,
    "undeletable": true
   },
   "source": [
    "Next, we will get the readings of various days. Specifically, we want to get the reading of the second, third and fourth day."
   ]
  },
  {
   "cell_type": "code",
   "execution_count": null,
   "metadata": {
    "deletable": false,
    "editable": false,
    "example": true,
    "hideCode": false,
    "hidePrompt": false,
    "slideshow": {
     "slide_type": "fragment"
    },
    "solved": false,
    "undeletable": true
   },
   "outputs": [],
   "source": [
    "temperatures[1:4]"
   ]
  },
  {
   "cell_type": "markdown",
   "metadata": {
    "deletable": false,
    "editable": false,
    "hideCode": false,
    "hidePrompt": false,
    "slideshow": {
     "slide_type": "slide"
    },
    "solved": false,
    "undeletable": true
   },
   "source": [
    "Try to do the same, but get the values from the first day to the second to last, using the same scheme we have been following."
   ]
  },
  {
   "cell_type": "code",
   "execution_count": null,
   "metadata": {
    "deletable": false,
    "hideCode": false,
    "hidePrompt": false,
    "slideshow": {
     "slide_type": "fragment"
    },
    "solved": false,
    "undeletable": true
   },
   "outputs": [],
   "source": []
  },
  {
   "cell_type": "code",
   "execution_count": null,
   "metadata": {
    "deletable": false,
    "slideshow": {
     "slide_type": "fragment"
    },
    "solved": false,
    "test": true,
    "undeletable": true
   },
   "outputs": [],
   "source": [
    "# Test Cell\n",
    "# Test Cell\n",
    "try:\n",
    "    with HiddenPrints():\n",
    "        assert _ == temperatures[0:-2]\n",
    "        assert '-2' in _i\n",
    "    print(\"Passed!\")\n",
    "except AssertionError as e:\n",
    "    print(\"Failed...\", e)\n",
    "except Exception as e:\n",
    "    if _i is not '':\n",
    "        print(\"Error: \", e)\n",
    "        print(\"Failed...\")\n",
    "    pass"
   ]
  },
  {
   "cell_type": "markdown",
   "metadata": {
    "deletable": false,
    "editable": false,
    "hideCode": false,
    "hidePrompt": false,
    "slideshow": {
     "slide_type": "slide"
    },
    "solved": false,
    "undeletable": true
   },
   "source": [
    "The same could be achieved by using the code:"
   ]
  },
  {
   "cell_type": "code",
   "execution_count": null,
   "metadata": {
    "deletable": false,
    "editable": false,
    "example": true,
    "hideCode": false,
    "hidePrompt": false,
    "slideshow": {
     "slide_type": "fragment"
    },
    "solved": false,
    "undeletable": true
   },
   "outputs": [],
   "source": [
    "temperatures[:-2]"
   ]
  },
  {
   "cell_type": "markdown",
   "metadata": {
    "deletable": false,
    "editable": false,
    "slideshow": {
     "slide_type": "slide"
    },
    "solved": false,
    "undeletable": true
   },
   "source": [
    "Given what you have learned so far, how would you get the values from the third day to the last?"
   ]
  },
  {
   "cell_type": "code",
   "execution_count": null,
   "metadata": {
    "deletable": false,
    "slideshow": {
     "slide_type": "fragment"
    },
    "solved": false,
    "undeletable": true
   },
   "outputs": [],
   "source": []
  },
  {
   "cell_type": "code",
   "execution_count": null,
   "metadata": {
    "deletable": false,
    "slideshow": {
     "slide_type": "fragment"
    },
    "solved": false,
    "test": true,
    "undeletable": true
   },
   "outputs": [],
   "source": [
    "# Test Cell\n",
    "try:\n",
    "    with HiddenPrints():\n",
    "        assert _ == temperatures[2:]\n",
    "    print(\"Passed!\")\n",
    "except AssertionError as e:\n",
    "    print(\"Failed...\", e)\n",
    "except Exception as e:\n",
    "    if _i is not '':\n",
    "        print(\"Error: \", e)\n",
    "        print(\"Failed...\")\n",
    "    pass"
   ]
  },
  {
   "cell_type": "markdown",
   "metadata": {
    "deletable": false,
    "editable": false,
    "slideshow": {
     "slide_type": "slide"
    },
    "solved": false,
    "undeletable": true
   },
   "source": [
    "And how would you get the values from the beginning until the fourth day?"
   ]
  },
  {
   "cell_type": "code",
   "execution_count": null,
   "metadata": {
    "deletable": false,
    "slideshow": {
     "slide_type": "fragment"
    },
    "solved": false,
    "undeletable": true
   },
   "outputs": [],
   "source": []
  },
  {
   "cell_type": "code",
   "execution_count": null,
   "metadata": {
    "deletable": false,
    "slideshow": {
     "slide_type": "fragment"
    },
    "solved": false,
    "test": true,
    "undeletable": true
   },
   "outputs": [],
   "source": [
    "# Test Cell\n",
    "try:\n",
    "    with HiddenPrints():\n",
    "        assert _ == temperatures[:4]\n",
    "    print(\"Passed!\")\n",
    "    enable[0] = False\n",
    "except AssertionError as e:\n",
    "    print(\"Failed...\", e)\n",
    "except Exception as e:\n",
    "    if _i is not '':\n",
    "        print(\"Error: \", e)\n",
    "        print(\"Failed...\")\n",
    "    pass"
   ]
  },
  {
   "cell_type": "markdown",
   "metadata": {
    "deletable": false,
    "editable": false,
    "slideshow": {
     "slide_type": "slide"
    },
    "solved": false,
    "undeletable": true
   },
   "source": [
    "Run the next cell and verify its result."
   ]
  },
  {
   "cell_type": "code",
   "execution_count": null,
   "metadata": {
    "deletable": false,
    "editable": false,
    "example": true,
    "hideCode": false,
    "hidePrompt": false,
    "slideshow": {
     "slide_type": "fragment"
    },
    "solved": false,
    "undeletable": true
   },
   "outputs": [],
   "source": [
    "temperatures[::2]"
   ]
  },
  {
   "cell_type": "code",
   "execution_count": null,
   "metadata": {
    "deletable": false,
    "hide": true,
    "init_cell": true,
    "slideshow": {
     "slide_type": "fragment"
    },
    "solved": false,
    "undeletable": true
   },
   "outputs": [],
   "source": [
    "# Hide this cell\n",
    "import ipywidgets as widgets\n",
    "from IPython.display import display\n",
    "\n",
    "print('What is the result?', end='')\n",
    "question_1 = widgets.RadioButtons(\n",
    "    options=['Get the values until index 2', 'Get the values from index 2', 'Get the values from the beginning to end skipping one value in alternance', 'Duplicate the values from the beginning to end in alternance'],\n",
    "    layout={'width': 'max-content'}, # If the items' names are long\n",
    "    description='',\n",
    "    value = None,\n",
    "    # disabled=enable[0]\n",
    ")\n",
    "\n",
    "display(question_1)"
   ]
  },
  {
   "cell_type": "code",
   "execution_count": null,
   "metadata": {
    "deletable": false,
    "slideshow": {
     "slide_type": "fragment"
    },
    "solved": false,
    "test": true,
    "undeletable": true
   },
   "outputs": [],
   "source": [
    "# Test Cell\n",
    "try:\n",
    "    with HiddenPrints():\n",
    "        assert question_1.value == question_1.options[2]\n",
    "    print(\"Passed!\")\n",
    "except AssertionError as e:\n",
    "    print(\"Failed...\", e)\n",
    "except Exception as e:\n",
    "    pass"
   ]
  },
  {
   "cell_type": "markdown",
   "metadata": {
    "deletable": false,
    "editable": false,
    "slideshow": {
     "slide_type": "slide"
    },
    "solved": false,
    "undeletable": true
   },
   "source": [
    "Based on the previous question, get the temperatures of the days with interval of 2 starting on the second day and finishing on the second to last."
   ]
  },
  {
   "cell_type": "code",
   "execution_count": null,
   "metadata": {
    "deletable": false,
    "slideshow": {
     "slide_type": "fragment"
    },
    "solved": false,
    "undeletable": true
   },
   "outputs": [],
   "source": []
  },
  {
   "cell_type": "code",
   "execution_count": null,
   "metadata": {
    "deletable": false,
    "slideshow": {
     "slide_type": "fragment"
    },
    "solved": false,
    "test": true,
    "undeletable": true
   },
   "outputs": [],
   "source": [
    "# Test Cell\n",
    "try:\n",
    "    with HiddenPrints():\n",
    "        assert _ == temperatures[1:-1:2]\n",
    "    print(\"Passed!\")\n",
    "    enable[1] = False\n",
    "except AssertionError as e:\n",
    "    print(\"Failed...\", e)\n",
    "except Exception as e:\n",
    "    if _i is not '':\n",
    "        print(\"Error: \", e)\n",
    "        print(\"Failed...\")\n",
    "    pass"
   ]
  },
  {
   "cell_type": "code",
   "execution_count": null,
   "metadata": {
    "deletable": false,
    "hide": true,
    "init_cell": true,
    "slideshow": {
     "slide_type": "fragment"
    },
    "solved": false,
    "undeletable": true
   },
   "outputs": [],
   "source": [
    "print('Given this, what do you expect to be the behavior of temperatures[::-1]?', end='')\n",
    "question_2 = widgets.RadioButtons(\n",
    "    options=['Get the last value', 'Get the list in backwards order.', 'Sort the values starting by the last', 'Get all values but the last'],\n",
    "    layout={'width': 'max-content'}, # If the items' names are long\n",
    "    description='',\n",
    "    value = None,\n",
    "    # disabled=enable[1]\n",
    ")\n",
    "\n",
    "display(question_2)"
   ]
  },
  {
   "cell_type": "code",
   "execution_count": null,
   "metadata": {
    "deletable": false,
    "slideshow": {
     "slide_type": "fragment"
    },
    "solved": false,
    "test": true,
    "undeletable": true
   },
   "outputs": [],
   "source": [
    "# Test Cell\n",
    "try:\n",
    "    with HiddenPrints():\n",
    "        assert question_2.value == question_2.options[1]\n",
    "    print(\"Passed!\")\n",
    "except AssertionError as e:\n",
    "    print(\"Failed...\", e)\n",
    "except Exception as e:\n",
    "    pass"
   ]
  },
  {
   "cell_type": "markdown",
   "metadata": {
    "deletable": false,
    "editable": false,
    "slideshow": {
     "slide_type": "slide"
    },
    "solved": false,
    "undeletable": true
   },
   "source": [
    "Specifically Jupyter and IPython allow to easily explore the various types of variables and the functions associated to each type or object. For the next exercises, if you are not certain about built-in functions, try to write the name of the variable, add a point and press the `Tab` key, such as, `temperatures.` + `Tab`.\n",
    "\n",
    "In the next cell, you can find an example of how to use a function that is present for every list. In this case, it will return the index of the first occurrence of the number 38."
   ]
  },
  {
   "cell_type": "code",
   "execution_count": null,
   "metadata": {
    "deletable": false,
    "editable": false,
    "example": true,
    "hideCode": false,
    "hidePrompt": false,
    "slideshow": {
     "slide_type": "fragment"
    },
    "solved": false,
    "undeletable": true
   },
   "outputs": [],
   "source": [
    "temperatures.index(38)"
   ]
  },
  {
   "cell_type": "markdown",
   "metadata": {
    "deletable": false,
    "editable": false,
    "slideshow": {
     "slide_type": "slide"
    },
    "solved": false,
    "undeletable": true
   },
   "source": [
    "Analogously, count the number of occurrences of the number 38 using a built-in function associated to lists."
   ]
  },
  {
   "cell_type": "code",
   "execution_count": null,
   "metadata": {
    "deletable": false,
    "slideshow": {
     "slide_type": "fragment"
    },
    "solved": false,
    "undeletable": true
   },
   "outputs": [],
   "source": []
  },
  {
   "cell_type": "code",
   "execution_count": null,
   "metadata": {
    "deletable": false,
    "slideshow": {
     "slide_type": "fragment"
    },
    "solved": false,
    "test": true,
    "undeletable": true
   },
   "outputs": [],
   "source": [
    "# Test Cell\n",
    "try:\n",
    "    assert _ == temperatures.count(38)\n",
    "    print(\"Passed!\")\n",
    "    enable[2] = False\n",
    "except:\n",
    "    print(\"Failed...\")"
   ]
  },
  {
   "cell_type": "code",
   "execution_count": null,
   "metadata": {
    "deletable": false,
    "hide": true,
    "init_cell": true,
    "slideshow": {
     "slide_type": "fragment"
    },
    "solved": false,
    "undeletable": true
   },
   "outputs": [],
   "source": [
    "print('What do you think the instruction temperatures.sort() would do?', end='')\n",
    "question_3 = widgets.RadioButtons(\n",
    "    options=['Sort the values in a descending way.', 'Sort the values in an ascending way.', 'Create a new sorted list.', 'Randomly sort the list.'],\n",
    "    layout={'width': 'max-content'}, # If the items' names are long\n",
    "    description='',\n",
    "    value = None,\n",
    "    # disabled=enable[2]\n",
    ")\n",
    "\n",
    "display(question_3)"
   ]
  },
  {
   "cell_type": "code",
   "execution_count": null,
   "metadata": {
    "deletable": false,
    "slideshow": {
     "slide_type": "fragment"
    },
    "solved": false,
    "test": true,
    "undeletable": true
   },
   "outputs": [],
   "source": [
    "# Test Cell\n",
    "try:\n",
    "    with HiddenPrints():\n",
    "        assert question_3.value == question_3.options[1]\n",
    "    print(\"Passed!\")\n",
    "except AssertionError as e:\n",
    "    print(\"Failed...\", e)\n",
    "except Exception as e:\n",
    "    if _i is not '':\n",
    "        print(\"Error: \", e)\n",
    "        print(\"Failed...\")\n",
    "    pass"
   ]
  },
  {
   "cell_type": "markdown",
   "metadata": {
    "deletable": false,
    "editable": false,
    "slideshow": {
     "slide_type": "slide"
    },
    "solved": false,
    "undeletable": true
   },
   "source": [
    "Jupyter also allows to investigate the arguments and outputs of a given function by using the `?` operator, such as demonstrated in the next cell."
   ]
  },
  {
   "cell_type": "code",
   "execution_count": null,
   "metadata": {
    "deletable": false,
    "editable": false,
    "example": true,
    "hideCode": false,
    "hidePrompt": false,
    "slideshow": {
     "slide_type": "fragment"
    },
    "solved": false,
    "undeletable": true
   },
   "outputs": [],
   "source": [
    "temperatures.sort?"
   ]
  },
  {
   "cell_type": "markdown",
   "metadata": {
    "deletable": false,
    "editable": false,
    "slideshow": {
     "slide_type": "slide"
    },
    "solved": false,
    "undeletable": true
   },
   "source": [
    "Given the result of the previous cell, sort the `temperatures` list in a descending way."
   ]
  },
  {
   "cell_type": "code",
   "execution_count": null,
   "metadata": {
    "deletable": false,
    "slideshow": {
     "slide_type": "fragment"
    },
    "solved": false,
    "undeletable": true
   },
   "outputs": [],
   "source": []
  },
  {
   "cell_type": "code",
   "execution_count": null,
   "metadata": {
    "deletable": false,
    "slideshow": {
     "slide_type": "fragment"
    },
    "solved": false,
    "test": true,
    "undeletable": true
   },
   "outputs": [],
   "source": [
    "# Test Cell\n",
    "try:\n",
    "    with HiddenPrints():\n",
    "        aux = temperatures.copy()\n",
    "        aux.sort(reverse=True)\n",
    "        assert temperatures == aux\n",
    "    print(\"Passed!\")\n",
    "    temperatures = [36, 35, 38, 37, 40, 39, 41]\n",
    "except AssertionError as e:\n",
    "    print(\"Failed...\", e)\n",
    "except Exception as e:\n",
    "    if _i is not '':\n",
    "        print(\"Error: \", e)\n",
    "        print(\"Failed...\")\n",
    "    pass"
   ]
  },
  {
   "cell_type": "markdown",
   "metadata": {
    "deletable": false,
    "editable": false,
    "slideshow": {
     "slide_type": "slide"
    },
    "solved": false,
    "undeletable": true
   },
   "source": [
    "Finally, lists allow to easily append new data. This new data is appended to the last position of the list and can be retrieved normally. In the next cell, append the value `36` to the `temperatures` list."
   ]
  },
  {
   "cell_type": "code",
   "execution_count": null,
   "metadata": {
    "deletable": false,
    "slideshow": {
     "slide_type": "fragment"
    },
    "solved": false,
    "undeletable": true
   },
   "outputs": [],
   "source": []
  },
  {
   "cell_type": "code",
   "execution_count": null,
   "metadata": {
    "deletable": false,
    "slideshow": {
     "slide_type": "fragment"
    },
    "solved": false,
    "test": true,
    "undeletable": true
   },
   "outputs": [],
   "source": [
    "# Test Cell\n",
    "try:\n",
    "    with HiddenPrints():\n",
    "        assert temperatures.pop() == 36\n",
    "        assert temperatures == [36, 35, 38, 37, 40, 39, 41]\n",
    "    print(\"Passed!\")\n",
    "except AssertionError as e:\n",
    "    print(\"Failed...\", e)\n",
    "except Exception as e:\n",
    "    if _i is not '':\n",
    "        print(\"Error: \", e)\n",
    "        print(\"Failed...\")\n",
    "    pass"
   ]
  },
  {
   "cell_type": "markdown",
   "metadata": {
    "deletable": false,
    "editable": false,
    "slideshow": {
     "slide_type": "slide"
    },
    "solved": false,
    "undeletable": true
   },
   "source": [
    "<p class=\"steps\">4 - Working with strings</p>\n",
    "Strings are immutable sequence of characters. Their manipulation, though similar to lists, has some differences that are worth exploring.\n",
    "\n",
    "First, we will define a variable of type string. As you know by now, we don't need to specify the type explicitly, once Python recognizes it automatically."
   ]
  },
  {
   "cell_type": "code",
   "execution_count": null,
   "metadata": {
    "deletable": false,
    "editable": false,
    "example": true,
    "hideCode": false,
    "hidePrompt": false,
    "slideshow": {
     "slide_type": "fragment"
    },
    "solved": false,
    "undeletable": true
   },
   "outputs": [],
   "source": [
    "example = 'Python'"
   ]
  },
  {
   "cell_type": "markdown",
   "metadata": {
    "deletable": false,
    "editable": false,
    "slideshow": {
     "slide_type": "fragment"
    },
    "solved": false,
    "undeletable": true
   },
   "source": [
    "To prove that it is very similar to lists, get the first character of the list `example`."
   ]
  },
  {
   "cell_type": "code",
   "execution_count": null,
   "metadata": {
    "deletable": false,
    "slideshow": {
     "slide_type": "fragment"
    },
    "solved": false,
    "undeletable": true
   },
   "outputs": [],
   "source": []
  },
  {
   "cell_type": "code",
   "execution_count": null,
   "metadata": {
    "deletable": false,
    "slideshow": {
     "slide_type": "fragment"
    },
    "solved": false,
    "test": true,
    "undeletable": true
   },
   "outputs": [],
   "source": [
    "# Test Cell\n",
    "try:\n",
    "    with HiddenPrints():\n",
    "        assert example[0] == _\n",
    "    print(\"Passed!\")\n",
    "except AssertionError as e:\n",
    "    print(\"Failed...\", e)\n",
    "except Exception as e:\n",
    "    if _i is not '':\n",
    "        print(\"Error: \", e)\n",
    "        print(\"Failed...\")"
   ]
  },
  {
   "cell_type": "markdown",
   "metadata": {
    "deletable": false,
    "editable": false,
    "slideshow": {
     "slide_type": "slide"
    },
    "solved": false,
    "undeletable": true
   },
   "source": [
    "To concatenate two strings, we only need to _add_ them using the `+` operator. Define a new variable `other_example` that should be `' is the best'` and concatenate `example` with `other_example`."
   ]
  },
  {
   "cell_type": "code",
   "execution_count": null,
   "metadata": {
    "deletable": false,
    "slideshow": {
     "slide_type": "fragment"
    },
    "solved": false,
    "undeletable": true
   },
   "outputs": [],
   "source": []
  },
  {
   "cell_type": "code",
   "execution_count": null,
   "metadata": {
    "deletable": false,
    "slideshow": {
     "slide_type": "fragment"
    },
    "solved": false,
    "test": true,
    "undeletable": true
   },
   "outputs": [],
   "source": [
    "# Test Cell\n",
    "try:\n",
    "    with HiddenPrints():\n",
    "        assert example + other_example == _\n",
    "    print(\"Passed!\")\n",
    "except AssertionError as e:\n",
    "    print(\"Failed...\", e)\n",
    "except Exception as e:\n",
    "    if _i is not '':\n",
    "        print(\"Error: \", e)\n",
    "        print(\"Failed...\")\n",
    "    pass"
   ]
  },
  {
   "cell_type": "markdown",
   "metadata": {
    "deletable": false,
    "editable": false,
    "slideshow": {
     "slide_type": "slide"
    },
    "solved": false,
    "undeletable": true
   },
   "source": [
    "If your goal is to concatenate the same string with itself multiple times, you can simply use the `*` operator, for example, `example*10`. In the next cell, concatenate the string `example` with 10 times the string `other_example`."
   ]
  },
  {
   "cell_type": "code",
   "execution_count": null,
   "metadata": {
    "deletable": false,
    "slideshow": {
     "slide_type": "fragment"
    },
    "solved": false,
    "undeletable": true
   },
   "outputs": [],
   "source": []
  },
  {
   "cell_type": "code",
   "execution_count": null,
   "metadata": {
    "deletable": false,
    "slideshow": {
     "slide_type": "fragment"
    },
    "solved": false,
    "test": true,
    "undeletable": true
   },
   "outputs": [],
   "source": [
    "# Test Cell\n",
    "try:\n",
    "    with HiddenPrints():\n",
    "        assert example + 10*other_example == _\n",
    "    print(\"Passed!\")\n",
    "except AssertionError as e:\n",
    "    print(\"Failed...\", e)\n",
    "except Exception as e:\n",
    "    if _i is not '':\n",
    "        print(\"Error: \", e)\n",
    "        print(\"Failed...\")\n",
    "    pass"
   ]
  },
  {
   "cell_type": "markdown",
   "metadata": {
    "deletable": false,
    "editable": false,
    "slideshow": {
     "slide_type": "slide"
    },
    "solved": false,
    "undeletable": true
   },
   "source": [
    "In the next cell, create a new variable `reversed_example` that should correspond to the reverse of the string `example`."
   ]
  },
  {
   "cell_type": "code",
   "execution_count": null,
   "metadata": {
    "deletable": false,
    "slideshow": {
     "slide_type": "fragment"
    },
    "solved": false,
    "undeletable": true
   },
   "outputs": [],
   "source": []
  },
  {
   "cell_type": "code",
   "execution_count": null,
   "metadata": {
    "deletable": false,
    "slideshow": {
     "slide_type": "fragment"
    },
    "solved": false,
    "test": true,
    "undeletable": true
   },
   "outputs": [],
   "source": [
    "# Test Cell\n",
    "# Test if the [::-1] part is part of the input of the above cell\n",
    "try:\n",
    "    with HiddenPrints():\n",
    "        assert '[::-1]' in _i\n",
    "        assert reversed_example == example[::-1]\n",
    "    print(\"Passed!\")\n",
    "except AssertionError as e:\n",
    "    print(\"Failed...\", e)\n",
    "except Exception as e:\n",
    "    if _i is not '':\n",
    "        print(\"Error: \", e)\n",
    "        print(\"Failed...\")\n",
    "    pass"
   ]
  },
  {
   "cell_type": "markdown",
   "metadata": {
    "deletable": false,
    "editable": false,
    "slideshow": {
     "slide_type": "slide"
    },
    "solved": false,
    "undeletable": true
   },
   "source": [
    "In the next cell, get the string `example` in all lower case.\n",
    "\n",
    "<span class=\"color5\"><b>Note:</b> Remember you can explore the built-in functions associated to the string object by using `example.` + `Tab`</span>"
   ]
  },
  {
   "cell_type": "code",
   "execution_count": null,
   "metadata": {
    "deletable": false,
    "slideshow": {
     "slide_type": "fragment"
    },
    "solved": false,
    "undeletable": true
   },
   "outputs": [],
   "source": []
  },
  {
   "cell_type": "code",
   "execution_count": null,
   "metadata": {
    "deletable": false,
    "slideshow": {
     "slide_type": "fragment"
    },
    "solved": false,
    "test": true,
    "undeletable": true
   },
   "outputs": [],
   "source": [
    "# Test Cell\n",
    "try:\n",
    "    with HiddenPrints():\n",
    "        assert _ == example.lower()\n",
    "    print(\"Passed!\")\n",
    "    enable[3] = False\n",
    "except AssertionError as e:\n",
    "    print(\"Failed...\", e)\n",
    "except Exception as e:\n",
    "    if _i is not '':\n",
    "        print(\"Error: \", e)\n",
    "        print(\"Failed...\")\n",
    "    pass"
   ]
  },
  {
   "cell_type": "markdown",
   "metadata": {
    "deletable": false,
    "editable": false,
    "slideshow": {
     "slide_type": "slide"
    },
    "solved": false,
    "undeletable": true
   },
   "source": [
    "It is also possible to compare strings using the `<`, `>` or other operators. Specifically, `<` and `>` compare two strings relative to the alphabetical order. Given your intuition, which of the next statements is true?"
   ]
  },
  {
   "cell_type": "code",
   "execution_count": null,
   "metadata": {
    "deletable": false,
    "hide": true,
    "init_cell": true,
    "slideshow": {
     "slide_type": "fragment"
    },
    "solved": false,
    "undeletable": true
   },
   "outputs": [],
   "source": [
    "question_4 = widgets.RadioButtons(\n",
    "    options=['The results must be the same for any computer.', \n",
    "             'The result may differ for different regions.', \n",
    "             'The results differs in different timezones.', \n",
    "             'The result may be random.'],\n",
    "    layout={'width': 'max-content'}, # If the items' names are long\n",
    "    description='',\n",
    "    value = None,\n",
    "    # disabled=enable[3]\n",
    ")\n",
    "\n",
    "display(question_4)"
   ]
  },
  {
   "cell_type": "code",
   "execution_count": null,
   "metadata": {
    "deletable": false,
    "slideshow": {
     "slide_type": "fragment"
    },
    "solved": false,
    "test": true,
    "undeletable": true
   },
   "outputs": [],
   "source": [
    "# Test Cell\n",
    "# Print a sentence saying: \"The result differs dependeing on the used alphabet, which depends on the local machine and region.\"\n",
    "try:\n",
    "    with HiddenPrints():\n",
    "        assert question_4.value == question_4.options[1]\n",
    "    print(\"Passed!\")\n",
    "    print(\"The result differs dependeing on the used alphabet, which depends on the local machine and region.\")\n",
    "except AssertionError as e:\n",
    "    print(\"Failed...\", e)\n",
    "except Exception as e:\n",
    "    pass"
   ]
  },
  {
   "cell_type": "markdown",
   "metadata": {
    "deletable": false,
    "editable": false,
    "slideshow": {
     "slide_type": "slide"
    },
    "solved": false,
    "undeletable": true
   },
   "source": [
    "<br><br>\n",
    "\n",
    "### Congratulations, you have finished this notebook successfully! You now possess all the knowledge to make your own applications using Python."
   ]
  },
  {
   "cell_type": "markdown",
   "metadata": {
    "deletable": false,
    "editable": false,
    "hideCode": false,
    "hidePrompt": false,
    "slideshow": {
     "slide_type": "fragment"
    },
    "solved": false,
    "tags": [
     "footer"
    ],
    "template": true,
    "undeletable": true
   },
   "source": [
    "<hr>\n",
    "<table width=\"100%\">\n",
    "    <tr>\n",
    "        <td class=\"footer_logo\">\n",
    "            <img src=\"../../images/ost_logo.png\" alt=\"biosignalsnotebooks | project logo [footer]\">\n",
    "        </td>\n",
    "        <td width=\"40%\" style=\"text-align:left\">\n",
    "            <a href=\"../MainFiles/aux_files/biosignalsnotebooks_presentation.pdf\" target=\"_blank\">&#9740; Project Presentation</a>\n",
    "            <br>\n",
    "            <a href=\"https://github.com/biosignalsplux/biosignalsnotebooks\" target=\"_blank\">&#9740; GitHub Repository</a>\n",
    "            <br>\n",
    "            <a href=\"https://pypi.org/project/biosignalsnotebooks/\" target=\"_blank\">&#9740; How to install biosignalsnotebooks Python package ?</a>\n",
    "            <br>\n",
    "            <a href=\"https://www.biosignalsplux.com/notebooks/Categories/MainFiles/signal_samples.ipynb\">&#9740; Signal Library</a>\n",
    "        </td>\n",
    "        <td width=\"40%\" style=\"text-align:left\">\n",
    "            <a href=\"https://www.biosignalsplux.com/notebooks/Categories/MainFiles/biosignalsnotebooks.ipynb\">&#9740; Notebook Categories</a>\n",
    "            <br>\n",
    "            <a href=\"https://www.biosignalsplux.com/notebooks/Categories/MainFiles/by_diff.ipynb\">&#9740; Notebooks by Difficulty</a>\n",
    "            <br>\n",
    "            <a href=\"https://www.biosignalsplux.com/notebooks/Categories/MainFiles/by_signal_type.ipynb\">&#9740; Notebooks by Signal Type</a>\n",
    "            <br>\n",
    "            <a href=\"https://www.biosignalsplux.com/notebooks/Categories/MainFiles/by_tag.ipynb\">&#9740; Notebooks by Tag</a>\n",
    "        </td>\n",
    "    </tr>\n",
    "</table>"
   ]
  },
  {
   "cell_type": "markdown",
   "metadata": {
    "deletable": false,
    "editable": false,
    "hideCode": false,
    "hidePrompt": false,
    "slideshow": {
     "slide_type": "skip"
    },
    "solved": false,
    "tags": [
     "hide_mark",
     "aux"
    ],
    "undeletable": true
   },
   "source": [
    "<span class=\"color6\"><strong>Auxiliary Code Segment (should not be replicated by\n",
    "the user)</strong></span>"
   ]
  },
  {
   "cell_type": "code",
   "execution_count": null,
   "metadata": {
    "deletable": false,
    "hideCode": false,
    "hidePrompt": false,
    "init_cell": true,
    "slideshow": {
     "slide_type": "skip"
    },
    "solved": false,
    "tags": [
     "hide_both"
    ],
    "undeletable": true
   },
   "outputs": [],
   "source": [
    "from biosignalsnotebooks.__notebook_support__ import css_style_apply\n",
    "css_style_apply()"
   ]
  },
  {
   "cell_type": "code",
   "execution_count": null,
   "metadata": {
    "deletable": false,
    "hideCode": false,
    "hidePrompt": false,
    "hide_input": false,
    "init_cell": true,
    "slideshow": {
     "slide_type": "skip"
    },
    "solved": false,
    "tags": [
     "hide_both"
    ],
    "undeletable": true
   },
   "outputs": [],
   "source": [
    "%%html\n",
    "<script>\n",
    "    // AUTORUN ALL CELLS ON NOTEBOOK-LOAD!\n",
    "    require(\n",
    "        ['base/js/namespace', 'jquery'],\n",
    "        function(jupyter, $) {\n",
    "            $(jupyter.events).on(\"kernel_ready.Kernel\", function () {\n",
    "                console.log(\"Auto-running all cells-below...\");\n",
    "                jupyter.actions.call('jupyter-notebook:run-all-cells-below');\n",
    "                jupyter.actions.call('jupyter-notebook:save-notebook');\n",
    "            });\n",
    "        }\n",
    "    );\n",
    "</script>"
   ]
  }
 ],
 "metadata": {
  "hide_code_all_hidden": false,
  "hide_input": false,
  "kernelspec": {
   "display_name": "Python 3",
   "language": "python",
   "name": "python3"
  },
  "language_info": {
   "codemirror_mode": {
    "name": "ipython",
    "version": 3
   },
   "file_extension": ".py",
   "mimetype": "text/x-python",
   "name": "python",
   "nbconvert_exporter": "python",
   "pygments_lexer": "ipython3",
   "version": "3.7.7"
  },
  "rise": {
   "scroll": true,
   "shortcuts": {
    "slideshow": "none",
    "toggle-notes": "none"
   },
   "transition": "none"
  }
 },
 "nbformat": 4,
 "nbformat_minor": 4
}
