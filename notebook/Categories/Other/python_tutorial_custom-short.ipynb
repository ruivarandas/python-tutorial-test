{
 "cells": [
  {
   "cell_type": "markdown",
   "metadata": {
    "hideCode": false,
    "hidePrompt": false,
    "slideshow": {
     "slide_type": "skip"
    },
    "solved": false,
    "tags": [
     "header"
    ],
    "template": true,
    "undeletable": false
   },
   "source": [
    "<table width=\"100%\">\n",
    "    <tr style=\"border-bottom:solid 2pt #009EE3\">\n",
    "        <td class=\"header_buttons\">\n",
    "            <a href=\"FILENAME\" download><img src=\"../../images/icons/download.png\" alt=\"biosignalsnotebooks | download button\"></a>\n",
    "        </td>\n",
    "        <td class=\"header_buttons\">\n",
    "            <a href=\"SOURCE\" target=\"_blank\"><img src=\"../../images/icons/program.png\" alt=\"biosignalsnotebooks | binder server\" title=\"Be creative and test your solutions !\"></a>\n",
    "        </td>\n",
    "        <td></td>\n",
    "        <td class=\"header_icons\">\n",
    "            <a href=\"../MainFiles/biosignalsnotebooks.ipynb\"><img src=\"../../images/icons/home.png\" alt=\"biosignalsnotebooks | home button\"></a>\n",
    "        </td>\n",
    "        <td class=\"header_icons\">\n",
    "            <a href=\"../MainFiles/contacts.ipynb\"><img src=\"../../images/icons/contacts.png\" alt=\"biosignalsnotebooks | contacts button\"></a>\n",
    "        </td>\n",
    "        <td class=\"header_icons\">\n",
    "            <a href=\"https://github.com/biosignalsplux/biosignalsnotebooks\" target=\"_blank\"><img src=\"../../images/icons/github.png\" alt=\"biosignalsnotebooks | github button\"></a>\n",
    "        </td>\n",
    "        <td class=\"header_logo\">\n",
    "            <img src=\"../../images/ost_logo.png\" alt=\"biosignalsnotebooks | project logo\">\n",
    "        </td>\n",
    "    </tr>\n",
    "</table>"
   ]
  },
  {
   "cell_type": "markdown",
   "metadata": {
    "hideCode": false,
    "hidePrompt": false,
    "slideshow": {
     "slide_type": "skip"
    },
    "solved": false,
    "tags": [
     "intro_info_title"
    ],
    "template": true,
    "undeletable": false
   },
   "source": [
    "<link rel=\"stylesheet\" href=\"../../styles/theme_style.css\">\n",
    "<!--link rel=\"stylesheet\" href=\"../../styles/header_style.css\"-->\n",
    "<link rel=\"stylesheet\" href=\"https://cdnjs.cloudflare.com/ajax/libs/font-awesome/4.7.0/css/font-awesome.min.css\">\n",
    "\n",
    "<table width=\"100%\">\n",
    "    <tr>\n",
    "        <td id=\"image_td\" width=\"15%\" class=\"header_image_color_15\"><div id=\"image_img\"\n",
    "        class=\"header_image_15\"></div></td>\n",
    "        <td class=\"header_text\"> Python Exercises </td>\n",
    "    </tr>\n",
    "</table>"
   ]
  },
  {
   "cell_type": "markdown",
   "metadata": {
    "hideCode": false,
    "hidePrompt": false,
    "slideshow": {
     "slide_type": "skip"
    },
    "solved": false,
    "tags": [
     "intro_info_tags"
    ],
    "template": true,
    "undeletable": false
   },
   "source": [
    "<div id=\"flex-container\">\n",
    "    <div id=\"diff_level\" class=\"flex-item\">\n",
    "        <strong>Difficulty Level:</strong>   <span class=\"fa fa-star checked\"></span>\n",
    "                                <span class=\"fa fa-star\"></span>\n",
    "                                <span class=\"fa fa-star\"></span>\n",
    "                                <span class=\"fa fa-star\"></span>\n",
    "                                <span class=\"fa fa-star\"></span>\n",
    "    </div>\n",
    "    <div id=\"tag\" class=\"flex-item-tag\">\n",
    "        <span id=\"tag_list\">\n",
    "            <table id=\"tag_list_table\">\n",
    "                <tr>\n",
    "                    <td class=\"shield_left\">Tags</td>\n",
    "                    <td class=\"shield_right\" id=\"tags\">other&#9729;Python&#9729;practice</td>\n",
    "                </tr>\n",
    "            </table>\n",
    "        </span>\n",
    "        <!-- [OR] Visit https://img.shields.io in order to create a tag badge-->\n",
    "    </div>\n",
    "</div>"
   ]
  },
  {
   "cell_type": "markdown",
   "metadata": {
    "hideCode": false,
    "hidePrompt": false,
    "slideshow": {
     "slide_type": "skip"
    },
    "solved": false,
    "tags": [
     "test"
    ],
    "template": true,
    "undeletable": false
   },
   "source": [
    "In this notebook you will be able to learn Python by using Python. Here, you will learn the basics of Python programming, while applying that knowledge in practical examples."
   ]
  },
  {
   "cell_type": "markdown",
   "metadata": {
    "hideCode": false,
    "hidePrompt": false,
    "slideshow": {
     "slide_type": "skip"
    },
    "solved": false,
    "template": true,
    "undeletable": false
   },
   "source": [
    "<hr>"
   ]
  },
  {
   "cell_type": "code",
   "execution_count": 7,
   "metadata": {
    "hide": true,
    "init_cell": true,
    "slideshow": {
     "slide_type": "skip"
    },
    "solved": false,
    "undeletable": false
   },
   "outputs": [],
   "source": [
    "from io import StringIO\n",
    "import sys\n",
    "from os import devnull\n",
    "\n",
    "def get_printed_cell(cell, *args):\n",
    "    old_stdout = sys.stdout\n",
    "    sys.stdout = mystdout = StringIO()\n",
    "    try:\n",
    "        if type(cell) == str:\n",
    "            exec(cell)\n",
    "        elif type(cell) == list:\n",
    "            for command in cell:\n",
    "                eval(command)\n",
    "        elif callable(cell):\n",
    "            cell(*args)\n",
    "    finally:\n",
    "        sys.stdout = old_stdout\n",
    "\n",
    "    return mystdout.getvalue()\n",
    "\n",
    "class HiddenPrints:\n",
    "    def __enter__(self):\n",
    "        self._original_stdout = sys.stdout\n",
    "        sys.stdout = open(devnull, 'w')\n",
    "\n",
    "    def __exit__(self, exc_type, exc_val, exc_tb):\n",
    "        sys.stdout.close()\n",
    "        sys.stdout = self._original_stdout\n",
    "\n",
    "enable = [True]*6"
   ]
  },
  {
   "cell_type": "markdown",
   "metadata": {
    "hideCode": false,
    "hidePrompt": false,
    "hide_input": false,
    "slideshow": {
     "slide_type": "slide"
    },
    "solved": false,
    "undeletable": false
   },
   "source": [
    "<p class=\"steps\">1 - Define a variable</p>\n",
    "In Python, variables are not required to be defined regarding their type. So, the same variable can be a number, a boolean, a string, a list, etc. Try to assign the number <b>5</b> to a variable <b>a</b> using the operator <b>=</b> ."
   ]
  },
  {
   "cell_type": "code",
   "execution_count": null,
   "metadata": {
    "hideCode": false,
    "hidePrompt": false,
    "hide_input": false,
    "solved": true,
    "undeletable": false
   },
   "outputs": [],
   "source": []
  },
  {
   "cell_type": "code",
   "execution_count": null,
   "metadata": {
    "slideshow": {
     "slide_type": "fragment"
    },
    "solved": false,
    "test": true,
    "undeletable": false
   },
   "outputs": [],
   "source": [
    "try:\n",
    "    with HiddenPrints():\n",
    "        assert a == 5\n",
    "    print(\"Passed!\")\n",
    "except AssertionError as e:\n",
    "    print(\"Failed...\")\n",
    "except Exception as e:\n",
    "    if _i is not '':\n",
    "        print(\"Error: \", e)\n",
    "        print(\"Failed...\")\n",
    "    pass"
   ]
  },
  {
   "cell_type": "markdown",
   "metadata": {
    "hideCode": false,
    "hidePrompt": false,
    "hide_input": false,
    "slideshow": {
     "slide_type": "slide"
    },
    "solved": false,
    "undeletable": false
   },
   "source": [
    "Now, change that variable to the string <b>\"Hello World!\"</b>\n",
    "\n",
    "<span class=\"color5\"><b>Note:</b> in order to be viewed as a string, the text should be inside `\"<string>\"` or `'<string>'` (where `<string>` is substituted by whatever you need). If those marks are not explicitly put around the string, Python tries to interpret the content as a variable, which might trow an error if the variable does not exist. </span>"
   ]
  },
  {
   "cell_type": "code",
   "execution_count": null,
   "metadata": {
    "hideCode": false,
    "hidePrompt": false,
    "hide_input": false,
    "scrolled": true,
    "solved": false,
    "undeletable": false
   },
   "outputs": [],
   "source": []
  },
  {
   "cell_type": "code",
   "execution_count": null,
   "metadata": {
    "slideshow": {
     "slide_type": "fragment"
    },
    "solved": false,
    "test": true,
    "undeletable": false
   },
   "outputs": [],
   "source": [
    "try:\n",
    "    with HiddenPrints():\n",
    "        assert a == \"Hello World!\"\n",
    "    print(\"Passed!\")\n",
    "except AssertionError as e:\n",
    "    print(\"Failed...\", e)\n",
    "except Exception as e:\n",
    "    if _i is not '':\n",
    "        print(\"Error: \", e)\n",
    "        print(\"Failed...\")\n",
    "    pass"
   ]
  },
  {
   "cell_type": "markdown",
   "metadata": {
    "hideCode": false,
    "hidePrompt": false,
    "slideshow": {
     "slide_type": "fragment"
    },
    "solved": false,
    "undeletable": false
   },
   "source": [
    "<strong class=\"color2\">See how the same variable can be defined with different types?</strong> This is a very powerful feature of Python, but with great power, comes greater responsibility. When writing code you need to be extra careful because a change in the type of one variable may alter the behavior of an application. However, with practice you will find this a fantastic feature!"
   ]
  },
  {
   "cell_type": "markdown",
   "metadata": {
    "hideCode": false,
    "hidePrompt": false,
    "slideshow": {
     "slide_type": "slide"
    },
    "solved": false,
    "undeletable": false
   },
   "source": [
    "<p class=\"steps\">2 - Print statement</p>\n",
    "Print is a built-in function that allows one to show whatever string that is given as input in the console. In the next cell, try to print <b>\"Hello World!\"</b> in the console.\n",
    "\n",
    "```python\n",
    "print(<argument>)\n",
    "```\n",
    "\n",
    "<span class=\"color5\"><b>Note:</b> the parenthesis are the way that Python recognizes that you are calling a function. Inside those parenthesis, we insert the inputs for the function, to which we call arguments of the function. There are functions that have no arguments, and so the parenthesis will be empty. (Don't worry if this is too complicated, we will get to functions latter in this notebook)</span>"
   ]
  },
  {
   "cell_type": "code",
   "execution_count": null,
   "metadata": {
    "hideCode": false,
    "hidePrompt": false,
    "slideshow": {
     "slide_type": "fragment"
    },
    "solved": false,
    "undeletable": false
   },
   "outputs": [],
   "source": []
  },
  {
   "cell_type": "code",
   "execution_count": null,
   "metadata": {
    "scrolled": true,
    "slideshow": {
     "slide_type": "fragment"
    },
    "solved": false,
    "test": true,
    "undeletable": false
   },
   "outputs": [],
   "source": [
    "# Test Cell\n",
    "try:\n",
    "    with HiddenPrints():\n",
    "        output = get_printed_cell(_i)\n",
    "        assert \"Hello World!\" in output\n",
    "    print(\"Passed!\")\n",
    "except AssertionError as e:\n",
    "    print(\"Failed...\", e)\n",
    "except Exception as e:\n",
    "    if _i is not '':\n",
    "        print(\"Error: \", e)\n",
    "        print(\"Failed...\")\n",
    "    pass"
   ]
  },
  {
   "cell_type": "markdown",
   "metadata": {
    "hideCode": false,
    "hidePrompt": false,
    "slideshow": {
     "slide_type": "slide"
    },
    "solved": false,
    "undeletable": false
   },
   "source": [
    "Next, print the variable <b>a</b> that you defined before."
   ]
  },
  {
   "cell_type": "code",
   "execution_count": null,
   "metadata": {
    "hideCode": false,
    "hidePrompt": false,
    "slideshow": {
     "slide_type": "fragment"
    },
    "solved": false,
    "undeletable": false
   },
   "outputs": [],
   "source": []
  },
  {
   "cell_type": "code",
   "execution_count": null,
   "metadata": {
    "slideshow": {
     "slide_type": "fragment"
    },
    "solved": false,
    "test": true,
    "undeletable": false
   },
   "outputs": [],
   "source": [
    "# Test Cell\n",
    "try:\n",
    "    with HiddenPrints():\n",
    "        input_cell = _i\n",
    "        output = get_printed_cell(input_cell)\n",
    "        assert \"Hello World!\" in output and \"Hello World\" not in input_cell\n",
    "    print(\"Passed!\")\n",
    "except AssertionError as e:\n",
    "    print(\"Failed...\", e)\n",
    "except Exception as e:\n",
    "    if _i is not '':\n",
    "        print(\"Error: \", e)\n",
    "        print(\"Failed...\")\n",
    "    pass"
   ]
  },
  {
   "cell_type": "markdown",
   "metadata": {
    "hideCode": false,
    "hidePrompt": false,
    "slideshow": {
     "slide_type": "fragment"
    },
    "solved": false,
    "undeletable": false
   },
   "source": [
    "<strong class=\"color2\">See how the result is the same?</strong> That's because your variable was defined as \"Hello World!\", the same string you printed in the previous cell. Go ahead and change the value of your variable and try to print it again, to see how it affects the output of the print statement. You can print variables whichever types they are."
   ]
  },
  {
   "cell_type": "markdown",
   "metadata": {
    "hideCode": false,
    "hidePrompt": false,
    "slideshow": {
     "slide_type": "slide"
    },
    "solved": false,
    "undeletable": false
   },
   "source": [
    "<p class=\"steps\">3 - Working with lists</p>\n",
    "Lists in Python are data structures that are ordered, changeable and allow duplicate members. This means that they allow to store other data structures and then to retrieve them given their position in the list. If this seems too complicated, follow the practical example.\n",
    "\n",
    "In this example, we will use the temperature readings in degrees Celcius of an individual during one week."
   ]
  },
  {
   "cell_type": "code",
   "execution_count": null,
   "metadata": {
    "example": true,
    "hideCode": false,
    "hidePrompt": false,
    "slideshow": {
     "slide_type": "fragment"
    },
    "solved": false,
    "undeletable": false
   },
   "outputs": [],
   "source": [
    "temperatures = [36, 35, 38, 37, 40, 39, 41]"
   ]
  },
  {
   "cell_type": "markdown",
   "metadata": {
    "hideCode": false,
    "hidePrompt": false,
    "slideshow": {
     "slide_type": "fragment"
    },
    "solved": false,
    "undeletable": false
   },
   "source": [
    "So, we end up with a list composed of seven values. Remember that lists in Python start with index 0. Thus, the position 0 of <b>temperatures</b> corresponds to 36, the position 1 of <b>temperatures</b> corresponds to 35 and so on. In the next cell, we will retrieve the temperature reading of day 1 (position 0 of the list)."
   ]
  },
  {
   "cell_type": "code",
   "execution_count": null,
   "metadata": {
    "example": true,
    "hideCode": false,
    "hidePrompt": false,
    "slideshow": {
     "slide_type": "fragment"
    },
    "solved": false,
    "undeletable": false
   },
   "outputs": [],
   "source": [
    "temperatures[0]"
   ]
  },
  {
   "cell_type": "markdown",
   "metadata": {
    "hideCode": false,
    "hidePrompt": false,
    "slideshow": {
     "slide_type": "slide"
    },
    "solved": false,
    "undeletable": false
   },
   "source": [
    "Now, we would like to get the temperature reading of the 3rd day. Retrieve that value in the next cell."
   ]
  },
  {
   "cell_type": "code",
   "execution_count": null,
   "metadata": {
    "hideCode": false,
    "hidePrompt": false,
    "slideshow": {
     "slide_type": "fragment"
    },
    "solved": false,
    "undeletable": false
   },
   "outputs": [],
   "source": []
  },
  {
   "cell_type": "code",
   "execution_count": null,
   "metadata": {
    "slideshow": {
     "slide_type": "fragment"
    },
    "solved": false,
    "test": true,
    "undeletable": false
   },
   "outputs": [],
   "source": [
    "# Test Cell\n",
    "try:\n",
    "    with HiddenPrints():\n",
    "        assert \"temperatures\" in _i\n",
    "        assert int(_) == temperatures[2]\n",
    "    print(\"Passed!\")\n",
    "except AssertionError as e:\n",
    "    print(\"Failed...\", e)\n",
    "except Exception as e:\n",
    "    if _i is not '':\n",
    "        print(\"Error: \", e)\n",
    "        print(\"Failed...\")\n",
    "    pass"
   ]
  },
  {
   "cell_type": "markdown",
   "metadata": {
    "hideCode": false,
    "hidePrompt": false,
    "slideshow": {
     "slide_type": "slide"
    },
    "solved": false,
    "undeletable": false
   },
   "source": [
    "Okay, so it is very easy to get the values of specific days using lists. But what if we just wanted the last reading and we didn't know the number of temperature readings of the list? Well, Python takes care of that too. The next cell shows how to get the value of the last temperature reading of the list."
   ]
  },
  {
   "cell_type": "code",
   "execution_count": null,
   "metadata": {
    "example": true,
    "hideCode": false,
    "hidePrompt": false,
    "slideshow": {
     "slide_type": "fragment"
    },
    "solved": false,
    "undeletable": false
   },
   "outputs": [],
   "source": [
    "temperatures[-1]"
   ]
  },
  {
   "cell_type": "markdown",
   "metadata": {
    "hideCode": false,
    "hidePrompt": false,
    "slideshow": {
     "slide_type": "slide"
    },
    "solved": false,
    "undeletable": false
   },
   "source": [
    "Now, get the third to last temperature reading of the list."
   ]
  },
  {
   "cell_type": "code",
   "execution_count": null,
   "metadata": {
    "hideCode": false,
    "hidePrompt": false,
    "slideshow": {
     "slide_type": "fragment"
    },
    "solved": false,
    "undeletable": false
   },
   "outputs": [],
   "source": []
  },
  {
   "cell_type": "code",
   "execution_count": null,
   "metadata": {
    "slideshow": {
     "slide_type": "fragment"
    },
    "solved": false,
    "test": true,
    "undeletable": false
   },
   "outputs": [],
   "source": [
    "# Test Cell\n",
    "try:\n",
    "    with HiddenPrints():\n",
    "        assert \"temperatures\" in _i\n",
    "        assert int(_) == temperatures[-3]\n",
    "    print(\"Passed!\")\n",
    "except AssertionError as e:\n",
    "    print(\"Failed...\", e)\n",
    "except Exception as e:\n",
    "    if _i is not '':\n",
    "        print(\"Error: \", e)\n",
    "        print(\"Failed...\")\n",
    "    pass"
   ]
  },
  {
   "cell_type": "markdown",
   "metadata": {
    "hideCode": false,
    "hidePrompt": false,
    "slideshow": {
     "slide_type": "fragment"
    },
    "solved": false,
    "undeletable": false
   },
   "source": [
    "<strong class=\"color2\">See how you can refer to indexes relative to the end of the list?</strong> That is another very powerful feature of Python. Other languages would require you to calculate the length of the list and then subtract the number of indexes from that value. In Python you specify all that with a negative number."
   ]
  },
  {
   "cell_type": "markdown",
   "metadata": {
    "slideshow": {
     "slide_type": "slide"
    },
    "solved": false,
    "undeletable": false
   },
   "source": [
    "Next, we will get the readings of various days. Specifically, we want to get the reading of the second, third and fourth day."
   ]
  },
  {
   "cell_type": "code",
   "execution_count": null,
   "metadata": {
    "example": true,
    "hideCode": false,
    "hidePrompt": false,
    "slideshow": {
     "slide_type": "fragment"
    },
    "solved": false,
    "undeletable": false
   },
   "outputs": [],
   "source": [
    "temperatures[1:4]"
   ]
  },
  {
   "cell_type": "markdown",
   "metadata": {
    "hideCode": false,
    "hidePrompt": false,
    "slideshow": {
     "slide_type": "slide"
    },
    "solved": false,
    "undeletable": false
   },
   "source": [
    "Try to do the same, but get the values from the first day to the second to last, using the same scheme we have been following."
   ]
  },
  {
   "cell_type": "code",
   "execution_count": null,
   "metadata": {
    "hideCode": false,
    "hidePrompt": false,
    "slideshow": {
     "slide_type": "fragment"
    },
    "solved": false,
    "undeletable": false
   },
   "outputs": [],
   "source": []
  },
  {
   "cell_type": "code",
   "execution_count": null,
   "metadata": {
    "slideshow": {
     "slide_type": "fragment"
    },
    "solved": false,
    "test": true,
    "undeletable": false
   },
   "outputs": [],
   "source": [
    "# Test Cell\n",
    "# Test Cell\n",
    "try:\n",
    "    with HiddenPrints():\n",
    "        assert \"temperatures\" in _i\n",
    "        assert _ == temperatures[0:-1]\n",
    "        assert '-1' in _i\n",
    "    print(\"Passed!\")\n",
    "except AssertionError as e:\n",
    "    print(\"Failed...\", e)\n",
    "except Exception as e:\n",
    "    if _i is not '':\n",
    "        print(\"Error: \", e)\n",
    "        print(\"Failed...\")\n",
    "    pass"
   ]
  },
  {
   "cell_type": "markdown",
   "metadata": {
    "hideCode": false,
    "hidePrompt": false,
    "slideshow": {
     "slide_type": "slide"
    },
    "solved": false,
    "undeletable": false
   },
   "source": [
    "The same could be achieved by using the code:"
   ]
  },
  {
   "cell_type": "code",
   "execution_count": null,
   "metadata": {
    "example": true,
    "hideCode": false,
    "hidePrompt": false,
    "slideshow": {
     "slide_type": "fragment"
    },
    "solved": false,
    "undeletable": false
   },
   "outputs": [],
   "source": [
    "temperatures[:-1]"
   ]
  },
  {
   "cell_type": "markdown",
   "metadata": {
    "slideshow": {
     "slide_type": "slide"
    },
    "solved": false,
    "undeletable": false
   },
   "source": [
    "Given what you have learned so far, how would you get the values from the third day to the last?"
   ]
  },
  {
   "cell_type": "code",
   "execution_count": null,
   "metadata": {
    "slideshow": {
     "slide_type": "fragment"
    },
    "solved": false,
    "undeletable": false
   },
   "outputs": [],
   "source": []
  },
  {
   "cell_type": "code",
   "execution_count": null,
   "metadata": {
    "slideshow": {
     "slide_type": "fragment"
    },
    "solved": false,
    "test": true,
    "undeletable": false
   },
   "outputs": [],
   "source": [
    "# Test Cell\n",
    "try:\n",
    "    with HiddenPrints():\n",
    "        assert \"temperatures\" in _i\n",
    "        assert _ == temperatures[2:]\n",
    "    print(\"Passed!\")\n",
    "except AssertionError as e:\n",
    "    print(\"Failed...\", e)\n",
    "except Exception as e:\n",
    "    if _i is not '':\n",
    "        print(\"Error: \", e)\n",
    "        print(\"Failed...\")\n",
    "    pass"
   ]
  },
  {
   "cell_type": "markdown",
   "metadata": {
    "slideshow": {
     "slide_type": "slide"
    },
    "solved": false,
    "undeletable": false
   },
   "source": [
    "And how would you get the values from the beginning until the fourth day?"
   ]
  },
  {
   "cell_type": "code",
   "execution_count": null,
   "metadata": {
    "slideshow": {
     "slide_type": "fragment"
    },
    "solved": false,
    "undeletable": false
   },
   "outputs": [],
   "source": []
  },
  {
   "cell_type": "code",
   "execution_count": null,
   "metadata": {
    "slideshow": {
     "slide_type": "fragment"
    },
    "solved": false,
    "test": true,
    "undeletable": false
   },
   "outputs": [],
   "source": [
    "# Test Cell\n",
    "try:\n",
    "    with HiddenPrints():\n",
    "        assert \"temperatures\" in _i\n",
    "        assert _ == temperatures[:4]\n",
    "    print(\"Passed!\")\n",
    "    enable[0] = False\n",
    "except AssertionError as e:\n",
    "    print(\"Failed...\", e)\n",
    "except Exception as e:\n",
    "    if _i is not '':\n",
    "        print(\"Error: \", e)\n",
    "        print(\"Failed...\")\n",
    "    pass"
   ]
  },
  {
   "cell_type": "markdown",
   "metadata": {
    "slideshow": {
     "slide_type": "slide"
    },
    "solved": false,
    "undeletable": false
   },
   "source": [
    "Run the next cell and verify its result."
   ]
  },
  {
   "cell_type": "code",
   "execution_count": null,
   "metadata": {
    "example": true,
    "hideCode": false,
    "hidePrompt": false,
    "slideshow": {
     "slide_type": "fragment"
    },
    "solved": false,
    "undeletable": false
   },
   "outputs": [],
   "source": [
    "temperatures[::2]"
   ]
  },
  {
   "cell_type": "code",
   "execution_count": 8,
   "metadata": {
    "hide": true,
    "init_cell": true,
    "slideshow": {
     "slide_type": "fragment"
    },
    "solved": false,
    "undeletable": false
   },
   "outputs": [
    {
     "name": "stdout",
     "output_type": "stream",
     "text": [
      "What is the result?"
     ]
    },
    {
     "data": {
      "application/vnd.jupyter.widget-view+json": {
       "model_id": "71668e86bdc74bf5b5c6dc0c039002f9",
       "version_major": 2,
       "version_minor": 0
      },
      "text/plain": [
       "RadioButtons(layout=Layout(width='max-content'), options=('Get the values until index 2', 'Get the values from…"
      ]
     },
     "metadata": {},
     "output_type": "display_data"
    }
   ],
   "source": [
    "# Hide this cell\n",
    "import ipywidgets as widgets\n",
    "from IPython.display import display\n",
    "\n",
    "print('What is the result?', end='')\n",
    "question_1 = widgets.RadioButtons(\n",
    "    options=['Get the values until index 2', 'Get the values from index 2', 'Get the values from the beginning to end skipping one value in alternance', 'Duplicate the values from the beginning to end in alternance'],\n",
    "    layout={'width': 'max-content'}, # If the items' names are long\n",
    "    description='',\n",
    "    value = None,\n",
    "    # disabled=enable[0]\n",
    ")\n",
    "\n",
    "display(question_1)"
   ]
  },
  {
   "cell_type": "code",
   "execution_count": null,
   "metadata": {
    "slideshow": {
     "slide_type": "fragment"
    },
    "solved": false,
    "test": true,
    "undeletable": false
   },
   "outputs": [],
   "source": [
    "# Test Cell\n",
    "try:\n",
    "    with HiddenPrints():\n",
    "        assert question_1.value == question_1.options[2]\n",
    "    print(\"Passed!\")\n",
    "except AssertionError as e:\n",
    "    print(\"Failed...\", e)\n",
    "except Exception as e:\n",
    "    pass"
   ]
  },
  {
   "cell_type": "markdown",
   "metadata": {
    "slideshow": {
     "slide_type": "slide"
    },
    "solved": false,
    "undeletable": false
   },
   "source": [
    "Based on the previous question, get the temperatures of the days with interval of 2 starting on the second day and finishing on the second to last."
   ]
  },
  {
   "cell_type": "code",
   "execution_count": null,
   "metadata": {
    "slideshow": {
     "slide_type": "fragment"
    },
    "solved": false,
    "undeletable": false
   },
   "outputs": [],
   "source": []
  },
  {
   "cell_type": "code",
   "execution_count": null,
   "metadata": {
    "slideshow": {
     "slide_type": "fragment"
    },
    "solved": false,
    "test": true,
    "undeletable": false
   },
   "outputs": [],
   "source": [
    "# Test Cell\n",
    "try:\n",
    "    with HiddenPrints():\n",
    "        assert \"temperatures\" in _i\n",
    "        assert _ == temperatures[1:-1:2]\n",
    "    print(\"Passed!\")\n",
    "    enable[1] = False\n",
    "except AssertionError as e:\n",
    "    print(\"Failed...\", e)\n",
    "except Exception as e:\n",
    "    if _i is not '':\n",
    "        print(\"Error: \", e)\n",
    "        print(\"Failed...\")\n",
    "    pass"
   ]
  },
  {
   "cell_type": "code",
   "execution_count": 9,
   "metadata": {
    "hide": true,
    "init_cell": true,
    "slideshow": {
     "slide_type": "fragment"
    },
    "solved": false,
    "undeletable": false
   },
   "outputs": [
    {
     "name": "stdout",
     "output_type": "stream",
     "text": [
      "Given this, what do you expect to be the behavior of temperatures[::-1]?"
     ]
    },
    {
     "data": {
      "application/vnd.jupyter.widget-view+json": {
       "model_id": "47bf24243d794ca997770d7eaa4ca80e",
       "version_major": 2,
       "version_minor": 0
      },
      "text/plain": [
       "RadioButtons(layout=Layout(width='max-content'), options=('Get the last value', 'Get the list in backwards ord…"
      ]
     },
     "metadata": {},
     "output_type": "display_data"
    }
   ],
   "source": [
    "print('Given this, what do you expect to be the behavior of temperatures[::-1]?', end='')\n",
    "question_2 = widgets.RadioButtons(\n",
    "    options=['Get the last value', 'Get the list in backwards order.', 'Sort the values starting by the last', 'Get all values but the last'],\n",
    "    layout={'width': 'max-content'}, # If the items' names are long\n",
    "    description='',\n",
    "    value = None,\n",
    "    # disabled=enable[1]\n",
    ")\n",
    "\n",
    "display(question_2)"
   ]
  },
  {
   "cell_type": "code",
   "execution_count": null,
   "metadata": {
    "slideshow": {
     "slide_type": "fragment"
    },
    "solved": false,
    "test": true,
    "undeletable": false
   },
   "outputs": [],
   "source": [
    "# Test Cell\n",
    "try:\n",
    "    with HiddenPrints():\n",
    "        assert question_2.value == question_2.options[1]\n",
    "    print(\"Passed!\")\n",
    "except AssertionError as e:\n",
    "    print(\"Failed...\", e)\n",
    "except Exception as e:\n",
    "    pass"
   ]
  },
  {
   "cell_type": "markdown",
   "metadata": {
    "slideshow": {
     "slide_type": "slide"
    },
    "solved": false,
    "undeletable": false
   },
   "source": [
    "Specifically Jupyter and IPython allow to easily explore the various types of variables and the functions associated to each type or object. For the next exercises, if you are not certain about built-in functions, try to write the name of the variable, add a point and press the `Tab` key, such as, `temperatures.` + `Tab`.\n",
    "\n",
    "In the next cell, you can find an example of how to use a function that is present for every list. In this case, it will return the index of the first occurrence of the number 38."
   ]
  },
  {
   "cell_type": "code",
   "execution_count": null,
   "metadata": {
    "example": true,
    "hideCode": false,
    "hidePrompt": false,
    "slideshow": {
     "slide_type": "fragment"
    },
    "solved": false,
    "undeletable": false
   },
   "outputs": [],
   "source": [
    "temperatures.index(38)"
   ]
  },
  {
   "cell_type": "markdown",
   "metadata": {
    "slideshow": {
     "slide_type": "slide"
    },
    "solved": false,
    "undeletable": false
   },
   "source": [
    "Analogously, count the number of occurrences of the number 38 using a built-in function associated to lists."
   ]
  },
  {
   "cell_type": "code",
   "execution_count": null,
   "metadata": {
    "slideshow": {
     "slide_type": "fragment"
    },
    "solved": false,
    "undeletable": false
   },
   "outputs": [],
   "source": []
  },
  {
   "cell_type": "code",
   "execution_count": null,
   "metadata": {
    "slideshow": {
     "slide_type": "fragment"
    },
    "solved": false,
    "test": true,
    "undeletable": false
   },
   "outputs": [],
   "source": [
    "# Test Cell\n",
    "try:\n",
    "    assert \"temperatures\" in _i and \"count\" in _i \n",
    "    assert _ == temperatures.count(38)\n",
    "    print(\"Passed!\")\n",
    "    enable[2] = False\n",
    "except:\n",
    "    print(\"Failed...\")"
   ]
  },
  {
   "cell_type": "code",
   "execution_count": 10,
   "metadata": {
    "hide": true,
    "init_cell": true,
    "slideshow": {
     "slide_type": "fragment"
    },
    "solved": false,
    "undeletable": false
   },
   "outputs": [
    {
     "name": "stdout",
     "output_type": "stream",
     "text": [
      "What do you think the instruction temperatures.sort() would do?"
     ]
    },
    {
     "data": {
      "application/vnd.jupyter.widget-view+json": {
       "model_id": "9357baf482d14336834c60558441367e",
       "version_major": 2,
       "version_minor": 0
      },
      "text/plain": [
       "RadioButtons(layout=Layout(width='max-content'), options=('Sort the values in a descending way.', 'Sort the va…"
      ]
     },
     "metadata": {},
     "output_type": "display_data"
    }
   ],
   "source": [
    "print('What do you think the instruction temperatures.sort() would do?', end='')\n",
    "question_3 = widgets.RadioButtons(\n",
    "    options=['Sort the values in a descending way.', 'Sort the values in an ascending way.', 'Create a new sorted list.', 'Randomly sort the list.'],\n",
    "    layout={'width': 'max-content'}, # If the items' names are long\n",
    "    description='',\n",
    "    value = None,\n",
    "    # disabled=enable[2]\n",
    ")\n",
    "\n",
    "display(question_3)"
   ]
  },
  {
   "cell_type": "code",
   "execution_count": null,
   "metadata": {
    "slideshow": {
     "slide_type": "fragment"
    },
    "solved": false,
    "test": true,
    "undeletable": false
   },
   "outputs": [],
   "source": [
    "# Test Cell\n",
    "try:\n",
    "    with HiddenPrints():\n",
    "        assert question_3.value == question_3.options[1]\n",
    "    print(\"Passed!\")\n",
    "except AssertionError as e:\n",
    "    print(\"Failed...\", e)\n",
    "except Exception as e:\n",
    "    if _i is not '':\n",
    "        print(\"Error: \", e)\n",
    "        print(\"Failed...\")\n",
    "    pass"
   ]
  },
  {
   "cell_type": "markdown",
   "metadata": {
    "slideshow": {
     "slide_type": "slide"
    },
    "solved": false,
    "undeletable": false
   },
   "source": [
    "Jupyter also allows to investigate the arguments and outputs of a given function by using the `?` operator, such as demonstrated in the next cell."
   ]
  },
  {
   "cell_type": "code",
   "execution_count": null,
   "metadata": {
    "example": true,
    "hideCode": false,
    "hidePrompt": false,
    "slideshow": {
     "slide_type": "fragment"
    },
    "solved": false,
    "undeletable": false
   },
   "outputs": [],
   "source": [
    "temperatures.sort?"
   ]
  },
  {
   "cell_type": "markdown",
   "metadata": {
    "slideshow": {
     "slide_type": "slide"
    },
    "solved": false,
    "undeletable": false
   },
   "source": [
    "Given the result of the previous cell, sort the `temperatures` list in a descending way."
   ]
  },
  {
   "cell_type": "code",
   "execution_count": null,
   "metadata": {
    "slideshow": {
     "slide_type": "fragment"
    },
    "solved": false,
    "undeletable": false
   },
   "outputs": [],
   "source": []
  },
  {
   "cell_type": "code",
   "execution_count": null,
   "metadata": {
    "slideshow": {
     "slide_type": "fragment"
    },
    "solved": false,
    "test": true,
    "undeletable": false
   },
   "outputs": [],
   "source": [
    "# Test Cell\n",
    "try:\n",
    "    with HiddenPrints():\n",
    "        assert \"sort\" in _i\n",
    "        aux = temperatures.copy()\n",
    "        aux.sort(reverse=True)\n",
    "        assert temperatures == aux\n",
    "    print(\"Passed!\")\n",
    "    temperatures = [36, 35, 38, 37, 40, 39, 41]\n",
    "except AssertionError as e:\n",
    "    print(\"Failed...\", e)\n",
    "except Exception as e:\n",
    "    if _i is not '':\n",
    "        print(\"Error: \", e)\n",
    "        print(\"Failed...\")\n",
    "    pass"
   ]
  },
  {
   "cell_type": "markdown",
   "metadata": {
    "slideshow": {
     "slide_type": "slide"
    },
    "solved": false,
    "undeletable": false
   },
   "source": [
    "Finally, lists allow to easily append new data. This new data is appended to the last position of the list and can be retrieved normally. In the next cell, append the value `36` to the `temperatures` list."
   ]
  },
  {
   "cell_type": "code",
   "execution_count": null,
   "metadata": {
    "slideshow": {
     "slide_type": "fragment"
    },
    "solved": false,
    "undeletable": false
   },
   "outputs": [],
   "source": []
  },
  {
   "cell_type": "code",
   "execution_count": null,
   "metadata": {
    "slideshow": {
     "slide_type": "fragment"
    },
    "solved": false,
    "test": true,
    "undeletable": false
   },
   "outputs": [],
   "source": [
    "# Test Cell\n",
    "try:\n",
    "    with HiddenPrints():\n",
    "        assert \"append\" in _i\n",
    "        assert temperatures.pop() == 36\n",
    "        assert temperatures == [36, 35, 38, 37, 40, 39, 41]\n",
    "    print(\"Passed!\")\n",
    "except AssertionError as e:\n",
    "    print(\"Failed...\", e)\n",
    "except Exception as e:\n",
    "    if _i is not '':\n",
    "        print(\"Error: \", e)\n",
    "        print(\"Failed...\")\n",
    "    pass"
   ]
  },
  {
   "cell_type": "markdown",
   "metadata": {
    "slideshow": {
     "slide_type": "slide"
    },
    "solved": false,
    "undeletable": false
   },
   "source": [
    "<p class=\"steps\">4 - Working with strings</p>\n",
    "Strings are immutable sequence of characters. Their manipulation, though similar to lists, has some differences that are worth exploring.\n",
    "\n",
    "First, we will define a variable of type string. As you know by now, we don't need to specify the type explicitly, once Python recognizes it automatically."
   ]
  },
  {
   "cell_type": "code",
   "execution_count": null,
   "metadata": {
    "example": true,
    "hideCode": false,
    "hidePrompt": false,
    "slideshow": {
     "slide_type": "fragment"
    },
    "solved": false,
    "undeletable": false
   },
   "outputs": [],
   "source": [
    "example = 'Python'"
   ]
  },
  {
   "cell_type": "markdown",
   "metadata": {
    "slideshow": {
     "slide_type": "fragment"
    },
    "solved": false,
    "undeletable": false
   },
   "source": [
    "To prove that it is very similar to lists, get the first character of the list `example`."
   ]
  },
  {
   "cell_type": "code",
   "execution_count": null,
   "metadata": {
    "slideshow": {
     "slide_type": "fragment"
    },
    "solved": false,
    "undeletable": false
   },
   "outputs": [],
   "source": []
  },
  {
   "cell_type": "code",
   "execution_count": null,
   "metadata": {
    "slideshow": {
     "slide_type": "fragment"
    },
    "solved": false,
    "test": true,
    "undeletable": false
   },
   "outputs": [],
   "source": [
    "# Test Cell\n",
    "try:\n",
    "    with HiddenPrints():\n",
    "        assert \"example\" in _i\n",
    "        assert example[0] == _\n",
    "    print(\"Passed!\")\n",
    "except AssertionError as e:\n",
    "    print(\"Failed...\", e)\n",
    "except Exception as e:\n",
    "    if _i is not '':\n",
    "        print(\"Error: \", e)\n",
    "        print(\"Failed...\")"
   ]
  },
  {
   "cell_type": "markdown",
   "metadata": {
    "slideshow": {
     "slide_type": "slide"
    },
    "solved": false,
    "undeletable": false
   },
   "source": [
    "To concatenate two strings, we only need to _add_ them using the `+` operator. Define a new variable `other_example` that should be `' is the best'` and concatenate `example` with `other_example`."
   ]
  },
  {
   "cell_type": "code",
   "execution_count": null,
   "metadata": {
    "slideshow": {
     "slide_type": "fragment"
    },
    "solved": false,
    "undeletable": false
   },
   "outputs": [],
   "source": []
  },
  {
   "cell_type": "code",
   "execution_count": null,
   "metadata": {
    "slideshow": {
     "slide_type": "fragment"
    },
    "solved": false,
    "test": true,
    "undeletable": false
   },
   "outputs": [],
   "source": [
    "# Test Cell\n",
    "try:\n",
    "    with HiddenPrints():\n",
    "        assert \"example\" in _i and \"other_example\" in _i\n",
    "        assert example + other_example == _\n",
    "    print(\"Passed!\")\n",
    "except AssertionError as e:\n",
    "    print(\"Failed...\", e)\n",
    "except Exception as e:\n",
    "    if _i is not '':\n",
    "        print(\"Error: \", e)\n",
    "        print(\"Failed...\")\n",
    "    pass"
   ]
  },
  {
   "cell_type": "markdown",
   "metadata": {
    "slideshow": {
     "slide_type": "slide"
    },
    "solved": false,
    "undeletable": false
   },
   "source": [
    "If your goal is to concatenate the same string with itself multiple times, you can simply use the `*` operator, for example, `example*10`. In the next cell, concatenate the string `example` with 10 times the string `other_example`."
   ]
  },
  {
   "cell_type": "code",
   "execution_count": null,
   "metadata": {
    "slideshow": {
     "slide_type": "fragment"
    },
    "solved": false,
    "undeletable": false
   },
   "outputs": [],
   "source": []
  },
  {
   "cell_type": "code",
   "execution_count": null,
   "metadata": {
    "slideshow": {
     "slide_type": "fragment"
    },
    "solved": false,
    "test": true,
    "undeletable": false
   },
   "outputs": [],
   "source": [
    "# Test Cell\n",
    "try:\n",
    "    with HiddenPrints():\n",
    "        assert \"example\" in _i and '+' in _i and '*' in _i and 'other_example' in _i\n",
    "        assert example + 10*other_example == _\n",
    "    print(\"Passed!\")\n",
    "except AssertionError as e:\n",
    "    print(\"Failed...\", e)\n",
    "except Exception as e:\n",
    "    if _i is not '':\n",
    "        print(\"Error: \", e)\n",
    "        print(\"Failed...\")\n",
    "    pass"
   ]
  },
  {
   "cell_type": "markdown",
   "metadata": {
    "slideshow": {
     "slide_type": "slide"
    },
    "solved": false,
    "undeletable": false
   },
   "source": [
    "In the next cell, create a new variable `reversed_example` that should correspond to the reverse of the string `example`."
   ]
  },
  {
   "cell_type": "code",
   "execution_count": null,
   "metadata": {
    "slideshow": {
     "slide_type": "fragment"
    },
    "solved": false,
    "undeletable": false
   },
   "outputs": [],
   "source": []
  },
  {
   "cell_type": "code",
   "execution_count": null,
   "metadata": {
    "slideshow": {
     "slide_type": "fragment"
    },
    "solved": false,
    "test": true,
    "undeletable": false
   },
   "outputs": [],
   "source": [
    "# Test Cell\n",
    "# Test if the [::-1] part is part of the input of the above cell\n",
    "try:\n",
    "    with HiddenPrints():\n",
    "        assert '[::-1]' in _i\n",
    "        assert reversed_example == example[::-1]\n",
    "    print(\"Passed!\")\n",
    "except AssertionError as e:\n",
    "    print(\"Failed...\", e)\n",
    "except Exception as e:\n",
    "    if _i is not '':\n",
    "        print(\"Error: \", e)\n",
    "        print(\"Failed...\")\n",
    "    pass"
   ]
  },
  {
   "cell_type": "markdown",
   "metadata": {
    "slideshow": {
     "slide_type": "slide"
    },
    "solved": false,
    "undeletable": false
   },
   "source": [
    "In the next cell, get the string `example` in all lower case.\n",
    "\n",
    "<span class=\"color5\"><b>Note:</b> Remember you can explore the built-in functions associated to the string object by using `example.` + `Tab`</span>"
   ]
  },
  {
   "cell_type": "code",
   "execution_count": null,
   "metadata": {
    "slideshow": {
     "slide_type": "fragment"
    },
    "solved": false,
    "undeletable": false
   },
   "outputs": [],
   "source": []
  },
  {
   "cell_type": "code",
   "execution_count": null,
   "metadata": {
    "slideshow": {
     "slide_type": "fragment"
    },
    "solved": false,
    "test": true,
    "undeletable": false
   },
   "outputs": [],
   "source": [
    "# Test Cell\n",
    "try:\n",
    "    with HiddenPrints():\n",
    "        assert \"lower\" in _i\n",
    "        assert _ == example.lower()\n",
    "    print(\"Passed!\")\n",
    "    enable[3] = False\n",
    "except AssertionError as e:\n",
    "    print(\"Failed...\", e)\n",
    "except Exception as e:\n",
    "    if _i is not '':\n",
    "        print(\"Error: \", e)\n",
    "        print(\"Failed...\")\n",
    "    pass"
   ]
  },
  {
   "cell_type": "markdown",
   "metadata": {
    "slideshow": {
     "slide_type": "slide"
    },
    "solved": false,
    "undeletable": false
   },
   "source": [
    "It is also possible to compare strings using the `<`, `>` or other operators. Specifically, `<` and `>` compare two strings relative to the alphabetical order. Given your intuition, which of the next statements is true?"
   ]
  },
  {
   "cell_type": "code",
   "execution_count": 11,
   "metadata": {
    "hide": true,
    "init_cell": true,
    "slideshow": {
     "slide_type": "fragment"
    },
    "solved": false,
    "undeletable": false
   },
   "outputs": [
    {
     "data": {
      "application/vnd.jupyter.widget-view+json": {
       "model_id": "0e1a21f1b0094c2f9c3c481cea008504",
       "version_major": 2,
       "version_minor": 0
      },
      "text/plain": [
       "RadioButtons(layout=Layout(width='max-content'), options=('The results must be the same for any computer.', 'T…"
      ]
     },
     "metadata": {},
     "output_type": "display_data"
    }
   ],
   "source": [
    "question_4 = widgets.RadioButtons(\n",
    "    options=['The results must be the same for any computer.', \n",
    "             'The result may differ for different regions.', \n",
    "             'The results differs in different timezones.', \n",
    "             'The result may be random.'],\n",
    "    layout={'width': 'max-content'}, # If the items' names are long\n",
    "    description='',\n",
    "    value = None,\n",
    "    # disabled=enable[3]\n",
    ")\n",
    "\n",
    "display(question_4)"
   ]
  },
  {
   "cell_type": "code",
   "execution_count": null,
   "metadata": {
    "slideshow": {
     "slide_type": "fragment"
    },
    "solved": false,
    "test": true,
    "undeletable": false
   },
   "outputs": [],
   "source": [
    "# Test Cell\n",
    "# Print a sentence saying: \"The result differs dependeing on the used alphabet, which depends on the local machine and region.\"\n",
    "try:\n",
    "    with HiddenPrints():\n",
    "        assert question_4.value == question_4.options[1]\n",
    "    print(\"Passed!\")\n",
    "    print(\"The result differs dependeing on the used alphabet, which depends on the local machine and region.\")\n",
    "except AssertionError as e:\n",
    "    print(\"Failed...\", e)\n",
    "except Exception as e:\n",
    "    pass"
   ]
  },
  {
   "cell_type": "markdown",
   "metadata": {
    "slideshow": {
     "slide_type": "slide"
    },
    "solved": false,
    "undeletable": false
   },
   "source": [
    "<br><br>\n",
    "\n",
    "### Congratulations, you have finished this notebook successfully! You now possess all the knowledge to make your own applications using Python."
   ]
  },
  {
   "cell_type": "markdown",
   "metadata": {
    "hideCode": false,
    "hidePrompt": false,
    "slideshow": {
     "slide_type": "fragment"
    },
    "solved": false,
    "tags": [
     "footer"
    ],
    "template": true,
    "undeletable": false
   },
   "source": [
    "<hr>\n",
    "<table width=\"100%\">\n",
    "    <tr>\n",
    "        <td class=\"footer_logo\">\n",
    "            <img src=\"../../images/ost_logo.png\" alt=\"biosignalsnotebooks | project logo [footer]\">\n",
    "        </td>\n",
    "        <td width=\"40%\" style=\"text-align:left\">\n",
    "            <a href=\"../MainFiles/aux_files/biosignalsnotebooks_presentation.pdf\" target=\"_blank\">&#9740; Project Presentation</a>\n",
    "            <br>\n",
    "            <a href=\"https://github.com/biosignalsplux/biosignalsnotebooks\" target=\"_blank\">&#9740; GitHub Repository</a>\n",
    "            <br>\n",
    "            <a href=\"https://pypi.org/project/biosignalsnotebooks/\" target=\"_blank\">&#9740; How to install biosignalsnotebooks Python package ?</a>\n",
    "            <br>\n",
    "            <a href=\"https://www.biosignalsplux.com/notebooks/Categories/MainFiles/signal_samples.ipynb\">&#9740; Signal Library</a>\n",
    "        </td>\n",
    "        <td width=\"40%\" style=\"text-align:left\">\n",
    "            <a href=\"https://www.biosignalsplux.com/notebooks/Categories/MainFiles/biosignalsnotebooks.ipynb\">&#9740; Notebook Categories</a>\n",
    "            <br>\n",
    "            <a href=\"https://www.biosignalsplux.com/notebooks/Categories/MainFiles/by_diff.ipynb\">&#9740; Notebooks by Difficulty</a>\n",
    "            <br>\n",
    "            <a href=\"https://www.biosignalsplux.com/notebooks/Categories/MainFiles/by_signal_type.ipynb\">&#9740; Notebooks by Signal Type</a>\n",
    "            <br>\n",
    "            <a href=\"https://www.biosignalsplux.com/notebooks/Categories/MainFiles/by_tag.ipynb\">&#9740; Notebooks by Tag</a>\n",
    "        </td>\n",
    "    </tr>\n",
    "</table>"
   ]
  },
  {
   "cell_type": "markdown",
   "metadata": {
    "hideCode": false,
    "hidePrompt": false,
    "slideshow": {
     "slide_type": "skip"
    },
    "solved": false,
    "tags": [
     "hide_mark",
     "aux"
    ],
    "undeletable": false
   },
   "source": [
    "<span class=\"color6\"><strong>Auxiliary Code Segment (should not be replicated by\n",
    "the user)</strong></span>"
   ]
  },
  {
   "cell_type": "code",
   "execution_count": 12,
   "metadata": {
    "hideCode": false,
    "hidePrompt": false,
    "init_cell": true,
    "slideshow": {
     "slide_type": "skip"
    },
    "solved": false,
    "tags": [
     "hide_both"
    ],
    "undeletable": false
   },
   "outputs": [
    {
     "data": {
      "application/javascript": [
       "\n",
       "(function(root) {\n",
       "  function now() {\n",
       "    return new Date();\n",
       "  }\n",
       "\n",
       "  var force = true;\n",
       "\n",
       "  if (typeof root._bokeh_onload_callbacks === \"undefined\" || force === true) {\n",
       "    root._bokeh_onload_callbacks = [];\n",
       "    root._bokeh_is_loading = undefined;\n",
       "  }\n",
       "\n",
       "  var JS_MIME_TYPE = 'application/javascript';\n",
       "  var HTML_MIME_TYPE = 'text/html';\n",
       "  var EXEC_MIME_TYPE = 'application/vnd.bokehjs_exec.v0+json';\n",
       "  var CLASS_NAME = 'output_bokeh rendered_html';\n",
       "\n",
       "  /**\n",
       "   * Render data to the DOM node\n",
       "   */\n",
       "  function render(props, node) {\n",
       "    var script = document.createElement(\"script\");\n",
       "    node.appendChild(script);\n",
       "  }\n",
       "\n",
       "  /**\n",
       "   * Handle when an output is cleared or removed\n",
       "   */\n",
       "  function handleClearOutput(event, handle) {\n",
       "    var cell = handle.cell;\n",
       "\n",
       "    var id = cell.output_area._bokeh_element_id;\n",
       "    var server_id = cell.output_area._bokeh_server_id;\n",
       "    // Clean up Bokeh references\n",
       "    if (id != null && id in Bokeh.index) {\n",
       "      Bokeh.index[id].model.document.clear();\n",
       "      delete Bokeh.index[id];\n",
       "    }\n",
       "\n",
       "    if (server_id !== undefined) {\n",
       "      // Clean up Bokeh references\n",
       "      var cmd = \"from bokeh.io.state import curstate; print(curstate().uuid_to_server['\" + server_id + \"'].get_sessions()[0].document.roots[0]._id)\";\n",
       "      cell.notebook.kernel.execute(cmd, {\n",
       "        iopub: {\n",
       "          output: function(msg) {\n",
       "            var id = msg.content.text.trim();\n",
       "            if (id in Bokeh.index) {\n",
       "              Bokeh.index[id].model.document.clear();\n",
       "              delete Bokeh.index[id];\n",
       "            }\n",
       "          }\n",
       "        }\n",
       "      });\n",
       "      // Destroy server and session\n",
       "      var cmd = \"import bokeh.io.notebook as ion; ion.destroy_server('\" + server_id + \"')\";\n",
       "      cell.notebook.kernel.execute(cmd);\n",
       "    }\n",
       "  }\n",
       "\n",
       "  /**\n",
       "   * Handle when a new output is added\n",
       "   */\n",
       "  function handleAddOutput(event, handle) {\n",
       "    var output_area = handle.output_area;\n",
       "    var output = handle.output;\n",
       "\n",
       "    // limit handleAddOutput to display_data with EXEC_MIME_TYPE content only\n",
       "    if ((output.output_type != \"display_data\") || (!output.data.hasOwnProperty(EXEC_MIME_TYPE))) {\n",
       "      return\n",
       "    }\n",
       "\n",
       "    var toinsert = output_area.element.find(\".\" + CLASS_NAME.split(' ')[0]);\n",
       "\n",
       "    if (output.metadata[EXEC_MIME_TYPE][\"id\"] !== undefined) {\n",
       "      toinsert[toinsert.length - 1].firstChild.textContent = output.data[JS_MIME_TYPE];\n",
       "      // store reference to embed id on output_area\n",
       "      output_area._bokeh_element_id = output.metadata[EXEC_MIME_TYPE][\"id\"];\n",
       "    }\n",
       "    if (output.metadata[EXEC_MIME_TYPE][\"server_id\"] !== undefined) {\n",
       "      var bk_div = document.createElement(\"div\");\n",
       "      bk_div.innerHTML = output.data[HTML_MIME_TYPE];\n",
       "      var script_attrs = bk_div.children[0].attributes;\n",
       "      for (var i = 0; i < script_attrs.length; i++) {\n",
       "        toinsert[toinsert.length - 1].firstChild.setAttribute(script_attrs[i].name, script_attrs[i].value);\n",
       "        toinsert[toinsert.length - 1].firstChild.textContent = bk_div.children[0].textContent\n",
       "      }\n",
       "      // store reference to server id on output_area\n",
       "      output_area._bokeh_server_id = output.metadata[EXEC_MIME_TYPE][\"server_id\"];\n",
       "    }\n",
       "  }\n",
       "\n",
       "  function register_renderer(events, OutputArea) {\n",
       "\n",
       "    function append_mime(data, metadata, element) {\n",
       "      // create a DOM node to render to\n",
       "      var toinsert = this.create_output_subarea(\n",
       "        metadata,\n",
       "        CLASS_NAME,\n",
       "        EXEC_MIME_TYPE\n",
       "      );\n",
       "      this.keyboard_manager.register_events(toinsert);\n",
       "      // Render to node\n",
       "      var props = {data: data, metadata: metadata[EXEC_MIME_TYPE]};\n",
       "      render(props, toinsert[toinsert.length - 1]);\n",
       "      element.append(toinsert);\n",
       "      return toinsert\n",
       "    }\n",
       "\n",
       "    /* Handle when an output is cleared or removed */\n",
       "    events.on('clear_output.CodeCell', handleClearOutput);\n",
       "    events.on('delete.Cell', handleClearOutput);\n",
       "\n",
       "    /* Handle when a new output is added */\n",
       "    events.on('output_added.OutputArea', handleAddOutput);\n",
       "\n",
       "    /**\n",
       "     * Register the mime type and append_mime function with output_area\n",
       "     */\n",
       "    OutputArea.prototype.register_mime_type(EXEC_MIME_TYPE, append_mime, {\n",
       "      /* Is output safe? */\n",
       "      safe: true,\n",
       "      /* Index of renderer in `output_area.display_order` */\n",
       "      index: 0\n",
       "    });\n",
       "  }\n",
       "\n",
       "  // register the mime type if in Jupyter Notebook environment and previously unregistered\n",
       "  if (root.Jupyter !== undefined) {\n",
       "    var events = require('base/js/events');\n",
       "    var OutputArea = require('notebook/js/outputarea').OutputArea;\n",
       "\n",
       "    if (OutputArea.prototype.mime_types().indexOf(EXEC_MIME_TYPE) == -1) {\n",
       "      register_renderer(events, OutputArea);\n",
       "    }\n",
       "  }\n",
       "\n",
       "  \n",
       "  if (typeof (root._bokeh_timeout) === \"undefined\" || force === true) {\n",
       "    root._bokeh_timeout = Date.now() + 5000;\n",
       "    root._bokeh_failed_load = false;\n",
       "  }\n",
       "\n",
       "  var NB_LOAD_WARNING = {'data': {'text/html':\n",
       "     \"<div style='background-color: #fdd'>\\n\"+\n",
       "     \"<p>\\n\"+\n",
       "     \"BokehJS does not appear to have successfully loaded. If loading BokehJS from CDN, this \\n\"+\n",
       "     \"may be due to a slow or bad network connection. Possible fixes:\\n\"+\n",
       "     \"</p>\\n\"+\n",
       "     \"<ul>\\n\"+\n",
       "     \"<li>re-rerun `output_notebook()` to attempt to load from CDN again, or</li>\\n\"+\n",
       "     \"<li>use INLINE resources instead, as so:</li>\\n\"+\n",
       "     \"</ul>\\n\"+\n",
       "     \"<code>\\n\"+\n",
       "     \"from bokeh.resources import INLINE\\n\"+\n",
       "     \"output_notebook(resources=INLINE)\\n\"+\n",
       "     \"</code>\\n\"+\n",
       "     \"</div>\"}};\n",
       "\n",
       "  function display_loaded() {\n",
       "    var el = document.getElementById(null);\n",
       "    if (el != null) {\n",
       "      el.textContent = \"BokehJS is loading...\";\n",
       "    }\n",
       "    if (root.Bokeh !== undefined) {\n",
       "      if (el != null) {\n",
       "        el.textContent = \"BokehJS \" + root.Bokeh.version + \" successfully loaded.\";\n",
       "      }\n",
       "    } else if (Date.now() < root._bokeh_timeout) {\n",
       "      setTimeout(display_loaded, 100)\n",
       "    }\n",
       "  }\n",
       "\n",
       "\n",
       "  function run_callbacks() {\n",
       "    try {\n",
       "      root._bokeh_onload_callbacks.forEach(function(callback) {\n",
       "        if (callback != null)\n",
       "          callback();\n",
       "      });\n",
       "    } finally {\n",
       "      delete root._bokeh_onload_callbacks\n",
       "    }\n",
       "    console.debug(\"Bokeh: all callbacks have finished\");\n",
       "  }\n",
       "\n",
       "  function load_libs(css_urls, js_urls, callback) {\n",
       "    if (css_urls == null) css_urls = [];\n",
       "    if (js_urls == null) js_urls = [];\n",
       "\n",
       "    root._bokeh_onload_callbacks.push(callback);\n",
       "    if (root._bokeh_is_loading > 0) {\n",
       "      console.debug(\"Bokeh: BokehJS is being loaded, scheduling callback at\", now());\n",
       "      return null;\n",
       "    }\n",
       "    if (js_urls == null || js_urls.length === 0) {\n",
       "      run_callbacks();\n",
       "      return null;\n",
       "    }\n",
       "    console.debug(\"Bokeh: BokehJS not loaded, scheduling load and callback at\", now());\n",
       "    root._bokeh_is_loading = css_urls.length + js_urls.length;\n",
       "\n",
       "    function on_load() {\n",
       "      root._bokeh_is_loading--;\n",
       "      if (root._bokeh_is_loading === 0) {\n",
       "        console.debug(\"Bokeh: all BokehJS libraries/stylesheets loaded\");\n",
       "        run_callbacks()\n",
       "      }\n",
       "    }\n",
       "\n",
       "    function on_error() {\n",
       "      console.error(\"failed to load \" + url);\n",
       "    }\n",
       "\n",
       "    for (var i = 0; i < css_urls.length; i++) {\n",
       "      var url = css_urls[i];\n",
       "      const element = document.createElement(\"link\");\n",
       "      element.onload = on_load;\n",
       "      element.onerror = on_error;\n",
       "      element.rel = \"stylesheet\";\n",
       "      element.type = \"text/css\";\n",
       "      element.href = url;\n",
       "      console.debug(\"Bokeh: injecting link tag for BokehJS stylesheet: \", url);\n",
       "      document.body.appendChild(element);\n",
       "    }\n",
       "\n",
       "    const hashes = {\"https://cdn.bokeh.org/bokeh/release/bokeh-2.1.1.min.js\": \"kLr4fYcqcSpbuI95brIH3vnnYCquzzSxHPU6XGQCIkQRGJwhg0StNbj1eegrHs12\", \"https://cdn.bokeh.org/bokeh/release/bokeh-widgets-2.1.1.min.js\": \"xIGPmVtaOm+z0BqfSOMn4lOR6ciex448GIKG4eE61LsAvmGj48XcMQZtKcE/UXZe\", \"https://cdn.bokeh.org/bokeh/release/bokeh-tables-2.1.1.min.js\": \"Dc9u1wF/0zApGIWoBbH77iWEHtdmkuYWG839Uzmv8y8yBLXebjO9ZnERsde5Ln/P\", \"https://cdn.bokeh.org/bokeh/release/bokeh-gl-2.1.1.min.js\": \"cT9JaBz7GiRXdENrJLZNSC6eMNF3nh3fa5fTF51Svp+ukxPdwcU5kGXGPBgDCa2j\"};\n",
       "\n",
       "    for (var i = 0; i < js_urls.length; i++) {\n",
       "      var url = js_urls[i];\n",
       "      var element = document.createElement('script');\n",
       "      element.onload = on_load;\n",
       "      element.onerror = on_error;\n",
       "      element.async = false;\n",
       "      element.src = url;\n",
       "      if (url in hashes) {\n",
       "        element.crossOrigin = \"anonymous\";\n",
       "        element.integrity = \"sha384-\" + hashes[url];\n",
       "      }\n",
       "      console.debug(\"Bokeh: injecting script tag for BokehJS library: \", url);\n",
       "      document.head.appendChild(element);\n",
       "    }\n",
       "  };\n",
       "\n",
       "  function inject_raw_css(css) {\n",
       "    const element = document.createElement(\"style\");\n",
       "    element.appendChild(document.createTextNode(css));\n",
       "    document.body.appendChild(element);\n",
       "  }\n",
       "\n",
       "  \n",
       "  var js_urls = [\"https://cdn.bokeh.org/bokeh/release/bokeh-2.1.1.min.js\", \"https://cdn.bokeh.org/bokeh/release/bokeh-widgets-2.1.1.min.js\", \"https://cdn.bokeh.org/bokeh/release/bokeh-tables-2.1.1.min.js\", \"https://cdn.bokeh.org/bokeh/release/bokeh-gl-2.1.1.min.js\"];\n",
       "  var css_urls = [];\n",
       "  \n",
       "\n",
       "  var inline_js = [\n",
       "    function(Bokeh) {\n",
       "      Bokeh.set_log_level(\"info\");\n",
       "    },\n",
       "    function(Bokeh) {\n",
       "    \n",
       "    \n",
       "    }\n",
       "  ];\n",
       "\n",
       "  function run_inline_js() {\n",
       "    \n",
       "    if (root.Bokeh !== undefined || force === true) {\n",
       "      \n",
       "    for (var i = 0; i < inline_js.length; i++) {\n",
       "      inline_js[i].call(root, root.Bokeh);\n",
       "    }\n",
       "    } else if (Date.now() < root._bokeh_timeout) {\n",
       "      setTimeout(run_inline_js, 100);\n",
       "    } else if (!root._bokeh_failed_load) {\n",
       "      console.log(\"Bokeh: BokehJS failed to load within specified timeout.\");\n",
       "      root._bokeh_failed_load = true;\n",
       "    } else if (force !== true) {\n",
       "      var cell = $(document.getElementById(null)).parents('.cell').data().cell;\n",
       "      cell.output_area.append_execute_result(NB_LOAD_WARNING)\n",
       "    }\n",
       "\n",
       "  }\n",
       "\n",
       "  if (root._bokeh_is_loading === 0) {\n",
       "    console.debug(\"Bokeh: BokehJS loaded, going straight to plotting\");\n",
       "    run_inline_js();\n",
       "  } else {\n",
       "    load_libs(css_urls, js_urls, function() {\n",
       "      console.debug(\"Bokeh: BokehJS plotting callback run at\", now());\n",
       "      run_inline_js();\n",
       "    });\n",
       "  }\n",
       "}(window));"
      ],
      "application/vnd.bokehjs_load.v0+json": "\n(function(root) {\n  function now() {\n    return new Date();\n  }\n\n  var force = true;\n\n  if (typeof root._bokeh_onload_callbacks === \"undefined\" || force === true) {\n    root._bokeh_onload_callbacks = [];\n    root._bokeh_is_loading = undefined;\n  }\n\n  \n\n  \n  if (typeof (root._bokeh_timeout) === \"undefined\" || force === true) {\n    root._bokeh_timeout = Date.now() + 5000;\n    root._bokeh_failed_load = false;\n  }\n\n  var NB_LOAD_WARNING = {'data': {'text/html':\n     \"<div style='background-color: #fdd'>\\n\"+\n     \"<p>\\n\"+\n     \"BokehJS does not appear to have successfully loaded. If loading BokehJS from CDN, this \\n\"+\n     \"may be due to a slow or bad network connection. Possible fixes:\\n\"+\n     \"</p>\\n\"+\n     \"<ul>\\n\"+\n     \"<li>re-rerun `output_notebook()` to attempt to load from CDN again, or</li>\\n\"+\n     \"<li>use INLINE resources instead, as so:</li>\\n\"+\n     \"</ul>\\n\"+\n     \"<code>\\n\"+\n     \"from bokeh.resources import INLINE\\n\"+\n     \"output_notebook(resources=INLINE)\\n\"+\n     \"</code>\\n\"+\n     \"</div>\"}};\n\n  function display_loaded() {\n    var el = document.getElementById(null);\n    if (el != null) {\n      el.textContent = \"BokehJS is loading...\";\n    }\n    if (root.Bokeh !== undefined) {\n      if (el != null) {\n        el.textContent = \"BokehJS \" + root.Bokeh.version + \" successfully loaded.\";\n      }\n    } else if (Date.now() < root._bokeh_timeout) {\n      setTimeout(display_loaded, 100)\n    }\n  }\n\n\n  function run_callbacks() {\n    try {\n      root._bokeh_onload_callbacks.forEach(function(callback) {\n        if (callback != null)\n          callback();\n      });\n    } finally {\n      delete root._bokeh_onload_callbacks\n    }\n    console.debug(\"Bokeh: all callbacks have finished\");\n  }\n\n  function load_libs(css_urls, js_urls, callback) {\n    if (css_urls == null) css_urls = [];\n    if (js_urls == null) js_urls = [];\n\n    root._bokeh_onload_callbacks.push(callback);\n    if (root._bokeh_is_loading > 0) {\n      console.debug(\"Bokeh: BokehJS is being loaded, scheduling callback at\", now());\n      return null;\n    }\n    if (js_urls == null || js_urls.length === 0) {\n      run_callbacks();\n      return null;\n    }\n    console.debug(\"Bokeh: BokehJS not loaded, scheduling load and callback at\", now());\n    root._bokeh_is_loading = css_urls.length + js_urls.length;\n\n    function on_load() {\n      root._bokeh_is_loading--;\n      if (root._bokeh_is_loading === 0) {\n        console.debug(\"Bokeh: all BokehJS libraries/stylesheets loaded\");\n        run_callbacks()\n      }\n    }\n\n    function on_error() {\n      console.error(\"failed to load \" + url);\n    }\n\n    for (var i = 0; i < css_urls.length; i++) {\n      var url = css_urls[i];\n      const element = document.createElement(\"link\");\n      element.onload = on_load;\n      element.onerror = on_error;\n      element.rel = \"stylesheet\";\n      element.type = \"text/css\";\n      element.href = url;\n      console.debug(\"Bokeh: injecting link tag for BokehJS stylesheet: \", url);\n      document.body.appendChild(element);\n    }\n\n    const hashes = {\"https://cdn.bokeh.org/bokeh/release/bokeh-2.1.1.min.js\": \"kLr4fYcqcSpbuI95brIH3vnnYCquzzSxHPU6XGQCIkQRGJwhg0StNbj1eegrHs12\", \"https://cdn.bokeh.org/bokeh/release/bokeh-widgets-2.1.1.min.js\": \"xIGPmVtaOm+z0BqfSOMn4lOR6ciex448GIKG4eE61LsAvmGj48XcMQZtKcE/UXZe\", \"https://cdn.bokeh.org/bokeh/release/bokeh-tables-2.1.1.min.js\": \"Dc9u1wF/0zApGIWoBbH77iWEHtdmkuYWG839Uzmv8y8yBLXebjO9ZnERsde5Ln/P\", \"https://cdn.bokeh.org/bokeh/release/bokeh-gl-2.1.1.min.js\": \"cT9JaBz7GiRXdENrJLZNSC6eMNF3nh3fa5fTF51Svp+ukxPdwcU5kGXGPBgDCa2j\"};\n\n    for (var i = 0; i < js_urls.length; i++) {\n      var url = js_urls[i];\n      var element = document.createElement('script');\n      element.onload = on_load;\n      element.onerror = on_error;\n      element.async = false;\n      element.src = url;\n      if (url in hashes) {\n        element.crossOrigin = \"anonymous\";\n        element.integrity = \"sha384-\" + hashes[url];\n      }\n      console.debug(\"Bokeh: injecting script tag for BokehJS library: \", url);\n      document.head.appendChild(element);\n    }\n  };\n\n  function inject_raw_css(css) {\n    const element = document.createElement(\"style\");\n    element.appendChild(document.createTextNode(css));\n    document.body.appendChild(element);\n  }\n\n  \n  var js_urls = [\"https://cdn.bokeh.org/bokeh/release/bokeh-2.1.1.min.js\", \"https://cdn.bokeh.org/bokeh/release/bokeh-widgets-2.1.1.min.js\", \"https://cdn.bokeh.org/bokeh/release/bokeh-tables-2.1.1.min.js\", \"https://cdn.bokeh.org/bokeh/release/bokeh-gl-2.1.1.min.js\"];\n  var css_urls = [];\n  \n\n  var inline_js = [\n    function(Bokeh) {\n      Bokeh.set_log_level(\"info\");\n    },\n    function(Bokeh) {\n    \n    \n    }\n  ];\n\n  function run_inline_js() {\n    \n    if (root.Bokeh !== undefined || force === true) {\n      \n    for (var i = 0; i < inline_js.length; i++) {\n      inline_js[i].call(root, root.Bokeh);\n    }\n    } else if (Date.now() < root._bokeh_timeout) {\n      setTimeout(run_inline_js, 100);\n    } else if (!root._bokeh_failed_load) {\n      console.log(\"Bokeh: BokehJS failed to load within specified timeout.\");\n      root._bokeh_failed_load = true;\n    } else if (force !== true) {\n      var cell = $(document.getElementById(null)).parents('.cell').data().cell;\n      cell.output_area.append_execute_result(NB_LOAD_WARNING)\n    }\n\n  }\n\n  if (root._bokeh_is_loading === 0) {\n    console.debug(\"Bokeh: BokehJS loaded, going straight to plotting\");\n    run_inline_js();\n  } else {\n    load_libs(css_urls, js_urls, function() {\n      console.debug(\"Bokeh: BokehJS plotting callback run at\", now());\n      run_inline_js();\n    });\n  }\n}(window));"
     },
     "metadata": {},
     "output_type": "display_data"
    },
    {
     "name": "stdout",
     "output_type": "stream",
     "text": [
      ".................... CSS Style Applied to Jupyter Notebook .........................\n"
     ]
    },
    {
     "data": {
      "text/html": [
       "<div id='style_import'><style>\n",
       "@import url(https://fonts.googleapis.com/css?family=Cuprum|Lato);\n",
       "body {\n",
       "font-family: 'Cuprum' !important;\n",
       "font-size: 12pt !important;\n",
       "/*overflow: hidden !important;*/\n",
       "line-height: 1 !important;\n",
       "font-weight: 400 !important;\n",
       "color: #58585A !important;\n",
       "text-align: justify !important;\n",
       "text-justify: inter-word !important;\n",
       "background-color: white !important;\n",
       "}\n",
       "/*\n",
       "#notebook-container {\n",
       "-webkit-box-shadow: none;\n",
       "box-shadow: none;\n",
       "}\n",
       "\n",
       ".rendered_html h1 { font-size: 4rem !important;  }\n",
       ".rendered_html h2 { font-size: 3rem !important; }\n",
       ".rendered_html h3 { font-size: 2.5rem !important; }\n",
       ".rendered_html h4 { font-size: 2rem !important; }\n",
       ".rendered_html h5 { font-size: 1.5rem !important; }\n",
       ".rendered_html h6 { font-size: 1.5rem !important; }\n",
       ".rendered_html h1, \n",
       ".rendered_html h2, \n",
       ".rendered_html h3, \n",
       ".rendered_html h4,\n",
       ".rendered_html h5, \n",
       ".rendered_html h6 {\n",
       "font-family: 'Lato' !important;\n",
       "font-weight: 300 !important;\n",
       "line-height: 1.5em !important;\n",
       "color: rgb(221, 153, 51) !important;\n",
       "}\n",
       "h1 { font-size: 4.5rem !important; }\n",
       "h2 { font-size: 4rem !important; }\n",
       "h3 { font-size: 3.5rem !important; }\n",
       "h4 { font-size: 3rem !important; }\n",
       "h5 { font-size: 2.5rem !important; }\n",
       "h6 { font-size: 2rem !important; }\n",
       "h1, h2, h3, h4, h5, h6 {\n",
       "font-family: 'Cuprum' !important;\n",
       "color: #e6ae48 !important;\n",
       "line-height: 150px !important;\n",
       "}\n",
       "p {\n",
       "font-family: 'Cuprum' !important;\n",
       "font-size: 12pt !important;\n",
       "line-height: 1 !important;\n",
       "font-weight: 400 !important;\n",
       "color: #58585A !important;\n",
       "text-align: justify !important;\n",
       "text-justify: inter-word !important;\n",
       "}\n",
       "li {\n",
       "font-family: 'Cuprum' !important;\n",
       "font-size: 12pt !important;\n",
       "line-height: 1 !important;\n",
       "font-weight: 400 !important;\n",
       "color: #58585A !important;\n",
       "text-align: justify !important;\n",
       "text-justify: inter-word !important;\n",
       "}\n",
       "code {\n",
       "font-family: 'Cuprum' !important;\n",
       "font-size: 12pt !important;\n",
       "}\n",
       "pre {\n",
       "font-family: 'Cuprum' !important;\n",
       "font-size: 12pt !important;\n",
       "}\n",
       "div.input_area {\n",
       "border: none !important;\n",
       "background: whitesmoke !important;\n",
       "}\n",
       "*/\n",
       "\n",
       "pre {\n",
       "/*max-height: 100px !important;*/\n",
       "overflow-x: hidden !important;\n",
       "}\n",
       "\n",
       ".bk-root{\n",
       "height: auto !important;\n",
       "}\n",
       "\n",
       ".color1{\n",
       "color: #62C3EE !important;\n",
       "}\n",
       ".color1_cell{\n",
       "color: white !important;\n",
       "background-color: #62C3EE !important;\n",
       "}\n",
       ".color1_cell_transparency{\n",
       "color: black !important;\n",
       "background-color: rgba(98,195,238,0.20) !important;\n",
       "}\n",
       ".color1_top{\n",
       "border-top:solid 3px #62C3EE !important;\n",
       "}\n",
       ".gradient_color1 {\n",
       "/*background-image: linear-gradient(to right, rgba(98,195,238,0.20) , white) !important;*/\n",
       "box-shadow:0pt -2pt 0pt 0pt #62C3EE inset !important;\n",
       "}\n",
       "\n",
       ".color2{\n",
       "color: #009EE3 !important;\n",
       "}\n",
       ".color2_cell{\n",
       "color: white !important;\n",
       "background-color: #009EE3 !important;\n",
       "}\n",
       ".color2_cell_transparency{\n",
       "color: black !important;\n",
       "background-color: rgba(0,158,227,0.20) !important;\n",
       "}\n",
       ".gradient_color2 {\n",
       "/*background-image: linear-gradient(to right, rgba(0,158,227,0.20) , white) !important;*/\n",
       "box-shadow:0pt -2pt 0pt 0pt #009EE3 inset !important;\n",
       "}\n",
       "\n",
       ".color3{\n",
       "color: #AFE1F6 !important;\n",
       "}\n",
       ".color3_cell{\n",
       "color: white !important;\n",
       "background-color: #AFE1F6 !important;\n",
       "}\n",
       ".color3_cell_transparency{\n",
       "color: black !important;\n",
       "background-color: rgba(175,225,246,0.20) !important;\n",
       "}\n",
       ".gradient_color3 {\n",
       "/*background-image: linear-gradient(to right, rgba(175,225,246,0.20) , white) !important;*/\n",
       "box-shadow:0pt -2pt 0pt 0pt #AFE1F6 inset !important;\n",
       "}\n",
       "\n",
       ".color4{\n",
       "color: #94C11E !important;\n",
       "}\n",
       ".color4_cell{\n",
       "color: white !important;\n",
       "background-color: #94C11E !important;\n",
       "}\n",
       ".color4_cell_transparency{\n",
       "color: black !important;\n",
       "background-color: rgba(148,193,30,0.20) !important;\n",
       "}\n",
       ".gradient_color4 {\n",
       "/*background-image: linear-gradient(to right, rgba(148,193,30,0.20), white) !important;*/\n",
       "box-shadow:0pt -2pt 0pt 0pt #94C11E inset !important;\n",
       "}\n",
       "\n",
       ".color5{\n",
       "color: #B4D463 !important;\n",
       "}\n",
       ".color5_cell{\n",
       "color: white !important;\n",
       "background-color: #B4D463 !important;\n",
       "}\n",
       ".color5_cell_transparency{\n",
       "color: black !important;\n",
       "background-color: rgba(180,212,99,0.20) !important;\n",
       "}\n",
       ".gradient_color5 {\n",
       "/*background-image: linear-gradient(to right, rgba(180,212,99,0.20), white) !important;*/\n",
       "box-shadow:0pt -2pt 0pt 0pt #B4D463 inset !important;\n",
       "}\n",
       "\n",
       ".color6{\n",
       "color: #DEEBB9 !important;\n",
       "}\n",
       ".color6_cell{\n",
       "color: white !important;\n",
       "background-color: #DEEBB9 !important;\n",
       "}\n",
       ".color6_cell_transparency{\n",
       "color: black !important;\n",
       "background-color: rgba(222,235,185,0.20) !important;\n",
       "}\n",
       ".gradient_color6 {\n",
       "/*background-image: linear-gradient(to right, rgba(222,235,185,0.20), white) !important;*/\n",
       "box-shadow:0pt -2pt 0pt 0pt #DEEBB9 inset !important;\n",
       "}\n",
       "\n",
       ".color7{\n",
       "color: #E84D0E !important;\n",
       "}\n",
       ".color7_cell{\n",
       "color: white !important;\n",
       "background-color: #E84D0E !important;\n",
       "}\n",
       ".color7_cell_transparency{\n",
       "color: black !important;\n",
       "background-color: rgba(232,77,14,0.20) !important;\n",
       "}\n",
       ".gradient_color7 {\n",
       "/*background-image: linear-gradient(to right, rgba(232,77,14,0.20), white) !important;*/\n",
       "box-shadow:0pt -2pt 0pt 0pt #E84D0E inset !important;\n",
       "}\n",
       "\n",
       ".color8{\n",
       "color: #F18F69 !important;\n",
       "}\n",
       ".color8_cell{\n",
       "color: white !important;\n",
       "background-color: #F18F69 !important;\n",
       "}\n",
       ".color8_cell_transparency{\n",
       "color: black !important;\n",
       "background-color: rgba(241,143,105,0.20) !important;\n",
       "}\n",
       ".gradient_color8 {\n",
       "/*background-image: linear-gradient(to right, rgba(241,143,105,0.20) , white) !important;*/\n",
       "box-shadow:0pt -2pt 0pt 0pt #F18F69 inset !important;\n",
       "}\n",
       "\n",
       ".color9{\n",
       "color: #F1F1F1 !important;\n",
       "}\n",
       "\n",
       ".color10{\n",
       "color: #D2D3D5 !important;\n",
       "}\n",
       "\n",
       ".color11{\n",
       "color: #58585A !important;\n",
       "}\n",
       "\n",
       ".color12{\n",
       "color: #F8D0BE !important;\n",
       "}\n",
       ".color12_cell{\n",
       "color: white !important;\n",
       "background-color: #F8D0BE !important;\n",
       "}\n",
       ".color12_cell_transparency{\n",
       "color: black !important;\n",
       "background-color: rgba(248,208,190,0.20) !important;\n",
       "}\n",
       ".gradient_color12 {\n",
       "/*background-image: linear-gradient(to right, rgba(248,208,190,0.20) , white) !important;*/\n",
       "box-shadow:0pt -2pt 0pt 0pt #F8D0BE inset !important;\n",
       "}\n",
       "\n",
       ".open_cell_light{\n",
       "color: #58585A !important;\n",
       "background-color: #F1F1F1 !important;\n",
       "font-size: 12px !important;\n",
       "}\n",
       "\n",
       ".open_cell_dark{\n",
       "color: #58585A !important;\n",
       "background-color: #D2D3D5 !important;\n",
       "}\n",
       "\n",
       ".open_cell_border_1{\n",
       "border-right: 2pt solid #62C3EE !important;\n",
       "}\n",
       "\n",
       ".open_cell_border_2{\n",
       "border-right: 2pt solid #009EE3 !important;\n",
       "}\n",
       "\n",
       "\n",
       ".open_cell_border_3{\n",
       "border-right: 2pt solid #AFE1F6 !important;\n",
       "}\n",
       "\n",
       "\n",
       ".open_cell_border_4{\n",
       "border-right: 2pt solid #94C11E !important;\n",
       "}\n",
       "\n",
       "\n",
       ".open_cell_border_5{\n",
       "border-right: 2pt solid #B4D463 !important;\n",
       "}\n",
       "\n",
       "\n",
       ".open_cell_border_6{\n",
       "border-right: 2pt solid #DEEBB9 !important;\n",
       "}\n",
       "\n",
       "\n",
       ".open_cell_border_7{\n",
       "border-right: 2pt solid #E84D0E !important;\n",
       "}\n",
       "\n",
       "\n",
       ".open_cell_border_8{\n",
       "border-right: 2pt solid #F18F69 !important;\n",
       "}\n",
       "\n",
       ".open_cell_border_12{\n",
       "border-right: 2pt solid #F8D0BE !important;\n",
       "}\n",
       "\n",
       ".open_cell_border_13{\n",
       "border-right: 2pt solid #FDC400 !important;\n",
       "}\n",
       "\n",
       ".open_subtitle_cell{\n",
       "background-color: white !important;\n",
       "border-radius: 30px 30px 30px 30px !important;\n",
       "padding: 2px !important;\n",
       "}\n",
       "\n",
       ".center_cell{\n",
       "text-align: center !important;\n",
       "}\n",
       "\n",
       ".border_cell_left{\n",
       "border-left: 1pt solid black !important;\n",
       "}\n",
       "\n",
       ".border_cell_bottom_black{\n",
       "border-bottom: 1pt solid black !important;\n",
       "}\n",
       "\n",
       ".border_cell_bottom_white{\n",
       "border-bottom: 1pt solid white !important;\n",
       "}\n",
       "\n",
       ".round_cell_left{\n",
       "border-radius: 30px 0px 0px 30px !important;\n",
       "}\n",
       "\n",
       ".round_cell_right{\n",
       "border-radius: 0px 30px 30px 0px !important;\n",
       "}\n",
       "\n",
       ".round_cell_both{\n",
       "border-radius: 30px 30px 30px 30px !important;\n",
       "}\n",
       "\n",
       ".opacity{\n",
       "color:black !important;\n",
       "opacity: 0.20 !important;\n",
       "}\n",
       "\n",
       "tr:nth-child(even) {\n",
       "background-color: white !important;\n",
       "/*border: 0px !important;*/\n",
       "} \n",
       "\n",
       "tr:nth-child(odd) {\n",
       "background-color: white !important;\n",
       "}\n",
       "\n",
       "a[href^=\"tel:\"] {\n",
       "color: orange;\n",
       "text-decoration: none;\n",
       "} \n",
       "\n",
       ".rendered_html tr, .rendered_html th, .rendered_html td, .rendered_html table {\n",
       "border: 0px;\n",
       "}\n",
       "\n",
       ".div.output_subarea {\n",
       "max-width: none !important;\n",
       "}\n",
       "\n",
       ".output_subarea {\n",
       "max-width: none !important;\n",
       "width: 100% !important;\n",
       "overflow-x: hidden !important;\n",
       "margin: 5px !important;\n",
       "}\n",
       "\n",
       ".bk-grid-column, bk-layout-scale_width {\n",
       "max-width: 95% !important;\n",
       "}\n",
       "\n",
       ".rendered_html :link{\n",
       "text-decoration: none !important;\n",
       "}\n",
       "\n",
       ".output {\n",
       "background-color: rgb(242, 242, 242) !important;\n",
       "border-radius: 10px !important;\n",
       "padding-right: 10px !important;\n",
       "}\n",
       "\n",
       ".icon{\n",
       "height: 30px !important;\n",
       "}\n",
       "\n",
       ".title{\n",
       "background-color: #F1F1F1 !important;\n",
       "}\n",
       "\n",
       "h2{\n",
       "text-indent: 30px !important;\n",
       "}\n",
       "\n",
       "#notebook{\n",
       "background-color: white !important;\n",
       "}\n",
       "\n",
       "#notebook-container{\n",
       "width: 100% !important;\n",
       "background-color: white !important;\n",
       "-webkit-box-shadow: none !important;\n",
       "box-shadow: none !important;\n",
       "padding: 0px !important;\n",
       "font-size: 13pt !important;\n",
       "/*line-height: 10pt !important;*/\n",
       "}\n",
       "\n",
       ".prompt{\n",
       "min-width: 0ex !important;\n",
       "}\n",
       "\n",
       ".output_wrapper{\n",
       "padding-left: 1ex !important;\n",
       "padding-top: 1ex !important;\n",
       "}\n",
       "\n",
       ".output_scroll{\n",
       "height: 100% !important;\n",
       "box-shadow: none !important;\n",
       "}\n",
       "\n",
       ".input {\n",
       "padding-left: 1ex !important;\n",
       "}\n",
       "\n",
       "/* Header Configuration Segment */\n",
       "\n",
       ".header_text{\n",
       "font-size: 30px !important;\n",
       "text-align: left !important;\n",
       "padding-left: 20px !important;\n",
       "}\n",
       "\n",
       ".notebook_title{\n",
       "margin-left: 10px !important;\n",
       "}\n",
       "\n",
       ".header_image_color_1{\n",
       "border-right: 2pt solid #62C3EE !important;\n",
       "}\n",
       "\n",
       ".header_image_1{\n",
       "background: url(\"../../images/icons/Load.png\") !important;\n",
       "background-repeat: no-repeat !important;\n",
       "background-size: 60% !important;\n",
       "background-position: center !important;\n",
       "min-height: 100px !important;\n",
       "}\n",
       "\n",
       ".header_image_1::before {\n",
       "content: url(../../images/icons/virtual_pixel.png) !important;\n",
       "}\n",
       "\n",
       ".header_image_color_2{\n",
       "border-right: 2pt solid #009EE3 !important;\n",
       "}\n",
       "\n",
       ".header_image_color_ext_2{\n",
       "border-bottom: 2pt solid #009EE3 !important;\n",
       "}\n",
       "\n",
       ".header_image_2{\n",
       "background: url(\"../../images/icons/Record.png\") !important;\n",
       "background-repeat: no-repeat !important;\n",
       "background-size: 60% !important;\n",
       "background-position: center !important;\n",
       "min-height: 100px !important;\n",
       "}\n",
       "\n",
       ".header_image_2::before {\n",
       "content: url(../../images/icons/virtual_pixel.png) !important;\n",
       "}\n",
       "\n",
       ".header_image_color_3{\n",
       "border-right: 2pt solid #AFE1F6 !important;\n",
       "}\n",
       "\n",
       ".header_image_3{\n",
       "background: url(\"../../images/icons/Visualise.png\") !important;\n",
       "background-repeat: no-repeat !important;\n",
       "background-size: 60% !important;\n",
       "background-position: center !important;\n",
       "min-height: 100px !important;\n",
       "}\n",
       "\n",
       ".header_image_3::before {\n",
       "content: url(../../images/icons/virtual_pixel.png) !important;\n",
       "}\n",
       "\n",
       ".header_image_color_4{\n",
       "border-right: 2pt solid #94C11E !important;\n",
       "}\n",
       "\n",
       ".header_image_4{\n",
       "background: url(\"../../images/icons/Pre-Process.png\") !important;\n",
       "background-repeat: no-repeat !important;\n",
       "background-size: 60% !important;\n",
       "background-position: center !important;\n",
       "min-height: 100px !important;\n",
       "}\n",
       "\n",
       ".header_image_4::before {\n",
       "content: url(../../images/icons/virtual_pixel.png) !important;\n",
       "}\n",
       "\n",
       ".header_image_color_5{\n",
       "border-right: 2pt solid #B4D463 !important;\n",
       "}\n",
       "\n",
       ".header_image_5{\n",
       "background: url(\"../../images/icons/Detect.png\") !important;\n",
       "background-repeat: no-repeat !important;\n",
       "background-size: 60% !important;\n",
       "background-position: center !important;\n",
       "min-height: 100px !important;\n",
       "}\n",
       "\n",
       ".header_image_5::before {\n",
       "content: url(../../images/icons/virtual_pixel.png) !important;\n",
       "}\n",
       "\n",
       ".header_image_color_6{\n",
       "border-right: 2pt solid #DEEBB9 !important;\n",
       "}\n",
       "\n",
       ".header_image_6{\n",
       "background: url(\"../../images/icons/Extract.png\") !important;\n",
       "background-repeat: no-repeat !important;\n",
       "background-size: 60% !important;\n",
       "background-position: center !important;\n",
       "min-height: 100px !important;\n",
       "}\n",
       "\n",
       ".header_image_6::before {\n",
       "content: url(../../images/icons/virtual_pixel.png) !important;\n",
       "}\n",
       "\n",
       ".header_image_color_7{\n",
       "border-right: 2pt solid #E84D0E !important;\n",
       "}\n",
       "\n",
       ".header_image_7{\n",
       "background: url(\"../../images/icons/Train_and_Classify.png\") !important;\n",
       "background-repeat: no-repeat !important;\n",
       "background-size: 60% !important;\n",
       "background-position: center !important;\n",
       "min-height: 100px !important;\n",
       "}\n",
       "\n",
       ".header_image_7::before {\n",
       "content: url(../../images/icons/virtual_pixel.png) !important;\n",
       "}\n",
       "\n",
       ".header_image_color_8{\n",
       "border-right: 2pt solid #F18F69 !important;\n",
       "}\n",
       "\n",
       ".header_image_8{\n",
       "background: url(\"../../images/icons/Understand.png\") !important;\n",
       "background-repeat: no-repeat !important;\n",
       "background-size: 60% !important;\n",
       "background-position: center !important;\n",
       "min-height: 100px !important;\n",
       "}\n",
       "\n",
       ".header_image_8::before {\n",
       "content: url(../../images/icons/virtual_pixel.png) !important;\n",
       "}\n",
       "\n",
       ".header_image_color_12{\n",
       "border-right: 2pt solid #F8D0BE !important;\n",
       "}\n",
       "\n",
       ".header_image_12{\n",
       "background: url(\"../../images/icons/Evaluate.png\") !important;\n",
       "background-repeat: no-repeat !important;\n",
       "background-size: 60% !important;\n",
       "background-position: center !important;\n",
       "min-height: 100px !important;\n",
       "}\n",
       "\n",
       ".header_image_12::before {\n",
       "content: url(../../images/icons/virtual_pixel.png) !important;\n",
       "}\n",
       "\n",
       "\n",
       ".header_image_color_13{\n",
       "border-right: 2pt solid #FDC400 !important;\n",
       "}\n",
       "\n",
       ".header_image_13{\n",
       "background: url(\"../../images/icons/Other.png\") !important;\n",
       "background-repeat: no-repeat !important;\n",
       "background-size: 60% !important;\n",
       "background-position: center !important;\n",
       "min-height: 100px !important;\n",
       "}\n",
       "\n",
       ".header_image_13::before {\n",
       "content: url(../../images/icons/virtual_pixel.png) !important;\n",
       "}\n",
       "\n",
       ".header_gradient {\n",
       "background-image: linear-gradient(to right, rgba(0, 158, 227, 0.6) , white) !important;\n",
       "color: white !important;\n",
       "}\n",
       "\n",
       ".border_gradient {\n",
       "background-image:linear-gradient(to right, rgba(0, 158, 227, 0.6) , white) !important;\n",
       "background-size:100% 10% !important;\n",
       "background-position:0 100% !important;\n",
       "background-repeat:no-repeat !important;\n",
       "}\n",
       "\n",
       ".border_pre_gradient {\n",
       "background-image:linear-gradient(to right, rgba(0, 158, 227, 0.6), rgba(0, 158, 227, 0.6)) !important;\n",
       "background-size:100% 10% !important;\n",
       "background-position:0 100% !important;\n",
       "background-repeat:no-repeat !important;\n",
       "}\n",
       "\n",
       ".signal_samples_header {\n",
       "text-align: center !important;\n",
       "font-size: 14px !important;\n",
       "font-weight: bold !important;\n",
       "border-bottom: solid 3px #58585A !important;\n",
       "}\n",
       "\n",
       ".signal_samples_info_keys {\n",
       "text-align: center !important;\n",
       "background-color: #F1F1F1 !important;\n",
       "border-bottom: solid 1px white !important;\n",
       "}\n",
       "\n",
       ".signal_samples_info_values {\n",
       "text-align: center !important;\n",
       "border-bottom: solid 1px #F1F1F1 !important;\n",
       "}\n",
       "\n",
       ".group_by_header {\n",
       "text-align:left !important;\n",
       "border-bottom:solid 3px #62C3EE !important;\n",
       "}\n",
       "\n",
       ".group_by_header_grey {\n",
       "border-bottom:solid 3px #58585A !important;\n",
       "}\n",
       "\n",
       ".video {\n",
       "margin-left:auto !important;\n",
       "margin-right:auto !important;\n",
       "display:block !important;\n",
       "width:80% !important;\n",
       "box-shadow: 5px 10px #58585A !important;\n",
       "}\n",
       "\n",
       "hr{\n",
       "border-top: 2px solid #58585A !important;\n",
       "margin-top: 8px !important;\n",
       "margin-bottom: 8px !important;\n",
       "}\n",
       "\n",
       ".checked {\n",
       "color: #FDC400 !important;\n",
       "}\n",
       "\n",
       "#flex-container {\n",
       "    display: flex !important;\n",
       "    flex-direction: row !important;\n",
       "    width: 100% !important;\n",
       "    margin: 0 auto !important;\n",
       "}\n",
       "\n",
       ".flex-item-tag {\n",
       "    text-align: left !important;\n",
       "    margin-left: 50px !important;\t\n",
       "}\n",
       "\n",
       "/* Shield Icons Segment  */\n",
       "\n",
       ".shield_left{\n",
       "background-color: #58585A !important;\n",
       "color: white !important;\n",
       "}\n",
       "\n",
       ".shield_right{\n",
       "background-color: #009EE3 !important;\n",
       "color: white !important;\n",
       "/*opacity: 0.4 !important;*/\n",
       "text-align: left !important;\n",
       "white-space: nowwrap !important;\n",
       "}\n",
       "\n",
       "#diff_level {\n",
       "padding-top: 3px !important;\n",
       "}\n",
       "\n",
       "/* Step Paragraphs Segment */\n",
       "\n",
       ".steps{\n",
       "font-weight: bold !important;\n",
       "}\n",
       "\n",
       ".substeps{\n",
       "font-weight: bold !important;\n",
       "text-indent: 10px !important;\n",
       "}\n",
       "\n",
       "/* Notebook Icon Class */\n",
       "\n",
       ".file_icon{\n",
       "background: url(\"../../images/icons/Notebook.png\") !important;\n",
       "background-repeat: no-repeat !important;\n",
       "background-size: 10% !important;\n",
       "background-position: center !important;\n",
       "min-height: 20px !important;\n",
       "}\n",
       "\n",
       ".file_icon::before {\n",
       "content: url(\"../../images/icons/virtual_pixel_small.png\") !important;\n",
       "}\n",
       "\n",
       ".not_active {\n",
       "pointer-events: none !important;\n",
       "cursor: default !important;\n",
       "text-decoration: none !important;\n",
       "color: black !important;\n",
       "}\n",
       "\n",
       ".not_active_img {\n",
       "opacity: 0.30 !important;\n",
       "}\n",
       "\n",
       "<style>\n",
       "\n",
       "</div>"
      ],
      "text/plain": [
       "<IPython.core.display.HTML object>"
      ]
     },
     "execution_count": 12,
     "metadata": {},
     "output_type": "execute_result"
    }
   ],
   "source": [
    "from biosignalsnotebooks.__notebook_support__ import css_style_apply\n",
    "css_style_apply()"
   ]
  },
  {
   "cell_type": "code",
   "execution_count": 13,
   "metadata": {
    "hideCode": false,
    "hidePrompt": false,
    "hide_input": false,
    "init_cell": true,
    "slideshow": {
     "slide_type": "skip"
    },
    "solved": false,
    "tags": [
     "hide_both"
    ],
    "undeletable": false
   },
   "outputs": [
    {
     "data": {
      "text/html": [
       "<script>\n",
       "    // AUTORUN ALL CELLS ON NOTEBOOK-LOAD!\n",
       "    require(\n",
       "        ['base/js/namespace', 'jquery'],\n",
       "        function(jupyter, $) {\n",
       "            $(jupyter.events).on(\"kernel_ready.Kernel\", function () {\n",
       "                console.log(\"Auto-running all cells-below...\");\n",
       "                jupyter.actions.call('jupyter-notebook:run-all-cells-below');\n",
       "                jupyter.actions.call('jupyter-notebook:save-notebook');\n",
       "            });\n",
       "        }\n",
       "    );\n",
       "</script>\n"
      ],
      "text/plain": [
       "<IPython.core.display.HTML object>"
      ]
     },
     "metadata": {},
     "output_type": "display_data"
    }
   ],
   "source": [
    "%%html\n",
    "<script>\n",
    "    // AUTORUN ALL CELLS ON NOTEBOOK-LOAD!\n",
    "    require(\n",
    "        ['base/js/namespace', 'jquery'],\n",
    "        function(jupyter, $) {\n",
    "            $(jupyter.events).on(\"kernel_ready.Kernel\", function () {\n",
    "                console.log(\"Auto-running all cells-below...\");\n",
    "                jupyter.actions.call('jupyter-notebook:run-all-cells-below');\n",
    "                jupyter.actions.call('jupyter-notebook:save-notebook');\n",
    "            });\n",
    "        }\n",
    "    );\n",
    "</script>"
   ]
  }
 ],
 "metadata": {
  "hide_code_all_hidden": false,
  "hide_input": false,
  "kernelspec": {
   "display_name": "Python 3",
   "language": "python",
   "name": "python3"
  },
  "language_info": {
   "codemirror_mode": {
    "name": "ipython",
    "version": 3
   },
   "file_extension": ".py",
   "mimetype": "text/x-python",
   "name": "python",
   "nbconvert_exporter": "python",
   "pygments_lexer": "ipython3",
   "version": "3.7.7"
  },
  "rise": {
   "scroll": true,
   "shortcuts": {
    "slideshow": "none",
    "toggle-notes": "none"
   },
   "transition": "none"
  }
 },
 "nbformat": 4,
 "nbformat_minor": 4
}
