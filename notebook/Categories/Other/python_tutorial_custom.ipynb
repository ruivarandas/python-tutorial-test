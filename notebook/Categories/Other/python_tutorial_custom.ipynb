{
 "cells": [
  {
   "cell_type": "markdown",
   "metadata": {
    "deletable": false,
    "editable": false,
    "hideCode": false,
    "hidePrompt": false,
    "slideshow": {
     "slide_type": "skip"
    },
    "solved": false,
    "tags": [
     "header"
    ],
    "template": true,
    "undeletable": true
   },
   "source": [
    "<table width=\"100%\">\n",
    "    <tr style=\"border-bottom:solid 2pt #009EE3\">\n",
    "        <td class=\"header_buttons\">\n",
    "            <a href=\"FILENAME\" download><img src=\"../../images/icons/download.png\" alt=\"biosignalsnotebooks | download button\"></a>\n",
    "        </td>\n",
    "        <td class=\"header_buttons\">\n",
    "            <a href=\"SOURCE\" target=\"_blank\"><img src=\"../../images/icons/program.png\" alt=\"biosignalsnotebooks | binder server\" title=\"Be creative and test your solutions !\"></a>\n",
    "        </td>\n",
    "        <td></td>\n",
    "        <td class=\"header_icons\">\n",
    "            <a href=\"../MainFiles/biosignalsnotebooks.ipynb\"><img src=\"../../images/icons/home.png\" alt=\"biosignalsnotebooks | home button\"></a>\n",
    "        </td>\n",
    "        <td class=\"header_icons\">\n",
    "            <a href=\"../MainFiles/contacts.ipynb\"><img src=\"../../images/icons/contacts.png\" alt=\"biosignalsnotebooks | contacts button\"></a>\n",
    "        </td>\n",
    "        <td class=\"header_icons\">\n",
    "            <a href=\"https://github.com/biosignalsplux/biosignalsnotebooks\" target=\"_blank\"><img src=\"../../images/icons/github.png\" alt=\"biosignalsnotebooks | github button\"></a>\n",
    "        </td>\n",
    "        <td class=\"header_logo\">\n",
    "            <img src=\"../../images/ost_logo.png\" alt=\"biosignalsnotebooks | project logo\">\n",
    "        </td>\n",
    "    </tr>\n",
    "</table>"
   ]
  },
  {
   "cell_type": "markdown",
   "metadata": {
    "deletable": false,
    "editable": false,
    "hideCode": false,
    "hidePrompt": false,
    "slideshow": {
     "slide_type": "skip"
    },
    "solved": false,
    "tags": [
     "intro_info_title"
    ],
    "template": true,
    "undeletable": true
   },
   "source": [
    "<link rel=\"stylesheet\" href=\"../../styles/theme_style.css\">\n",
    "<!--link rel=\"stylesheet\" href=\"../../styles/header_style.css\"-->\n",
    "<link rel=\"stylesheet\" href=\"https://cdnjs.cloudflare.com/ajax/libs/font-awesome/4.7.0/css/font-awesome.min.css\">\n",
    "\n",
    "<table width=\"100%\">\n",
    "    <tr>\n",
    "        <td id=\"image_td\" width=\"15%\" class=\"header_image_color_15\"><div id=\"image_img\"\n",
    "        class=\"header_image_15\"></div></td>\n",
    "        <td class=\"header_text\"> Python Exercises </td>\n",
    "    </tr>\n",
    "</table>"
   ]
  },
  {
   "cell_type": "markdown",
   "metadata": {
    "deletable": false,
    "editable": false,
    "hideCode": false,
    "hidePrompt": false,
    "slideshow": {
     "slide_type": "skip"
    },
    "solved": false,
    "tags": [
     "intro_info_tags"
    ],
    "template": true,
    "undeletable": true
   },
   "source": [
    "<div id=\"flex-container\">\n",
    "    <div id=\"diff_level\" class=\"flex-item\">\n",
    "        <strong>Difficulty Level:</strong>   <span class=\"fa fa-star checked\"></span>\n",
    "                                <span class=\"fa fa-star\"></span>\n",
    "                                <span class=\"fa fa-star\"></span>\n",
    "                                <span class=\"fa fa-star\"></span>\n",
    "                                <span class=\"fa fa-star\"></span>\n",
    "    </div>\n",
    "    <div id=\"tag\" class=\"flex-item-tag\">\n",
    "        <span id=\"tag_list\">\n",
    "            <table id=\"tag_list_table\">\n",
    "                <tr>\n",
    "                    <td class=\"shield_left\">Tags</td>\n",
    "                    <td class=\"shield_right\" id=\"tags\">other&#9729;Python&#9729;practice</td>\n",
    "                </tr>\n",
    "            </table>\n",
    "        </span>\n",
    "        <!-- [OR] Visit https://img.shields.io in order to create a tag badge-->\n",
    "    </div>\n",
    "</div>"
   ]
  },
  {
   "cell_type": "markdown",
   "metadata": {
    "deletable": false,
    "editable": false,
    "hideCode": false,
    "hidePrompt": false,
    "slideshow": {
     "slide_type": "skip"
    },
    "solved": false,
    "tags": [
     "test"
    ],
    "template": true,
    "undeletable": true
   },
   "source": [
    "In this notebook you will be able to learn Python by using Python. Here, you will learn the basics of Python programming, while applying that knowledge in practical examples."
   ]
  },
  {
   "cell_type": "markdown",
   "metadata": {
    "deletable": false,
    "editable": false,
    "hideCode": false,
    "hidePrompt": false,
    "slideshow": {
     "slide_type": "skip"
    },
    "solved": false,
    "template": true,
    "undeletable": true
   },
   "source": [
    "<hr>"
   ]
  },
  {
   "cell_type": "code",
   "execution_count": null,
   "metadata": {
    "deletable": false,
    "hide": true,
    "init_cell": true,
    "slideshow": {
     "slide_type": "skip"
    },
    "solved": false,
    "undeletable": true
   },
   "outputs": [],
   "source": [
    "from io import StringIO\n",
    "import sys\n",
    "from os import devnull\n",
    "\n",
    "def get_printed_cell(cell, *args):\n",
    "    old_stdout = sys.stdout\n",
    "    sys.stdout = mystdout = StringIO()\n",
    "    try:\n",
    "        if type(cell) == str:\n",
    "            exec(cell)\n",
    "        elif type(cell) == list:\n",
    "            for command in cell:\n",
    "                eval(command)\n",
    "        elif callable(cell):\n",
    "            cell(*args)\n",
    "    finally:\n",
    "        sys.stdout = old_stdout\n",
    "\n",
    "    return mystdout.getvalue()\n",
    "\n",
    "class HiddenPrints:\n",
    "    def __enter__(self):\n",
    "        self._original_stdout = sys.stdout\n",
    "        sys.stdout = open(devnull, 'w')\n",
    "\n",
    "    def __exit__(self, exc_type, exc_val, exc_tb):\n",
    "        sys.stdout.close()\n",
    "        sys.stdout = self._original_stdout\n",
    "\n",
    "enable = [True]*6"
   ]
  },
  {
   "cell_type": "markdown",
   "metadata": {
    "deletable": false,
    "editable": false,
    "hideCode": false,
    "hidePrompt": false,
    "hide_input": false,
    "slideshow": {
     "slide_type": "slide"
    },
    "solved": false,
    "undeletable": true
   },
   "source": [
    "<p class=\"steps\">1 - Define a variable</p>\n",
    "In Python, variables are not required to be defined regarding their type. So, the same variable can be a number, a boolean, a string, a list, etc. Try to assign the number <b>5</b> to a variable <b>a</b> using the operator <b>=</b> ."
   ]
  },
  {
   "cell_type": "code",
   "execution_count": null,
   "metadata": {
    "deletable": false,
    "hideCode": false,
    "hidePrompt": false,
    "hide_input": false,
    "solved": true,
    "undeletable": true
   },
   "outputs": [],
   "source": []
  },
  {
   "cell_type": "code",
   "execution_count": null,
   "metadata": {
    "deletable": false,
    "slideshow": {
     "slide_type": "fragment"
    },
    "solved": false,
    "test": true,
    "undeletable": true
   },
   "outputs": [],
   "source": [
    "try:\n",
    "    with HiddenPrints():\n",
    "        assert a == 5\n",
    "    print(\"Passed!\")\n",
    "except AssertionError as e:\n",
    "    print(\"Failed...\")\n",
    "except Exception as e:\n",
    "    if _i is not '':\n",
    "        print(\"Error: \", e)\n",
    "        print(\"Failed...\")\n",
    "    pass"
   ]
  },
  {
   "cell_type": "markdown",
   "metadata": {
    "deletable": false,
    "editable": false,
    "hideCode": false,
    "hidePrompt": false,
    "hide_input": false,
    "slideshow": {
     "slide_type": "slide"
    },
    "solved": false,
    "undeletable": true
   },
   "source": [
    "Now, change that variable to the string <b>\"Hello World!\"</b>"
   ]
  },
  {
   "cell_type": "code",
   "execution_count": null,
   "metadata": {
    "deletable": false,
    "hideCode": false,
    "hidePrompt": false,
    "hide_input": false,
    "scrolled": true,
    "solved": false,
    "undeletable": true
   },
   "outputs": [],
   "source": []
  },
  {
   "cell_type": "code",
   "execution_count": null,
   "metadata": {
    "deletable": false,
    "slideshow": {
     "slide_type": "fragment"
    },
    "solved": false,
    "test": true,
    "undeletable": true
   },
   "outputs": [],
   "source": [
    "try:\n",
    "    with HiddenPrints():\n",
    "        assert a == \"Hello World!\"\n",
    "    print(\"Passed!\")\n",
    "except AssertionError as e:\n",
    "    print(\"Failed...\", e)\n",
    "except Exception as e:\n",
    "    if _i is not '':\n",
    "        print(\"Error: \", e)\n",
    "        print(\"Failed...\")\n",
    "    pass"
   ]
  },
  {
   "cell_type": "markdown",
   "metadata": {
    "deletable": false,
    "editable": false,
    "hideCode": false,
    "hidePrompt": false,
    "slideshow": {
     "slide_type": "fragment"
    },
    "solved": false,
    "undeletable": true
   },
   "source": [
    "<strong class=\"color2\">See how the same variable can be defined with different types?</strong> This is a very powerful feature of Python, but with great power, comes greater responsibility. When writing code you need to be extra careful because a change in the type of one variable may alter the behavior of an application. However, with practice you will find this a fantastic feature!"
   ]
  },
  {
   "cell_type": "markdown",
   "metadata": {
    "deletable": false,
    "editable": false,
    "hideCode": false,
    "hidePrompt": false,
    "slideshow": {
     "slide_type": "slide"
    },
    "solved": false,
    "undeletable": true
   },
   "source": [
    "<p class=\"steps\">2 - Print statement</p>\n",
    "Print is a built-in function that allows one to show whatever string that is given as input in the console. In the next cell, try to print <b>\"Hello World!\"</b> in the console.\n",
    "\n",
    "<span class=\"color5\"><b>Note:</b> the parenthesis are the way that Python recognizes that you are calling a function. Inside those parenthesis, we insert the inputs for the function, to which we call arguments of the function. There are functions that have no arguments, and so the parenthesis will be empty. (Don't worry if this is too complicated, we will get to functions latter in this notebook)</span>"
   ]
  },
  {
   "cell_type": "code",
   "execution_count": null,
   "metadata": {
    "deletable": false,
    "hideCode": false,
    "hidePrompt": false,
    "slideshow": {
     "slide_type": "fragment"
    },
    "solved": false,
    "undeletable": true
   },
   "outputs": [],
   "source": []
  },
  {
   "cell_type": "code",
   "execution_count": null,
   "metadata": {
    "deletable": false,
    "scrolled": true,
    "slideshow": {
     "slide_type": "fragment"
    },
    "solved": false,
    "test": true,
    "undeletable": true
   },
   "outputs": [],
   "source": [
    "# Test Cell\n",
    "try:\n",
    "    with HiddenPrints():\n",
    "        input_cell = _i\n",
    "        output = get_printed_cell(input_cell)\n",
    "        assert \"Hello World!\" in output and \"Hello World!\" not in input_cell\n",
    "    print(\"Passed!\")\n",
    "except AssertionError as e:\n",
    "    print(\"Failed...\", e)\n",
    "except Exception as e:\n",
    "    if _i is not '':\n",
    "        print(\"Error: \", e)\n",
    "        print(\"Failed...\")\n",
    "    pass"
   ]
  },
  {
   "cell_type": "markdown",
   "metadata": {
    "deletable": false,
    "editable": false,
    "hideCode": false,
    "hidePrompt": false,
    "slideshow": {
     "slide_type": "slide"
    },
    "solved": false,
    "undeletable": true
   },
   "source": [
    "Next, print the variable <b>a</b> that you defined before."
   ]
  },
  {
   "cell_type": "code",
   "execution_count": null,
   "metadata": {
    "deletable": false,
    "hideCode": false,
    "hidePrompt": false,
    "slideshow": {
     "slide_type": "fragment"
    },
    "solved": false,
    "undeletable": true
   },
   "outputs": [],
   "source": []
  },
  {
   "cell_type": "code",
   "execution_count": null,
   "metadata": {
    "deletable": false,
    "slideshow": {
     "slide_type": "fragment"
    },
    "solved": false,
    "test": true,
    "undeletable": true
   },
   "outputs": [],
   "source": [
    "# Test Cell\n",
    "try:\n",
    "    with HiddenPrints():\n",
    "        output = get_printed_cell(_i)\n",
    "        assert \"Hello World!\" in output\n",
    "    print(\"Passed!\")\n",
    "except AssertionError as e:\n",
    "    print(\"Failed...\", e)\n",
    "except Exception as e:\n",
    "    if _i is not '':\n",
    "        print(\"Error: \", e)\n",
    "        print(\"Failed...\")\n",
    "    pass"
   ]
  },
  {
   "cell_type": "markdown",
   "metadata": {
    "deletable": false,
    "editable": false,
    "hideCode": false,
    "hidePrompt": false,
    "slideshow": {
     "slide_type": "fragment"
    },
    "solved": false,
    "undeletable": true
   },
   "source": [
    "<strong class=\"color2\">See how the result is the same?</strong> That's because your variable was defined as \"Hello World!\", the same string you printed in the previous cell. Go ahead and change the value of your variable and try to print it again, to see how it affects the output of the print statement. You can print variables whichever types they are."
   ]
  },
  {
   "cell_type": "markdown",
   "metadata": {
    "deletable": false,
    "editable": false,
    "hideCode": false,
    "hidePrompt": false,
    "slideshow": {
     "slide_type": "slide"
    },
    "solved": false,
    "undeletable": true
   },
   "source": [
    "<p class=\"steps\">3 - Working with lists</p>\n",
    "Lists in Python are data structures that are ordered, changeable and allow duplicate members. This means that they allow to store other data structures and then to retrieve them given their position in the list. If this seems too complicated, follow the practical example.\n",
    "\n",
    "In this example, we will use the temperature readings in degrees Celcius of an individual during one week."
   ]
  },
  {
   "cell_type": "code",
   "execution_count": null,
   "metadata": {
    "deletable": false,
    "editable": false,
    "example": true,
    "hideCode": false,
    "hidePrompt": false,
    "slideshow": {
     "slide_type": "fragment"
    },
    "solved": false,
    "undeletable": true
   },
   "outputs": [],
   "source": [
    "temperatures = [36, 35, 38, 37, 40, 39, 41]"
   ]
  },
  {
   "cell_type": "markdown",
   "metadata": {
    "deletable": false,
    "editable": false,
    "hideCode": false,
    "hidePrompt": false,
    "slideshow": {
     "slide_type": "fragment"
    },
    "solved": false,
    "undeletable": true
   },
   "source": [
    "So, we end up with a list composed of seven values. Remember that lists in Python start with index 0. Thus, the position 0 of <b>temperatures</b> corresponds to 36, the position 1 of <b>temperatures</b> corresponds to 35 and so on. In the next cell, we will retrieve the temperature reading of day 1 (position 0 of the list)."
   ]
  },
  {
   "cell_type": "code",
   "execution_count": null,
   "metadata": {
    "deletable": false,
    "editable": false,
    "example": true,
    "hideCode": false,
    "hidePrompt": false,
    "slideshow": {
     "slide_type": "fragment"
    },
    "solved": false,
    "undeletable": true
   },
   "outputs": [],
   "source": [
    "temperatures[0]"
   ]
  },
  {
   "cell_type": "markdown",
   "metadata": {
    "deletable": false,
    "editable": false,
    "hideCode": false,
    "hidePrompt": false,
    "slideshow": {
     "slide_type": "slide"
    },
    "solved": false,
    "undeletable": true
   },
   "source": [
    "Now, we would like to get the temperature reading of the 3rd day. Retrieve that value in the next cell."
   ]
  },
  {
   "cell_type": "code",
   "execution_count": null,
   "metadata": {
    "deletable": false,
    "hideCode": false,
    "hidePrompt": false,
    "slideshow": {
     "slide_type": "fragment"
    },
    "solved": false,
    "undeletable": true
   },
   "outputs": [],
   "source": []
  },
  {
   "cell_type": "code",
   "execution_count": null,
   "metadata": {
    "deletable": false,
    "slideshow": {
     "slide_type": "fragment"
    },
    "solved": false,
    "test": true,
    "undeletable": true
   },
   "outputs": [],
   "source": [
    "# Test Cell\n",
    "try:\n",
    "    with HiddenPrints():\n",
    "        assert int(_) == temperatures[2]\n",
    "    print(\"Passed!\")\n",
    "except AssertionError as e:\n",
    "    print(\"Failed...\", e)\n",
    "except Exception as e:\n",
    "    if _i is not '':\n",
    "        print(\"Error: \", e)\n",
    "        print(\"Failed...\")\n",
    "    pass"
   ]
  },
  {
   "cell_type": "markdown",
   "metadata": {
    "deletable": false,
    "editable": false,
    "hideCode": false,
    "hidePrompt": false,
    "slideshow": {
     "slide_type": "slide"
    },
    "solved": false,
    "undeletable": true
   },
   "source": [
    "Okay, so it is very easy to get the values of specific days using lists. But what if we just wanted the last reading and we didn't know the number of temperature readings of the list? Well, Python takes care of that too. The next cell shows how to get the value of the last temperature reading of the list."
   ]
  },
  {
   "cell_type": "code",
   "execution_count": null,
   "metadata": {
    "deletable": false,
    "editable": false,
    "example": true,
    "hideCode": false,
    "hidePrompt": false,
    "slideshow": {
     "slide_type": "fragment"
    },
    "solved": false,
    "undeletable": true
   },
   "outputs": [],
   "source": [
    "temperatures[-1]"
   ]
  },
  {
   "cell_type": "markdown",
   "metadata": {
    "deletable": false,
    "editable": false,
    "hideCode": false,
    "hidePrompt": false,
    "slideshow": {
     "slide_type": "slide"
    },
    "solved": false,
    "undeletable": true
   },
   "source": [
    "Now, get the third to last temperature reading of the list."
   ]
  },
  {
   "cell_type": "code",
   "execution_count": null,
   "metadata": {
    "deletable": false,
    "hideCode": false,
    "hidePrompt": false,
    "slideshow": {
     "slide_type": "fragment"
    },
    "solved": false,
    "undeletable": true
   },
   "outputs": [],
   "source": []
  },
  {
   "cell_type": "code",
   "execution_count": null,
   "metadata": {
    "deletable": false,
    "slideshow": {
     "slide_type": "fragment"
    },
    "solved": false,
    "test": true,
    "undeletable": true
   },
   "outputs": [],
   "source": [
    "# Test Cell\n",
    "try:\n",
    "    with HiddenPrints():\n",
    "        assert int(_) == temperatures[-3]\n",
    "    print(\"Passed!\")\n",
    "except AssertionError as e:\n",
    "    print(\"Failed...\", e)\n",
    "except Exception as e:\n",
    "    if _i is not '':\n",
    "        print(\"Error: \", e)\n",
    "        print(\"Failed...\")\n",
    "    pass"
   ]
  },
  {
   "cell_type": "markdown",
   "metadata": {
    "deletable": false,
    "editable": false,
    "hideCode": false,
    "hidePrompt": false,
    "slideshow": {
     "slide_type": "fragment"
    },
    "solved": false,
    "undeletable": true
   },
   "source": [
    "<strong class=\"color2\">See how you can refer to indexes relative to the end of the list?</strong> That is another very powerful feature of Python. Other languages would require you to calculate the length of the list and then subtract the number of indexes from that value. In Python you specify all that with a negative number."
   ]
  },
  {
   "cell_type": "markdown",
   "metadata": {
    "deletable": false,
    "editable": false,
    "slideshow": {
     "slide_type": "slide"
    },
    "solved": false,
    "undeletable": true
   },
   "source": [
    "Next, we will get the readings of various days. Specifically, we want to get the reading of the second, third and fourth day."
   ]
  },
  {
   "cell_type": "code",
   "execution_count": null,
   "metadata": {
    "deletable": false,
    "editable": false,
    "example": true,
    "hideCode": false,
    "hidePrompt": false,
    "slideshow": {
     "slide_type": "fragment"
    },
    "solved": false,
    "undeletable": true
   },
   "outputs": [],
   "source": [
    "temperatures[1:4]"
   ]
  },
  {
   "cell_type": "markdown",
   "metadata": {
    "deletable": false,
    "editable": false,
    "hideCode": false,
    "hidePrompt": false,
    "slideshow": {
     "slide_type": "slide"
    },
    "solved": false,
    "undeletable": true
   },
   "source": [
    "Try to do the same, but get the values from the first day to the second to last, using the same scheme we have been following."
   ]
  },
  {
   "cell_type": "code",
   "execution_count": null,
   "metadata": {
    "deletable": false,
    "hideCode": false,
    "hidePrompt": false,
    "slideshow": {
     "slide_type": "fragment"
    },
    "solved": false,
    "undeletable": true
   },
   "outputs": [],
   "source": []
  },
  {
   "cell_type": "code",
   "execution_count": null,
   "metadata": {
    "deletable": false,
    "slideshow": {
     "slide_type": "fragment"
    },
    "solved": false,
    "test": true,
    "undeletable": true
   },
   "outputs": [],
   "source": [
    "# Test Cell\n",
    "# Test Cell\n",
    "try:\n",
    "    with HiddenPrints():\n",
    "        assert _ == temperatures[0:-2]\n",
    "        assert '-2' in _i\n",
    "    print(\"Passed!\")\n",
    "except AssertionError as e:\n",
    "    print(\"Failed...\", e)\n",
    "except Exception as e:\n",
    "    if _i is not '':\n",
    "        print(\"Error: \", e)\n",
    "        print(\"Failed...\")\n",
    "    pass"
   ]
  },
  {
   "cell_type": "markdown",
   "metadata": {
    "deletable": false,
    "editable": false,
    "hideCode": false,
    "hidePrompt": false,
    "slideshow": {
     "slide_type": "slide"
    },
    "solved": false,
    "undeletable": true
   },
   "source": [
    "The same could be achieved by using the code:"
   ]
  },
  {
   "cell_type": "code",
   "execution_count": null,
   "metadata": {
    "deletable": false,
    "editable": false,
    "example": true,
    "hideCode": false,
    "hidePrompt": false,
    "slideshow": {
     "slide_type": "fragment"
    },
    "solved": false,
    "undeletable": true
   },
   "outputs": [],
   "source": [
    "temperatures[:-2]"
   ]
  },
  {
   "cell_type": "markdown",
   "metadata": {
    "deletable": false,
    "editable": false,
    "slideshow": {
     "slide_type": "slide"
    },
    "solved": false,
    "undeletable": true
   },
   "source": [
    "Given what you have learned so far, how would you get the values from the third day to the last?"
   ]
  },
  {
   "cell_type": "code",
   "execution_count": null,
   "metadata": {
    "deletable": false,
    "slideshow": {
     "slide_type": "fragment"
    },
    "solved": false,
    "undeletable": true
   },
   "outputs": [],
   "source": []
  },
  {
   "cell_type": "code",
   "execution_count": null,
   "metadata": {
    "deletable": false,
    "slideshow": {
     "slide_type": "fragment"
    },
    "solved": false,
    "test": true,
    "undeletable": true
   },
   "outputs": [],
   "source": [
    "# Test Cell\n",
    "try:\n",
    "    with HiddenPrints():\n",
    "        assert _ == temperatures[2:]\n",
    "    print(\"Passed!\")\n",
    "except AssertionError as e:\n",
    "    print(\"Failed...\", e)\n",
    "except Exception as e:\n",
    "    if _i is not '':\n",
    "        print(\"Error: \", e)\n",
    "        print(\"Failed...\")\n",
    "    pass"
   ]
  },
  {
   "cell_type": "markdown",
   "metadata": {
    "deletable": false,
    "editable": false,
    "slideshow": {
     "slide_type": "slide"
    },
    "solved": false,
    "undeletable": true
   },
   "source": [
    "And how would you get the values from the beginning until the fourth day?"
   ]
  },
  {
   "cell_type": "code",
   "execution_count": null,
   "metadata": {
    "deletable": false,
    "slideshow": {
     "slide_type": "fragment"
    },
    "solved": false,
    "undeletable": true
   },
   "outputs": [],
   "source": []
  },
  {
   "cell_type": "code",
   "execution_count": null,
   "metadata": {
    "deletable": false,
    "slideshow": {
     "slide_type": "fragment"
    },
    "solved": false,
    "test": true,
    "undeletable": true
   },
   "outputs": [],
   "source": [
    "# Test Cell\n",
    "try:\n",
    "    with HiddenPrints():\n",
    "        assert _ == temperatures[:4]\n",
    "    print(\"Passed!\")\n",
    "    enable[0] = False\n",
    "except AssertionError as e:\n",
    "    print(\"Failed...\", e)\n",
    "except Exception as e:\n",
    "    if _i is not '':\n",
    "        print(\"Error: \", e)\n",
    "        print(\"Failed...\")\n",
    "    pass"
   ]
  },
  {
   "cell_type": "markdown",
   "metadata": {
    "deletable": false,
    "editable": false,
    "slideshow": {
     "slide_type": "slide"
    },
    "solved": false,
    "undeletable": true
   },
   "source": [
    "Run the next cell and verify its result."
   ]
  },
  {
   "cell_type": "code",
   "execution_count": null,
   "metadata": {
    "deletable": false,
    "editable": false,
    "example": true,
    "hideCode": false,
    "hidePrompt": false,
    "slideshow": {
     "slide_type": "fragment"
    },
    "solved": false,
    "undeletable": true
   },
   "outputs": [],
   "source": [
    "temperatures[::2]"
   ]
  },
  {
   "cell_type": "code",
   "execution_count": null,
   "metadata": {
    "deletable": false,
    "hide": true,
    "init_cell": true,
    "slideshow": {
     "slide_type": "fragment"
    },
    "solved": false,
    "undeletable": true
   },
   "outputs": [],
   "source": [
    "# Hide this cell\n",
    "import ipywidgets as widgets\n",
    "from IPython.display import display\n",
    "\n",
    "print('What is the result?', end='')\n",
    "question_1 = widgets.RadioButtons(\n",
    "    options=['Get the values until index 2', 'Get the values from index 2', 'Get the values from the beginning to end skipping one value in alternance', 'Duplicate the values from the beginning to end in alternance'],\n",
    "    layout={'width': 'max-content'}, # If the items' names are long\n",
    "    description='',\n",
    "    value = None,\n",
    "    # disabled=enable[0]\n",
    ")\n",
    "\n",
    "display(question_1)"
   ]
  },
  {
   "cell_type": "code",
   "execution_count": null,
   "metadata": {
    "deletable": false,
    "slideshow": {
     "slide_type": "fragment"
    },
    "solved": false,
    "test": true,
    "undeletable": true
   },
   "outputs": [],
   "source": [
    "# Test Cell\n",
    "try:\n",
    "    with HiddenPrints():\n",
    "        assert question_1.value == question_1.options[2]\n",
    "    print(\"Passed!\")\n",
    "except AssertionError as e:\n",
    "    print(\"Failed...\", e)\n",
    "except Exception as e:\n",
    "    pass"
   ]
  },
  {
   "cell_type": "markdown",
   "metadata": {
    "deletable": false,
    "editable": false,
    "slideshow": {
     "slide_type": "slide"
    },
    "solved": false,
    "undeletable": true
   },
   "source": [
    "Based on the previous question, get the temperatures of the days with interval of 2 starting on the second day and finishing on the second to last."
   ]
  },
  {
   "cell_type": "code",
   "execution_count": null,
   "metadata": {
    "deletable": false,
    "slideshow": {
     "slide_type": "fragment"
    },
    "solved": false,
    "undeletable": true
   },
   "outputs": [],
   "source": []
  },
  {
   "cell_type": "code",
   "execution_count": null,
   "metadata": {
    "deletable": false,
    "slideshow": {
     "slide_type": "fragment"
    },
    "solved": false,
    "test": true,
    "undeletable": true
   },
   "outputs": [],
   "source": [
    "# Test Cell\n",
    "try:\n",
    "    with HiddenPrints():\n",
    "        assert _ == temperatures[1:-1:2]\n",
    "    print(\"Passed!\")\n",
    "    enable[1] = False\n",
    "except AssertionError as e:\n",
    "    print(\"Failed...\", e)\n",
    "except Exception as e:\n",
    "    if _i is not '':\n",
    "        print(\"Error: \", e)\n",
    "        print(\"Failed...\")\n",
    "    pass"
   ]
  },
  {
   "cell_type": "code",
   "execution_count": null,
   "metadata": {
    "deletable": false,
    "hide": true,
    "init_cell": true,
    "slideshow": {
     "slide_type": "fragment"
    },
    "solved": false,
    "undeletable": true
   },
   "outputs": [],
   "source": [
    "print('Given this, what do you expect to be the behavior of temperatures[::-1]?', end='')\n",
    "question_2 = widgets.RadioButtons(\n",
    "    options=['Get the last value', 'Get the list in backwards order.', 'Sort the values starting by the last', 'Get all values but the last'],\n",
    "    layout={'width': 'max-content'}, # If the items' names are long\n",
    "    description='',\n",
    "    value = None,\n",
    "    # disabled=enable[1]\n",
    ")\n",
    "\n",
    "display(question_2)"
   ]
  },
  {
   "cell_type": "code",
   "execution_count": null,
   "metadata": {
    "deletable": false,
    "slideshow": {
     "slide_type": "fragment"
    },
    "solved": false,
    "test": true,
    "undeletable": true
   },
   "outputs": [],
   "source": [
    "# Test Cell\n",
    "try:\n",
    "    with HiddenPrints():\n",
    "        assert question_2.value == question_2.options[1]\n",
    "    print(\"Passed!\")\n",
    "except AssertionError as e:\n",
    "    print(\"Failed...\", e)\n",
    "except Exception as e:\n",
    "    pass"
   ]
  },
  {
   "cell_type": "markdown",
   "metadata": {
    "deletable": false,
    "editable": false,
    "slideshow": {
     "slide_type": "slide"
    },
    "solved": false,
    "undeletable": true
   },
   "source": [
    "Specifically Jupyter and IPython allow to easily explore the various types of variables and the functions associated to each type or object. For the next exercises, if you are not certain about built-in functions, try to write the name of the variable, add a point and press the `Tab` key, such as, `temperatures.` + `Tab`.\n",
    "\n",
    "In the next cell, you can find an example of how to use a function that is present for every list. In this case, it will return the index of the first occurrence of the number 38."
   ]
  },
  {
   "cell_type": "code",
   "execution_count": null,
   "metadata": {
    "deletable": false,
    "editable": false,
    "example": true,
    "hideCode": false,
    "hidePrompt": false,
    "slideshow": {
     "slide_type": "fragment"
    },
    "solved": false,
    "undeletable": true
   },
   "outputs": [],
   "source": [
    "temperatures.index(38)"
   ]
  },
  {
   "cell_type": "markdown",
   "metadata": {
    "deletable": false,
    "editable": false,
    "slideshow": {
     "slide_type": "slide"
    },
    "solved": false,
    "undeletable": true
   },
   "source": [
    "Analogously, count the number of occurrences of the number 38 using a built-in function associated to lists."
   ]
  },
  {
   "cell_type": "code",
   "execution_count": null,
   "metadata": {
    "deletable": false,
    "slideshow": {
     "slide_type": "fragment"
    },
    "solved": false,
    "undeletable": true
   },
   "outputs": [],
   "source": []
  },
  {
   "cell_type": "code",
   "execution_count": null,
   "metadata": {
    "deletable": false,
    "slideshow": {
     "slide_type": "fragment"
    },
    "solved": false,
    "test": true,
    "undeletable": true
   },
   "outputs": [],
   "source": [
    "# Test Cell\n",
    "try:\n",
    "    assert _ == temperatures.count(38)\n",
    "    print(\"Passed!\")\n",
    "    enable[2] = False\n",
    "except:\n",
    "    print(\"Failed...\")"
   ]
  },
  {
   "cell_type": "code",
   "execution_count": null,
   "metadata": {
    "deletable": false,
    "hide": true,
    "init_cell": true,
    "slideshow": {
     "slide_type": "fragment"
    },
    "solved": false,
    "undeletable": true
   },
   "outputs": [],
   "source": [
    "print('What do you think the instruction temperatures.sort() would do?', end='')\n",
    "question_3 = widgets.RadioButtons(\n",
    "    options=['Sort the values in a descending way.', 'Sort the values in an ascending way.', 'Create a new sorted list.', 'Randomly sort the list.'],\n",
    "    layout={'width': 'max-content'}, # If the items' names are long\n",
    "    description='',\n",
    "    value = None,\n",
    "    # disabled=enable[2]\n",
    ")\n",
    "\n",
    "display(question_3)"
   ]
  },
  {
   "cell_type": "code",
   "execution_count": null,
   "metadata": {
    "deletable": false,
    "slideshow": {
     "slide_type": "fragment"
    },
    "solved": false,
    "test": true,
    "undeletable": true
   },
   "outputs": [],
   "source": [
    "# Test Cell\n",
    "try:\n",
    "    with HiddenPrints():\n",
    "        assert question_3.value == question_3.options[1]\n",
    "    print(\"Passed!\")\n",
    "except AssertionError as e:\n",
    "    print(\"Failed...\", e)\n",
    "except Exception as e:\n",
    "    pass"
   ]
  },
  {
   "cell_type": "markdown",
   "metadata": {
    "deletable": false,
    "editable": false,
    "slideshow": {
     "slide_type": "slide"
    },
    "solved": false,
    "undeletable": true
   },
   "source": [
    "Jupyter also allows to investigate the arguments and outputs of a given function by using the `?` operator, such as demonstrated in the next cell."
   ]
  },
  {
   "cell_type": "code",
   "execution_count": null,
   "metadata": {
    "deletable": false,
    "editable": false,
    "example": true,
    "hideCode": false,
    "hidePrompt": false,
    "slideshow": {
     "slide_type": "fragment"
    },
    "solved": false,
    "undeletable": true
   },
   "outputs": [],
   "source": [
    "temperatures.sort?"
   ]
  },
  {
   "cell_type": "markdown",
   "metadata": {
    "deletable": false,
    "editable": false,
    "slideshow": {
     "slide_type": "slide"
    },
    "solved": false,
    "undeletable": true
   },
   "source": [
    "Given the result of the previous cell, sort the `temperatures` list in a descending way."
   ]
  },
  {
   "cell_type": "code",
   "execution_count": null,
   "metadata": {
    "deletable": false,
    "slideshow": {
     "slide_type": "fragment"
    },
    "solved": false,
    "undeletable": true
   },
   "outputs": [],
   "source": []
  },
  {
   "cell_type": "code",
   "execution_count": null,
   "metadata": {
    "deletable": false,
    "slideshow": {
     "slide_type": "fragment"
    },
    "solved": false,
    "test": true,
    "undeletable": true
   },
   "outputs": [],
   "source": [
    "# Test Cell\n",
    "try:\n",
    "    with HiddenPrints():\n",
    "        aux = temperatures.copy()\n",
    "        aux.sort(reverse=True)\n",
    "        assert temperatures == aux\n",
    "    print(\"Passed!\")\n",
    "    temperatures = [36, 35, 38, 37, 40, 39, 41]\n",
    "except AssertionError as e:\n",
    "    print(\"Failed...\", e)\n",
    "except Exception as e:\n",
    "    if _i is not '':\n",
    "        print(\"Error: \", e)\n",
    "        print(\"Failed...\")\n",
    "    pass"
   ]
  },
  {
   "cell_type": "markdown",
   "metadata": {
    "deletable": false,
    "editable": false,
    "slideshow": {
     "slide_type": "slide"
    },
    "solved": false,
    "undeletable": true
   },
   "source": [
    "Finally, lists allow to easily append new data. This new data is appended to the last position of the list and can be retrieved normally. In the next cell, append the value `36` to the `temperatures` list."
   ]
  },
  {
   "cell_type": "code",
   "execution_count": null,
   "metadata": {
    "deletable": false,
    "slideshow": {
     "slide_type": "fragment"
    },
    "solved": false,
    "undeletable": true
   },
   "outputs": [],
   "source": []
  },
  {
   "cell_type": "code",
   "execution_count": null,
   "metadata": {
    "deletable": false,
    "slideshow": {
     "slide_type": "fragment"
    },
    "solved": false,
    "test": true,
    "undeletable": true
   },
   "outputs": [],
   "source": [
    "# Test Cell\n",
    "try:\n",
    "    with HiddenPrints():\n",
    "        assert temperatures.pop() == 36\n",
    "        assert temperatures == [36, 35, 38, 37, 40, 39, 41]\n",
    "    print(\"Passed!\")\n",
    "except AssertionError as e:\n",
    "    print(\"Failed...\", e)\n",
    "except Exception as e:\n",
    "    if _i is not '':\n",
    "        print(\"Error: \", e)\n",
    "        print(\"Failed...\")\n",
    "    pass"
   ]
  },
  {
   "cell_type": "markdown",
   "metadata": {
    "deletable": false,
    "editable": false,
    "slideshow": {
     "slide_type": "slide"
    },
    "solved": false,
    "undeletable": true
   },
   "source": [
    "<p class=\"steps\">4 - Working with strings</p>\n",
    "Strings are immutable sequence of characters. Their manipulation, though similar to lists, has some differences that are worth exploring.\n",
    "\n",
    "First, we will define a variable of type string. As you know by now, we don't need to specify the type explicitly, once Python recognizes it automatically."
   ]
  },
  {
   "cell_type": "code",
   "execution_count": null,
   "metadata": {
    "deletable": false,
    "editable": false,
    "example": true,
    "hideCode": false,
    "hidePrompt": false,
    "slideshow": {
     "slide_type": "fragment"
    },
    "solved": false,
    "undeletable": true
   },
   "outputs": [],
   "source": [
    "example = 'Python'"
   ]
  },
  {
   "cell_type": "markdown",
   "metadata": {
    "deletable": false,
    "editable": false,
    "slideshow": {
     "slide_type": "fragment"
    },
    "solved": false,
    "undeletable": true
   },
   "source": [
    "To prove that it is very similar to lists, get the first character of the list `example`."
   ]
  },
  {
   "cell_type": "code",
   "execution_count": null,
   "metadata": {
    "deletable": false,
    "slideshow": {
     "slide_type": "fragment"
    },
    "solved": false,
    "undeletable": true
   },
   "outputs": [],
   "source": []
  },
  {
   "cell_type": "code",
   "execution_count": null,
   "metadata": {
    "deletable": false,
    "slideshow": {
     "slide_type": "fragment"
    },
    "solved": false,
    "test": true,
    "undeletable": true
   },
   "outputs": [],
   "source": [
    "# Test Cell\n",
    "try:\n",
    "    with HiddenPrints():\n",
    "        assert example[0] == _\n",
    "    print(\"Passed!\")\n",
    "except AssertionError as e:\n",
    "    print(\"Failed...\", e)\n",
    "except Exception as e:\n",
    "    if _i is not '':\n",
    "        print(\"Error: \", e)\n",
    "        print(\"Failed...\")\n",
    "    pass"
   ]
  },
  {
   "cell_type": "markdown",
   "metadata": {
    "deletable": false,
    "editable": false,
    "slideshow": {
     "slide_type": "slide"
    },
    "solved": false,
    "undeletable": true
   },
   "source": [
    "To concatenate two strings, we only need to _add_ them using the `+` operator. Define a new variable `other_example` that should be `' is the best'` and concatenate `example` with `other_example`."
   ]
  },
  {
   "cell_type": "code",
   "execution_count": null,
   "metadata": {
    "deletable": false,
    "slideshow": {
     "slide_type": "fragment"
    },
    "solved": false,
    "undeletable": true
   },
   "outputs": [],
   "source": []
  },
  {
   "cell_type": "code",
   "execution_count": null,
   "metadata": {
    "deletable": false,
    "slideshow": {
     "slide_type": "fragment"
    },
    "solved": false,
    "test": true,
    "undeletable": true
   },
   "outputs": [],
   "source": [
    "# Test Cell\n",
    "try:\n",
    "    with HiddenPrints():\n",
    "        assert example + other_example == _\n",
    "    print(\"Passed!\")\n",
    "except AssertionError as e:\n",
    "    print(\"Failed...\", e)\n",
    "except Exception as e:\n",
    "    if _i is not '':\n",
    "        print(\"Error: \", e)\n",
    "        print(\"Failed...\")\n",
    "    pass"
   ]
  },
  {
   "cell_type": "markdown",
   "metadata": {
    "deletable": false,
    "editable": false,
    "slideshow": {
     "slide_type": "slide"
    },
    "solved": false,
    "undeletable": true
   },
   "source": [
    "If your goal is to concatenate the same string with itself multiple times, you can simply use the `*` operator, for example, `example*10`. In the next cell, concatenate the string `example` with 10 times the string `other_example`."
   ]
  },
  {
   "cell_type": "code",
   "execution_count": null,
   "metadata": {
    "deletable": false,
    "slideshow": {
     "slide_type": "fragment"
    },
    "solved": false,
    "undeletable": true
   },
   "outputs": [],
   "source": []
  },
  {
   "cell_type": "code",
   "execution_count": null,
   "metadata": {
    "deletable": false,
    "slideshow": {
     "slide_type": "fragment"
    },
    "solved": false,
    "test": true,
    "undeletable": true
   },
   "outputs": [],
   "source": [
    "# Test Cell\n",
    "try:\n",
    "    with HiddenPrints():\n",
    "        assert example + 10*other_example == _\n",
    "    print(\"Passed!\")\n",
    "except AssertionError as e:\n",
    "    print(\"Failed...\", e)\n",
    "except Exception as e:\n",
    "    if _i is not '':\n",
    "        print(\"Error: \", e)\n",
    "        print(\"Failed...\")\n",
    "    pass"
   ]
  },
  {
   "cell_type": "markdown",
   "metadata": {
    "deletable": false,
    "editable": false,
    "slideshow": {
     "slide_type": "slide"
    },
    "solved": false,
    "undeletable": true
   },
   "source": [
    "In the next cell, create a new variable `reversed_example` that should correspond to the reverse of the string `example`."
   ]
  },
  {
   "cell_type": "code",
   "execution_count": null,
   "metadata": {
    "deletable": false,
    "slideshow": {
     "slide_type": "fragment"
    },
    "solved": false,
    "undeletable": true
   },
   "outputs": [],
   "source": []
  },
  {
   "cell_type": "code",
   "execution_count": null,
   "metadata": {
    "deletable": false,
    "slideshow": {
     "slide_type": "fragment"
    },
    "solved": false,
    "test": true,
    "undeletable": true
   },
   "outputs": [],
   "source": [
    "# Test Cell\n",
    "# Test if the [::-1] part is part of the input of the above cell\n",
    "try:\n",
    "    with HiddenPrints():\n",
    "        assert '[::-1]' in _i\n",
    "        assert reversed_example == example[::-1]\n",
    "    print(\"Passed!\")\n",
    "except AssertionError as e:\n",
    "    print(\"Failed...\", e)\n",
    "except Exception as e:\n",
    "    if _i is not '':\n",
    "        print(\"Error: \", e)\n",
    "        print(\"Failed...\")\n",
    "    pass"
   ]
  },
  {
   "cell_type": "markdown",
   "metadata": {
    "deletable": false,
    "editable": false,
    "slideshow": {
     "slide_type": "slide"
    },
    "solved": false,
    "undeletable": true
   },
   "source": [
    "In the next cell, get the string `example` in all lower case.\n",
    "\n",
    "<span class=\"color5\"><b>Note:</b> Remember you can explore the built-in functions associated to the string object by using `example.` + `Tab`</span>"
   ]
  },
  {
   "cell_type": "code",
   "execution_count": null,
   "metadata": {
    "deletable": false,
    "slideshow": {
     "slide_type": "fragment"
    },
    "solved": false,
    "undeletable": true
   },
   "outputs": [],
   "source": []
  },
  {
   "cell_type": "code",
   "execution_count": null,
   "metadata": {
    "deletable": false,
    "slideshow": {
     "slide_type": "fragment"
    },
    "solved": false,
    "test": true,
    "undeletable": true
   },
   "outputs": [],
   "source": [
    "# Test Cell\n",
    "try:\n",
    "    with HiddenPrints():\n",
    "        assert _ == example.lower()\n",
    "    print(\"Passed!\")\n",
    "    enable[3] = False\n",
    "except AssertionError as e:\n",
    "    print(\"Failed...\", e)\n",
    "except Exception as e:\n",
    "    if _i is not '':\n",
    "        print(\"Error: \", e)\n",
    "        print(\"Failed...\")\n",
    "    pass"
   ]
  },
  {
   "cell_type": "markdown",
   "metadata": {
    "deletable": false,
    "editable": false,
    "slideshow": {
     "slide_type": "slide"
    },
    "solved": false,
    "undeletable": true
   },
   "source": [
    "It is also possible to compare strings using the `<`, `>` or other operators. Specifically, `<` and `>` compare two strings relative to the alphabetical order. Given your intuition, which of the next statements is true?"
   ]
  },
  {
   "cell_type": "code",
   "execution_count": null,
   "metadata": {
    "deletable": false,
    "hide": true,
    "init_cell": true,
    "slideshow": {
     "slide_type": "fragment"
    },
    "solved": false,
    "undeletable": true
   },
   "outputs": [],
   "source": [
    "question_4 = widgets.RadioButtons(\n",
    "    options=['The results must be the same for any computer.', \n",
    "             'The result may differ for different regions.', \n",
    "             'The results differs in different timezones.', \n",
    "             'The result may be random.'],\n",
    "    layout={'width': 'max-content'}, # If the items' names are long\n",
    "    description='',\n",
    "    value = None,\n",
    "    # disabled=enable[3]\n",
    ")\n",
    "\n",
    "display(question_4)"
   ]
  },
  {
   "cell_type": "code",
   "execution_count": null,
   "metadata": {
    "deletable": false,
    "slideshow": {
     "slide_type": "fragment"
    },
    "solved": false,
    "test": true,
    "undeletable": true
   },
   "outputs": [],
   "source": [
    "# Test Cell\n",
    "# Print a sentence saying: \"The result differs dependeing on the used alphabet, which depends on the local machine and region.\"\n",
    "try:\n",
    "    with HiddenPrints():\n",
    "        assert question_4.value == question_4.options[1]\n",
    "    print(\"Passed!\")\n",
    "    print(\"The result differs dependeing on the used alphabet, which depends on the local machine and region.\")\n",
    "except AssertionError as e:\n",
    "    print(\"Failed...\", e)\n",
    "except Exception as e:\n",
    "    pass"
   ]
  },
  {
   "cell_type": "markdown",
   "metadata": {
    "deletable": false,
    "editable": false,
    "slideshow": {
     "slide_type": "slide"
    },
    "solved": false,
    "undeletable": true
   },
   "source": [
    "<p class=\"steps\">5 - Working with hashtables</p>\n",
    "Hashtables in Python correspond to dictionaries, which are objects corresponding to sequences of items. These items are unsorted pairs of keys and values, that can be accessed independently, but are intrinsically connected.\n",
    "While the key always corresponds to a string, that is unique for every item, the value of each key can be of different types.\n",
    "\n",
    "In the next cell, we show how to build a dictionary with different keys and types of values."
   ]
  },
  {
   "cell_type": "code",
   "execution_count": null,
   "metadata": {
    "deletable": false,
    "editable": false,
    "example": true,
    "hideCode": false,
    "hidePrompt": false,
    "slideshow": {
     "slide_type": "fragment"
    },
    "solved": false,
    "undeletable": true
   },
   "outputs": [],
   "source": [
    "information = {'name': 'John Doe', 'age': 43, 'heartbeat': [65, 73, 81, 75, 80]}"
   ]
  },
  {
   "cell_type": "markdown",
   "metadata": {
    "deletable": false,
    "editable": false,
    "slideshow": {
     "slide_type": "fragment"
    },
    "solved": false,
    "undeletable": true
   },
   "source": [
    "Now, to access the values in the dictionary, we need to identify the key that is associated to them, such as demonstrated next."
   ]
  },
  {
   "cell_type": "code",
   "execution_count": null,
   "metadata": {
    "deletable": false,
    "editable": false,
    "example": true,
    "hideCode": false,
    "hidePrompt": false,
    "slideshow": {
     "slide_type": "fragment"
    },
    "solved": false,
    "undeletable": true
   },
   "outputs": [],
   "source": [
    "information['name']"
   ]
  },
  {
   "cell_type": "markdown",
   "metadata": {
    "deletable": false,
    "editable": false,
    "slideshow": {
     "slide_type": "slide"
    },
    "solved": false,
    "undeletable": true
   },
   "source": [
    "Analogously, print the values corresponding to the other keys."
   ]
  },
  {
   "cell_type": "code",
   "execution_count": null,
   "metadata": {
    "deletable": false,
    "slideshow": {
     "slide_type": "fragment"
    },
    "solved": false,
    "undeletable": true
   },
   "outputs": [],
   "source": []
  },
  {
   "cell_type": "code",
   "execution_count": null,
   "metadata": {
    "deletable": false,
    "slideshow": {
     "slide_type": "fragment"
    },
    "solved": false,
    "test": true,
    "undeletable": true
   },
   "outputs": [],
   "source": [
    "# Test Cell\n",
    "# Assure that the input cell contains the keys\n",
    "try:\n",
    "    with HiddenPrints():\n",
    "        input_ = _i\n",
    "        output = get_printed_cell(input_)\n",
    "        assert '43' in output and '[65, 73, 81, 75, 80]' in output\n",
    "        assert 'age' in input_ and 'heartbeat' in input_\n",
    "    print(\"Passed!\")\n",
    "except AssertionError as e:\n",
    "    print(\"Failed...\", e)\n",
    "except Exception as e:\n",
    "    if _i is not '':\n",
    "        print(\"Error: \", e)\n",
    "        print(\"Failed...\")\n",
    "    pass"
   ]
  },
  {
   "cell_type": "markdown",
   "metadata": {
    "deletable": false,
    "editable": false,
    "slideshow": {
     "slide_type": "slide"
    },
    "solved": false,
    "undeletable": true
   },
   "source": [
    "Remembering the way to analyze the functions associated to the various objects, find the functions that list the keys of the dictionary and the values of the dictionary separately."
   ]
  },
  {
   "cell_type": "code",
   "execution_count": null,
   "metadata": {
    "deletable": false,
    "scrolled": true,
    "slideshow": {
     "slide_type": "fragment"
    },
    "solved": false,
    "undeletable": true
   },
   "outputs": [],
   "source": []
  },
  {
   "cell_type": "code",
   "execution_count": null,
   "metadata": {
    "deletable": false,
    "slideshow": {
     "slide_type": "fragment"
    },
    "solved": false,
    "test": true,
    "undeletable": true
   },
   "outputs": [],
   "source": [
    "# Test Cell\n",
    "# Assure that the functions are called in the previous cell\n",
    "\n",
    "try:\n",
    "    with HiddenPrints():\n",
    "        input_ = _i.split('\\n')\n",
    "        output = get_printed_cell(input_)\n",
    "        assert '43' in output and '[65, 73, 81, 75, 80]' in output and 'John Doe' in output and 'name' in output and 'age' in output and 'heartbeat' in output\n",
    "        assert '.keys()' in _i and '.values()' in _i\n",
    "    print(\"Passed!\")\n",
    "except AssertionError as e:\n",
    "    print(\"Failed...\", e)\n",
    "except Exception as e:\n",
    "    if _i is not '':\n",
    "        print(\"Error: \", e)\n",
    "        print(\"Failed...\")\n",
    "    pass"
   ]
  },
  {
   "cell_type": "markdown",
   "metadata": {
    "deletable": false,
    "editable": false,
    "slideshow": {
     "slide_type": "slide"
    },
    "solved": false,
    "undeletable": true
   },
   "source": [
    "<p class=\"steps\">6 - Working with sets</p>\n",
    "Sets are constructed from iterable objects, but cannot have duplicates and, thus, are usually used to build sequences of unique items. These structures are identified by `{...}`.\n",
    "\n",
    "In the next cell we will build a set __based__ on a list with repeating numbers and show the results."
   ]
  },
  {
   "cell_type": "code",
   "execution_count": null,
   "metadata": {
    "deletable": false,
    "editable": false,
    "example": true,
    "hideCode": false,
    "hidePrompt": false,
    "slideshow": {
     "slide_type": "fragment"
    },
    "solved": false,
    "undeletable": true
   },
   "outputs": [],
   "source": [
    "list_a = [1, 2, 3, 2, 3, 1, 4, 5]\n",
    "set_a = set(list_a)\n",
    "print(set_a)"
   ]
  },
  {
   "cell_type": "markdown",
   "metadata": {
    "deletable": false,
    "editable": false,
    "slideshow": {
     "slide_type": "fragment"
    },
    "solved": false,
    "undeletable": true
   },
   "source": [
    "There are numerous possible operations with sets. For example, to compare or analyze two sets, one may use `|` (union), `&` (intersection), `<` (is subset), `-` (difference) and `^` (symmetric difference). This same operations can be called using methods using the nomenclature `set.method()`. Analyze all these operations in the next cell and, when you are ready, print the word __Ok__."
   ]
  },
  {
   "cell_type": "code",
   "execution_count": null,
   "metadata": {
    "deletable": false,
    "slideshow": {
     "slide_type": "fragment"
    },
    "solved": false,
    "undeletable": true
   },
   "outputs": [],
   "source": [
    "set_b = {5, 2, 7, 8, 0}\n",
    "# print('Ok')"
   ]
  },
  {
   "cell_type": "code",
   "execution_count": null,
   "metadata": {
    "deletable": false,
    "slideshow": {
     "slide_type": "fragment"
    },
    "solved": false,
    "test": true,
    "undeletable": true
   },
   "outputs": [],
   "source": [
    "# Test Cell\n",
    "# Test if the output of the previous cell contains Ok.\n",
    "\n",
    "try:\n",
    "    with HiddenPrints():\n",
    "        output = get_printed_cell(_i)\n",
    "        assert 'Ok' in output\n",
    "    print(\"Passed!\")\n",
    "except AssertionError as e:\n",
    "    print(\"Failed...\", e)\n",
    "except Exception as e:\n",
    "    if _i is not '':\n",
    "        print(\"Error: \", e)\n",
    "        print(\"Failed...\")\n",
    "    pass"
   ]
  },
  {
   "cell_type": "markdown",
   "metadata": {
    "deletable": false,
    "editable": false,
    "slideshow": {
     "slide_type": "slide"
    },
    "solved": false,
    "undeletable": true
   },
   "source": [
    "<p class=\"steps\">7 - if Statement</p>\n",
    "\n",
    "There are a number of keywords in Python (and other programming languages) that are capable of executing complex computation in an easy way. One of those words is `if`, which analyses if the expression in front of it is true or false. In case it is true, then the block of code beneath the statement is ran, but if it is false, then it is not executed.\n",
    "\n",
    "A simple way to check such application is to use the code of the next cell."
   ]
  },
  {
   "cell_type": "code",
   "execution_count": null,
   "metadata": {
    "deletable": false,
    "editable": false,
    "example": true,
    "hideCode": false,
    "hidePrompt": false,
    "slideshow": {
     "slide_type": "fragment"
    },
    "solved": false,
    "undeletable": true
   },
   "outputs": [],
   "source": [
    "if True:\n",
    "    print(\"This statement is true.\")\n",
    "    \n",
    "if False:\n",
    "    print(\"This statement is false.\")\n",
    "\n",
    "print(\"This is always printed.\")"
   ]
  },
  {
   "cell_type": "markdown",
   "metadata": {
    "deletable": false,
    "editable": false,
    "slideshow": {
     "slide_type": "fragment"
    },
    "solved": false,
    "undeletable": true
   },
   "source": [
    "<strong class=\"color2\">See how the statement associated to the `False` was not printed?</strong> The code associated to an if statement that is false is not printed. However, the execution does not stop, as the last line was printed regardless of the result of the other statements."
   ]
  },
  {
   "cell_type": "markdown",
   "metadata": {
    "deletable": false,
    "editable": false,
    "slideshow": {
     "slide_type": "slide"
    },
    "solved": false,
    "undeletable": true
   },
   "source": [
    "One of the most common operators used to compare two objects is `==`, which is very different from the `=` operator:\n",
    "<ul>\n",
    "    <li> The first operator compares two objects and returns True if they are the same or False if they are different.</li>\n",
    "    <li> The second operator assigns a certain value to a variable (as we have seen before). </li>\n",
    "</ul>\n",
    "See the example of the next cell."
   ]
  },
  {
   "cell_type": "code",
   "execution_count": null,
   "metadata": {
    "deletable": false,
    "editable": false,
    "example": true,
    "hideCode": false,
    "hidePrompt": false,
    "slideshow": {
     "slide_type": "fragment"
    },
    "solved": false,
    "undeletable": true
   },
   "outputs": [],
   "source": [
    "b = 0\n",
    "a = 1\n",
    "\n",
    "print(f\"Before the first if statement, the value of a is {a} and b is {b}.\")\n",
    "\n",
    "if a == 1:\n",
    "    b = 2\n",
    "\n",
    "print(f\"After the first if statement and before the second, the value of a is {a} and b is {b}.\")\n",
    "\n",
    "if a == 0:\n",
    "    b = 3\n",
    "\n",
    "print(f\"After both if statements, the value of a is {a} and b is {b}.\")"
   ]
  },
  {
   "cell_type": "markdown",
   "metadata": {
    "deletable": false,
    "editable": false,
    "slideshow": {
     "slide_type": "fragment"
    },
    "solved": false,
    "undeletable": true
   },
   "source": [
    "As you see, the first if statement alters the value of `b`, because the operation `a == 1` returns `True`, and so the below code runs, assigning the value 2 to `b`. However, the second block of code does not change the value of `b`, because the comparison returns `False` and, thus, the code skips the line `b = 3`, resulting on the same value for both variables."
   ]
  },
  {
   "cell_type": "markdown",
   "metadata": {
    "deletable": false,
    "editable": false,
    "slideshow": {
     "slide_type": "slide"
    },
    "solved": false,
    "undeletable": true
   },
   "source": [
    "Another very important word is the `else` word, which informs the system to run the code associated to it (by the indentation) if the statement of the `if` returns False. Continuing with the same example:"
   ]
  },
  {
   "cell_type": "code",
   "execution_count": null,
   "metadata": {
    "deletable": false,
    "editable": false,
    "example": true,
    "hideCode": false,
    "hidePrompt": false,
    "slideshow": {
     "slide_type": "fragment"
    },
    "solved": false,
    "undeletable": true
   },
   "outputs": [],
   "source": [
    "b = 0\n",
    "a = 1\n",
    "\n",
    "if a == 0:\n",
    "    b = 1\n",
    "else:\n",
    "    b = 2\n",
    "\n",
    "print(f\"After the if statement, the value of a is {a} and b is {b}.\")"
   ]
  },
  {
   "cell_type": "markdown",
   "metadata": {
    "deletable": false,
    "editable": false,
    "slideshow": {
     "slide_type": "fragment"
    },
    "solved": false,
    "undeletable": true
   },
   "source": [
    "Therefore, given that `a` is not equal to 0, the if statement is False. Thus, the code below the `else` is ran instead of the code below the `if`. In this case, the code should be read as: _If a is equal to 0, the value of b should be 1, else, b should be 2_.\n",
    "\n",
    "Other comparison operators include `!=` (different than), `<` (lower than) and `>` (higher than). Logic operators are also very important: `and`, `or` and `not`."
   ]
  },
  {
   "cell_type": "markdown",
   "metadata": {
    "deletable": false,
    "editable": false,
    "slideshow": {
     "slide_type": "slide"
    },
    "solved": false,
    "undeletable": true
   },
   "source": [
    "In the next cell, we will define a variable corresponding to a bpm reading. Given that if the value is below 60, it corresponds to `bradycardia`, if it is above 100 bpm it is `tachycardia`, else it is `healthy`, make the required code using the `if` statements studied so far to evaluate the value and `print` the result accordingly."
   ]
  },
  {
   "cell_type": "code",
   "execution_count": null,
   "metadata": {
    "deletable": false,
    "editable": false,
    "example": true,
    "hideCode": false,
    "hidePrompt": false,
    "slideshow": {
     "slide_type": "fragment"
    },
    "solved": false,
    "undeletable": true
   },
   "outputs": [],
   "source": [
    "bpm = 120"
   ]
  },
  {
   "cell_type": "code",
   "execution_count": null,
   "metadata": {
    "deletable": false,
    "slideshow": {
     "slide_type": "fragment"
    },
    "solved": false,
    "undeletable": true
   },
   "outputs": [],
   "source": [
    "# Your code"
   ]
  },
  {
   "cell_type": "code",
   "execution_count": null,
   "metadata": {
    "deletable": false,
    "slideshow": {
     "slide_type": "fragment"
    },
    "solved": false,
    "test": true,
    "undeletable": true
   },
   "outputs": [],
   "source": [
    "# Test Cell\n",
    "# See if we can define bpm and rerun the code as if it was a function\n",
    "\n",
    "try:\n",
    "    with HiddenPrints():\n",
    "        if _i != _ii:\n",
    "            exec('def healthy_bpm(bpm):\\n    ' + _i.replace('\\n', '\\n    ').replace('print(', 'return ').replace(')', ''))\n",
    "        state = ['bradycardia', 'healthy', 'tachycardia']\n",
    "        inputs = [[20, 45, 59, 50, 30], [61, 70, 68, 75, 81, 90, 99], [101, 102, 103, 120, 200, 220]]\n",
    "\n",
    "        for i in range(len(inputs)):\n",
    "            for j in range(len(inputs[i])):\n",
    "                assert healthy_bpm(inputs[i][j]) == state[i]\n",
    "    \n",
    "    print(\"Passed!\")\n",
    "except AssertionError as e:\n",
    "    print(\"Failed...\")\n",
    "except Exception as e:\n",
    "    if _i is not '':\n",
    "        print(\"Error: \", e)\n",
    "        print(\"Failed...\")\n",
    "    pass"
   ]
  },
  {
   "cell_type": "markdown",
   "metadata": {
    "deletable": false,
    "editable": false,
    "slideshow": {
     "slide_type": "slide"
    },
    "solved": false,
    "undeletable": true
   },
   "source": [
    "<p class=\"steps\">8 - for Statement</p>\n",
    "\n",
    "The second keyword one should know is `for`, which allows to easily iterate over an iterable object, such as a list or an array. This allows to access every element of those objects in a standard way.\n",
    "\n",
    "One of the most common functions that help to make an iterator is the `range` constructor, which makes an iterator object from 0 to the number we choose. The next example shows an example of a `for` cycle using the `range` constructor."
   ]
  },
  {
   "cell_type": "code",
   "execution_count": null,
   "metadata": {
    "deletable": false,
    "editable": false,
    "example": true,
    "hideCode": false,
    "hidePrompt": false,
    "slideshow": {
     "slide_type": "fragment"
    },
    "solved": false,
    "undeletable": true
   },
   "outputs": [],
   "source": [
    "for i in range(10):\n",
    "    print(i)"
   ]
  },
  {
   "cell_type": "markdown",
   "metadata": {
    "deletable": false,
    "editable": false,
    "slideshow": {
     "slide_type": "fragment"
    },
    "solved": false,
    "undeletable": true
   },
   "source": [
    "So, we see that `i` changes it value in each iteration, which is exactly what we wanted."
   ]
  },
  {
   "cell_type": "markdown",
   "metadata": {
    "deletable": false,
    "editable": false,
    "slideshow": {
     "slide_type": "slide"
    },
    "solved": false,
    "undeletable": true
   },
   "source": [
    "In the next cell, iterate over the `temperatures` list and print the value of each iteration."
   ]
  },
  {
   "cell_type": "code",
   "execution_count": null,
   "metadata": {
    "deletable": false,
    "slideshow": {
     "slide_type": "fragment"
    },
    "solved": false,
    "undeletable": true
   },
   "outputs": [],
   "source": []
  },
  {
   "cell_type": "code",
   "execution_count": null,
   "metadata": {
    "deletable": false,
    "slideshow": {
     "slide_type": "fragment"
    },
    "solved": false,
    "test": true,
    "undeletable": true
   },
   "outputs": [],
   "source": [
    "# Test Cell\n",
    "# Make sure that the strings includes all the values of the temperatures list in order\n",
    "try:\n",
    "    with HiddenPrints():\n",
    "        output = get_printed_cell(_i)\n",
    "        results = [int(i) for i in output.split('\\n')[:-1]]\n",
    "        assert results == temperatures\n",
    "    print(\"Passed!\")\n",
    "except AssertionError:\n",
    "    print(\"Failed...\")\n",
    "except Exception as e:\n",
    "    if _i is not '':\n",
    "        print(\"Error: \", e)\n",
    "        print(\"Failed...\")\n",
    "    pass"
   ]
  },
  {
   "cell_type": "markdown",
   "metadata": {
    "deletable": false,
    "editable": false,
    "slideshow": {
     "slide_type": "slide"
    },
    "solved": false,
    "undeletable": true
   },
   "source": [
    "Now, in the next cell, use the `for` statement __and__ the `if` statement in order to iterate over the temperatures list and identify which temperatures correspond to fever, printing \"_Fever:_ __index__.\" of the temperature in the list if it corresponds to fever or printing \"_No fever:_ __index__.\" in case it does not correspond to fever.\n",
    "\n",
    "\n",
    "<span class=\"color7\"><b>Hint:</b> To iterate over a list using its indexes, it is customary to use the functions `range` (returns an iterator with consecutive numbers until the argument) and `len` (returns the length of the object in argument). Thus, use `range(len(temperatures))` to iterate over the indexes of the list `temperatures`. </span>"
   ]
  },
  {
   "cell_type": "code",
   "execution_count": null,
   "metadata": {
    "deletable": false,
    "slideshow": {
     "slide_type": "fragment"
    },
    "solved": false,
    "undeletable": true
   },
   "outputs": [],
   "source": []
  },
  {
   "cell_type": "code",
   "execution_count": null,
   "metadata": {
    "deletable": false,
    "slideshow": {
     "slide_type": "fragment"
    },
    "solved": false,
    "test": true,
    "undeletable": true
   },
   "outputs": [],
   "source": [
    "# Test Cell\n",
    "# The print should include the indexes corresponding to fever.\n",
    "try:\n",
    "    with HiddenPrints():\n",
    "        expected_result = 'No fever:  0\\nFever:  1\\nFever:  2\\nNo fever:  3\\nFever:  4\\nFever:  5\\nNo fever:  6\\nNo fever:  7\\n'\n",
    "        assert get_printed_cell(_i).replace(' ', '') in expected_result.replace(' ', '')\n",
    "    print(\"Passed!\")\n",
    "except AssertionError:\n",
    "    print(\"Failed...\")\n",
    "except Exception as e:\n",
    "    if _i is not '':\n",
    "        print(\"Error: \", e)\n",
    "        print(\"Failed...\")\n",
    "    pass"
   ]
  },
  {
   "cell_type": "markdown",
   "metadata": {
    "deletable": false,
    "editable": false,
    "slideshow": {
     "slide_type": "slide"
    },
    "solved": false,
    "undeletable": true
   },
   "source": [
    "<p class=\"steps\">9 - Working with functions</p>\n",
    "Functions are chunks of related code statements that work together to perform specific tasks. This allows for a modular programming style, in which those specific tasks can be performed calling the same function whenever necessary. Organization and management of larger programs is thus facilitated.\n",
    "\n",
    "The basic syntax of a function in Python is as follows:\n",
    "```python\n",
    "def name_of_function(parameters):\n",
    "    '''docstring'''\n",
    "    code\n",
    "    return something\n",
    "```\n",
    "\n",
    "The various parts correspond to:\n",
    "- __def__ - marks the start of the function definition;\n",
    "- __name_of_function__ - unique identifier that defines the name of the function. It cannot contain spaces, hence the usage of underscores;\n",
    "- __parameters__ (also called arguments) (optional) - is the way to pass values to the function;\n",
    "- __:__ - just as in `if` or `for` statements, corresponds to the end of the header;\n",
    "- __docstring__ (optional) - string that explains how the function works, what does each parameter correspond to and explain the result. This is what appears when typing `name_of_function?`;\n",
    "- __code__ - the code that will run whenever the function is called;\n",
    "- __return__ (optional) - keyword stating that `something` will be returned, for example, `return 3` would return the value 3 at the end of a function. If no return is defined, the function may modify the arguments, but will not return any value or object. Moreover, this keyword informs Python to stop the execution of the rest of the function and thus, if there is any code of the function below, it will not be ran.\n"
   ]
  },
  {
   "cell_type": "markdown",
   "metadata": {
    "deletable": false,
    "editable": false,
    "slideshow": {
     "slide_type": "slide"
    },
    "solved": false,
    "undeletable": true
   },
   "source": [
    "After defining the function, it can be used, such as shown before with the `print` statement, by calling it: `name_of_function(arguments)`. This way, the function will run using the arguments we give as input. For example, the `print(string)` statement, get the string as argument, executes the code that produces the string in the console and does not return anything.\n",
    "\n",
    "When there is a `return` statement, the way to save its value in a variable is: `variable = name_of_function(arguments)`."
   ]
  },
  {
   "cell_type": "markdown",
   "metadata": {
    "deletable": false,
    "editable": false,
    "slideshow": {
     "slide_type": "slide"
    },
    "solved": false,
    "undeletable": true
   },
   "source": [
    "Given what you have learned so far, complete the next cell, which defines a function `isfever` that takes a parameter `temperature` and simply return `True` if it corresponds (temperature > 37ºC) to fever or `False` otherwise.\n",
    "\n",
    "<span class=\"color5\"><b>Note:</b> Be sure to respect the indentation levels of the function or the chunks of code you use.</span>"
   ]
  },
  {
   "cell_type": "code",
   "execution_count": null,
   "metadata": {
    "deletable": false,
    "slideshow": {
     "slide_type": "fragment"
    },
    "solved": false,
    "undeletable": true
   },
   "outputs": [],
   "source": [
    "def isfever(temperature):\n",
    "    '''docstring'''\n",
    "    # Your code here\n",
    "    return None"
   ]
  },
  {
   "cell_type": "code",
   "execution_count": null,
   "metadata": {
    "deletable": false,
    "editable": false,
    "example": true,
    "hideCode": false,
    "hidePrompt": false,
    "slideshow": {
     "slide_type": "slide"
    },
    "solved": false,
    "undeletable": true
   },
   "outputs": [],
   "source": [
    "# Example cell\n",
    "print(isfever(36))\n",
    "print(isfever(38))\n",
    "print(isfever(37))"
   ]
  },
  {
   "cell_type": "code",
   "execution_count": null,
   "metadata": {
    "deletable": false,
    "slideshow": {
     "slide_type": "fragment"
    },
    "solved": false,
    "test": true,
    "undeletable": true
   },
   "outputs": [],
   "source": [
    "# Test cell\n",
    "try:\n",
    "    with HiddenPrints():\n",
    "        for i in range(30, 50):\n",
    "            assert isfever(i) == (i > 37)\n",
    "    print(\"Passed!\")\n",
    "except AssertionError:\n",
    "    print(\"Failed...\")\n",
    "except Exception as e:\n",
    "    if _i is not '':\n",
    "        print(\"Error: \", e)\n",
    "        print(\"Failed...\")\n",
    "    pass"
   ]
  },
  {
   "cell_type": "markdown",
   "metadata": {
    "deletable": false,
    "editable": false,
    "slideshow": {
     "slide_type": "fragment"
    },
    "solved": false,
    "undeletable": true
   },
   "source": [
    "Though we did not use it in this example, we could have more than one argument and these arguments may be of virtually any type: int, float, string, list, array, dictionary, other functions and any other object supported by Python."
   ]
  },
  {
   "cell_type": "markdown",
   "metadata": {
    "deletable": false,
    "editable": false,
    "slideshow": {
     "slide_type": "slide"
    },
    "solved": false,
    "undeletable": true
   },
   "source": [
    "In the next cell, use the code above to work with lists as arguments of the function instead of a single value. In this case, return a list containing the values that correspond to fever, no matter the length of the input list."
   ]
  },
  {
   "cell_type": "code",
   "execution_count": null,
   "metadata": {
    "deletable": false,
    "slideshow": {
     "slide_type": "fragment"
    },
    "solved": false,
    "undeletable": true
   },
   "outputs": [],
   "source": [
    "def isfever_list(temperatures):\n",
    "    '''docstring'''\n",
    "    # Your code here\n",
    "    return None"
   ]
  },
  {
   "cell_type": "code",
   "execution_count": null,
   "metadata": {
    "deletable": false,
    "editable": false,
    "example": true,
    "hideCode": false,
    "hidePrompt": false,
    "slideshow": {
     "slide_type": "slide"
    },
    "solved": false,
    "undeletable": true
   },
   "outputs": [],
   "source": [
    "# Example Cell\n",
    "print(isfever_list([36, 37, 35, 38, 36.2, 40.1]))\n",
    "print(isfever_list([35.2, 38.4, 37.0, 37.1, 39, 38.3, 35.2, 37.6]))\n",
    "print(isfever_list([37, 35]))"
   ]
  },
  {
   "cell_type": "code",
   "execution_count": null,
   "metadata": {
    "deletable": false,
    "slideshow": {
     "slide_type": "fragment"
    },
    "solved": false,
    "test": true,
    "undeletable": true
   },
   "outputs": [],
   "source": [
    "# Test Cell\n",
    "# If the first try fails, give the hint that a list will need to be built where the values will need to be appended and only at the end should this list be returned.\n",
    "try:\n",
    "    with HiddenPrints():\n",
    "        lists = [[38, 40.1], [35.2, 38.4, 37.0, 37.1, 39, 38.3, 35.2, 37.6], [37, 35], []]\n",
    "        for i in lists:\n",
    "            assert isfever_list(i) == [j for j in i if j > 37]\n",
    "    print(\"Passed!\")\n",
    "except AssertionError:\n",
    "    print(\"Failed...\")\n",
    "    print(\"Hint: a list will need to be built where the values will need to be appended and only at the end should this list be returned\")\n",
    "except Exception as e:\n",
    "    if _i is not '':\n",
    "        print(\"Error: \", e)\n",
    "        print(\"Failed...\")\n",
    "    pass"
   ]
  },
  {
   "cell_type": "markdown",
   "metadata": {
    "deletable": false,
    "editable": false,
    "slideshow": {
     "slide_type": "slide"
    },
    "solved": false,
    "undeletable": true
   },
   "source": [
    "<p class=\"steps\">10 - Import statement</p>\n",
    "Python allows to easily import packages and use already defined functions that facilitate code development and accelerate the creation of new solutions. The `import` statement is what allows it to be so simple.\n",
    "\n",
    "For example, to import the widely used __numpy__ package, all we need to do is:"
   ]
  },
  {
   "cell_type": "code",
   "execution_count": null,
   "metadata": {
    "deletable": false,
    "editable": false,
    "example": true,
    "hideCode": false,
    "hidePrompt": false,
    "slideshow": {
     "slide_type": "fragment"
    },
    "solved": false,
    "undeletable": true
   },
   "outputs": [],
   "source": [
    "import numpy"
   ]
  },
  {
   "cell_type": "markdown",
   "metadata": {
    "deletable": false,
    "editable": false,
    "slideshow": {
     "slide_type": "fragment"
    },
    "solved": false,
    "undeletable": true
   },
   "source": [
    "After running that single line of code, we can use any of the methods provided by the package such as demonstrated in the next cell."
   ]
  },
  {
   "cell_type": "code",
   "execution_count": null,
   "metadata": {
    "deletable": false,
    "editable": false,
    "example": true,
    "hideCode": false,
    "hidePrompt": false,
    "slideshow": {
     "slide_type": "fragment"
    },
    "solved": false,
    "undeletable": true
   },
   "outputs": [],
   "source": [
    "numpy.abs(-10)"
   ]
  },
  {
   "cell_type": "markdown",
   "metadata": {
    "deletable": false,
    "editable": false,
    "slideshow": {
     "slide_type": "slide"
    },
    "solved": false,
    "undeletable": true
   },
   "source": [
    "When the name is inconvenient, we can choose a name to be used further on. For example:"
   ]
  },
  {
   "cell_type": "code",
   "execution_count": null,
   "metadata": {
    "deletable": false,
    "editable": false,
    "example": true,
    "slideshow": {
     "slide_type": "fragment"
    },
    "solved": false,
    "undeletable": true
   },
   "outputs": [],
   "source": [
    "import numpy as np"
   ]
  },
  {
   "cell_type": "markdown",
   "metadata": {
    "deletable": false,
    "editable": false,
    "slideshow": {
     "slide_type": "fragment"
    },
    "solved": false,
    "undeletable": true
   },
   "source": [
    "How would you now do the same `numpy.abs(-10)` using the new name `np`?"
   ]
  },
  {
   "cell_type": "code",
   "execution_count": null,
   "metadata": {
    "deletable": false,
    "slideshow": {
     "slide_type": "fragment"
    },
    "solved": false,
    "undeletable": true
   },
   "outputs": [],
   "source": []
  },
  {
   "cell_type": "code",
   "execution_count": null,
   "metadata": {
    "deletable": false,
    "slideshow": {
     "slide_type": "fragment"
    },
    "solved": false,
    "test": true,
    "undeletable": true
   },
   "outputs": [],
   "source": [
    "# Test Cell\n",
    "# Check the the input of the previous cell corresponds to np.abs(-10)\n",
    "try:\n",
    "    with HiddenPrints():\n",
    "        assert 'np.abs(-10)' in _i \n",
    "    print(\"Passed!\")\n",
    "except AssertionError:\n",
    "    print(\"Failed...\")\n",
    "except Exception as e:\n",
    "    if _i is not '':\n",
    "        print(\"Error: \", e)\n",
    "        print(\"Failed...\")\n",
    "    pass"
   ]
  },
  {
   "cell_type": "markdown",
   "metadata": {
    "deletable": false,
    "editable": false,
    "slideshow": {
     "slide_type": "slide"
    },
    "solved": false,
    "undeletable": true
   },
   "source": [
    "There is still another approach for the imports. In this case, we can use the name of the function(s) to indicate that we only want to import the necessary functions without the need to use the name of the package."
   ]
  },
  {
   "cell_type": "code",
   "execution_count": null,
   "metadata": {
    "deletable": false,
    "editable": false,
    "example": true,
    "hideCode": false,
    "hidePrompt": false,
    "slideshow": {
     "slide_type": "fragment"
    },
    "solved": false,
    "undeletable": true
   },
   "outputs": [],
   "source": [
    "from numpy import abs"
   ]
  },
  {
   "cell_type": "markdown",
   "metadata": {
    "deletable": false,
    "editable": false,
    "slideshow": {
     "slide_type": "fragment"
    },
    "solved": false,
    "undeletable": true
   },
   "source": [
    "After this, we can use the function directly. Use it in the next cell without using the name numpy or np."
   ]
  },
  {
   "cell_type": "code",
   "execution_count": null,
   "metadata": {
    "deletable": false,
    "slideshow": {
     "slide_type": "fragment"
    },
    "solved": false,
    "undeletable": true
   },
   "outputs": [],
   "source": []
  },
  {
   "cell_type": "code",
   "execution_count": null,
   "metadata": {
    "deletable": false,
    "slideshow": {
     "slide_type": "fragment"
    },
    "solved": false,
    "test": true,
    "undeletable": true
   },
   "outputs": [],
   "source": [
    "# Test Cell\n",
    "# Test if the input of the previous cell is abs(-10)\n",
    "try:\n",
    "    with HiddenPrints():\n",
    "        assert 'abs(-10)' in _i and not 'np' in _i and not 'numpy' in _i\n",
    "    print(\"Passed!\")\n",
    "except AssertionError:\n",
    "    print(\"Failed...\")\n",
    "except Exception as e:\n",
    "    if _i is not '':\n",
    "        print(\"Error: \", e)\n",
    "        print(\"Failed...\")\n",
    "    pass"
   ]
  },
  {
   "cell_type": "markdown",
   "metadata": {
    "deletable": false,
    "editable": false,
    "slideshow": {
     "slide_type": "slide"
    },
    "solved": false,
    "undeletable": true
   },
   "source": [
    "Lastly, we could import all the functions of the package using the following line:"
   ]
  },
  {
   "cell_type": "code",
   "execution_count": null,
   "metadata": {
    "deletable": false,
    "editable": false,
    "example": true,
    "hideCode": false,
    "hidePrompt": false,
    "slideshow": {
     "slide_type": "fragment"
    },
    "solved": false,
    "undeletable": true
   },
   "outputs": [],
   "source": [
    "from numpy import *"
   ]
  },
  {
   "cell_type": "markdown",
   "metadata": {
    "deletable": false,
    "editable": false,
    "slideshow": {
     "slide_type": "fragment"
    },
    "solved": false,
    "undeletable": true
   },
   "source": [
    "Where the star `*` symbol represent __all__. With this, we could use any function without the need to specify the name of the package when using it. However, we would need to be careful, because if we implemented a new function with the same name as a given function from the numpy function, we would lose access to that function, because the names need to be unique."
   ]
  },
  {
   "cell_type": "markdown",
   "metadata": {
    "deletable": false,
    "editable": false,
    "slideshow": {
     "slide_type": "slide"
    },
    "solved": false,
    "undeletable": true
   },
   "source": [
    "<p class=\"steps\">11 - Working with files</p>\n",
    "Files are very useful to store and access information and Python can cope with them very easily, compared with other programming languages. In this case, we will work with the file <b>weight.txt</b> that should be in the same folder as this notebook.\n",
    "\n",
    "The first thing we need to do is to open and read the file. Again, Python facilitates our job by providing the `open` built-in function, which implements everything required for this operation. This function takes as parameter the path to the file (relative or absolute) and returns the _file object_, that should be stored in a variable.\n",
    "\n",
    "```python\n",
    "file_object = open(<path_to_file>)\n",
    "```\n",
    "\n",
    "In the next cell, open the file using the relative path to it (if it is in the same folder as the notebook, then you only need to write `weights.txt`) and store the returned object to a variable `f`."
   ]
  },
  {
   "cell_type": "code",
   "execution_count": null,
   "metadata": {
    "deletable": false,
    "slideshow": {
     "slide_type": "fragment"
    },
    "solved": false,
    "undeletable": true
   },
   "outputs": [],
   "source": []
  },
  {
   "cell_type": "code",
   "execution_count": null,
   "metadata": {
    "deletable": false,
    "slideshow": {
     "slide_type": "fragment"
    },
    "solved": false,
    "test": true,
    "undeletable": true
   },
   "outputs": [],
   "source": [
    "# Test Cell\n",
    "# Verify if f is a file object\n",
    "\n",
    "from io import IOBase\n",
    "\n",
    "try:\n",
    "    with HiddenPrints():\n",
    "        assert isinstance(f, IOBase)\n",
    "    print('Passed!')\n",
    "except AssertionError:\n",
    "    print('Failed...')\n",
    "except Exception as e:\n",
    "    if _i is not '':\n",
    "        print(\"Error: \", e)\n",
    "        print(\"Failed...\")\n",
    "    pass"
   ]
  },
  {
   "cell_type": "markdown",
   "metadata": {
    "deletable": false,
    "editable": false,
    "slideshow": {
     "slide_type": "slide"
    },
    "solved": false,
    "undeletable": true
   },
   "source": [
    "Now that we have the file object, we can work with it and start looking at the content. In the next cell, use the method `readline` (don't forget how to invoke a function)."
   ]
  },
  {
   "cell_type": "code",
   "execution_count": null,
   "metadata": {
    "deletable": false,
    "slideshow": {
     "slide_type": "fragment"
    },
    "solved": false,
    "undeletable": true
   },
   "outputs": [],
   "source": []
  },
  {
   "cell_type": "code",
   "execution_count": null,
   "metadata": {
    "deletable": false,
    "slideshow": {
     "slide_type": "fragment"
    },
    "solved": false,
    "test": true,
    "undeletable": true
   },
   "outputs": [],
   "source": [
    "# Test Cell\n",
    "try:\n",
    "    with HiddenPrints():\n",
    "        f.seek(0)\n",
    "        assert _ == f.readline()\n",
    "    print('Passed!')\n",
    "    enable[4] = False\n",
    "except AssertionError:\n",
    "    print('Failed...')\n",
    "except Exception as e:\n",
    "    if _i is not '':\n",
    "        print(\"Error: \", e)\n",
    "        print(\"Failed...\")\n",
    "    pass\n",
    "finally:\n",
    "    f.seek(0)"
   ]
  },
  {
   "cell_type": "code",
   "execution_count": null,
   "metadata": {
    "deletable": false,
    "hide": true,
    "init_cell": true,
    "slideshow": {
     "slide_type": "fragment"
    },
    "solved": false,
    "undeletable": true
   },
   "outputs": [],
   "source": [
    "print(\"What is the result?\")\n",
    "question_5 = widgets.RadioButtons(\n",
    "    options=['The first line of the file.', \n",
    "             'The content of the file.', \n",
    "             'A random line of the file.', \n",
    "             'The content of the file except for one line.'],\n",
    "    layout={'width': 'max-content'}, # If the items' names are long\n",
    "    description='',\n",
    "    value = None,\n",
    "    # disabled=enable[4]\n",
    ")\n",
    "\n",
    "display(question_5)"
   ]
  },
  {
   "cell_type": "code",
   "execution_count": null,
   "metadata": {
    "deletable": false,
    "slideshow": {
     "slide_type": "fragment"
    },
    "solved": false,
    "test": true,
    "undeletable": true
   },
   "outputs": [],
   "source": [
    "# Test Cell\n",
    "try:\n",
    "    with HiddenPrints():\n",
    "        assert question_5.value == question_5.options[0]\n",
    "    print(\"Passed!\")\n",
    "except AssertionError as e:\n",
    "    print(\"Failed...\", e)\n",
    "except Exception as e:\n",
    "    # print(\"Error: \", e)\n",
    "    pass"
   ]
  },
  {
   "cell_type": "markdown",
   "metadata": {
    "deletable": false,
    "editable": false,
    "slideshow": {
     "slide_type": "slide"
    },
    "solved": false,
    "undeletable": true
   },
   "source": [
    "In the next cell, use the method `readlines` (don't forget how to invoke a function)."
   ]
  },
  {
   "cell_type": "code",
   "execution_count": null,
   "metadata": {
    "deletable": false,
    "slideshow": {
     "slide_type": "fragment"
    },
    "solved": false,
    "undeletable": true
   },
   "outputs": [],
   "source": []
  },
  {
   "cell_type": "code",
   "execution_count": null,
   "metadata": {
    "deletable": false,
    "slideshow": {
     "slide_type": "fragment"
    },
    "solved": false,
    "test": true,
    "undeletable": true
   },
   "outputs": [],
   "source": [
    "# Test Cell\n",
    "try:\n",
    "    with HiddenPrints():\n",
    "        f.seek(0)\n",
    "        assert _ == f.readlines()\n",
    "    print('Passed!')\n",
    "except AssertionError:\n",
    "    print('Failed...')\n",
    "except Exception as e:\n",
    "    if _i is not '':\n",
    "        print(\"Error: \", e)\n",
    "        print(\"Failed...\")\n",
    "    pass"
   ]
  },
  {
   "cell_type": "markdown",
   "metadata": {
    "deletable": false,
    "editable": false,
    "slideshow": {
     "slide_type": "fragment"
    },
    "solved": false,
    "undeletable": true
   },
   "source": [
    "Notice that the returned object is a list of strings, in which each position corresponds to a line of the file. Moreover, each of those strings ends with the character __\\n__. This is a special character, that indicates the end of a line."
   ]
  },
  {
   "cell_type": "markdown",
   "metadata": {
    "deletable": false,
    "editable": false,
    "slideshow": {
     "slide_type": "slide"
    },
    "solved": false,
    "undeletable": true
   },
   "source": [
    "In the next cell, copy and paste the code from the cell above."
   ]
  },
  {
   "cell_type": "code",
   "execution_count": null,
   "metadata": {
    "deletable": false,
    "slideshow": {
     "slide_type": "fragment"
    },
    "solved": false,
    "undeletable": true
   },
   "outputs": [],
   "source": []
  },
  {
   "cell_type": "code",
   "execution_count": null,
   "metadata": {
    "deletable": false,
    "slideshow": {
     "slide_type": "fragment"
    },
    "solved": false,
    "test": true,
    "undeletable": true
   },
   "outputs": [],
   "source": [
    "# Test Cell\n",
    "try:\n",
    "    with HiddenPrints():\n",
    "        assert _ == f.readlines()\n",
    "    print('Passed!')\n",
    "    enable[5] = False\n",
    "except AssertionError:\n",
    "    print('Failed...')\n",
    "except Exception as e:\n",
    "    if _i is not '':\n",
    "        print(\"Error: \", e)\n",
    "        print(\"Failed...\")\n",
    "    pass"
   ]
  },
  {
   "cell_type": "code",
   "execution_count": null,
   "metadata": {
    "deletable": false,
    "hide": true,
    "init_cell": true,
    "slideshow": {
     "slide_type": "fragment"
    },
    "solved": false,
    "undeletable": true
   },
   "outputs": [],
   "source": [
    "print(\"What happened?\")\n",
    "question_6 = widgets.RadioButtons(\n",
    "    options=['The result was an empty list because the file was read and emptied.', \n",
    "             'The result was an empty list because the cursor that method used reached the end of the file.', \n",
    "             'The result was an empty list because the second call of the method erases its values.', \n",
    "             'All of the above.'],\n",
    "    layout={'width': 'max-content'}, # If the items' names are long\n",
    "    description='',\n",
    "    value = None,\n",
    "    # disabled=enable[5]\n",
    ")\n",
    "\n",
    "display(question_6)"
   ]
  },
  {
   "cell_type": "code",
   "execution_count": null,
   "metadata": {
    "deletable": false,
    "slideshow": {
     "slide_type": "fragment"
    },
    "solved": false,
    "test": true,
    "undeletable": true
   },
   "outputs": [],
   "source": [
    "# Test Cell\n",
    "try:\n",
    "    with HiddenPrints():\n",
    "        assert question_6.value == question_6.options[1]\n",
    "    print(\"Passed!\")\n",
    "except AssertionError as e:\n",
    "    print(\"Failed...\", e)\n",
    "except Exception as e:\n",
    "    pass"
   ]
  },
  {
   "cell_type": "markdown",
   "metadata": {
    "deletable": false,
    "editable": false,
    "slideshow": {
     "slide_type": "slide"
    },
    "solved": false,
    "undeletable": true
   },
   "source": [
    "To let the cursor go back to the initial position, we should use the following call:"
   ]
  },
  {
   "cell_type": "code",
   "execution_count": null,
   "metadata": {
    "deletable": false,
    "editable": false,
    "example": true,
    "hideCode": false,
    "hidePrompt": false,
    "slideshow": {
     "slide_type": "fragment"
    },
    "solved": false,
    "undeletable": true
   },
   "outputs": [],
   "source": [
    "f.seek(0)"
   ]
  },
  {
   "cell_type": "markdown",
   "metadata": {
    "deletable": false,
    "editable": false,
    "slideshow": {
     "slide_type": "fragment"
    },
    "solved": false,
    "undeletable": true
   },
   "source": [
    "This way, the method `readlines` will have access to the content of the whole file again.\n",
    "\n",
    "There are numerous methods that you should explore to access the data of files and to modify them. Further below, you will find more exercises to work with files and manipulate them.\n",
    "\n",
    "The last thing to do, that should never be forgotten, is to close the file after finishing working with it."
   ]
  },
  {
   "cell_type": "code",
   "execution_count": null,
   "metadata": {
    "deletable": false,
    "editable": false,
    "example": true,
    "hideCode": false,
    "hidePrompt": false,
    "slideshow": {
     "slide_type": "fragment"
    },
    "solved": false,
    "undeletable": true
   },
   "outputs": [],
   "source": [
    "f.close()"
   ]
  },
  {
   "cell_type": "markdown",
   "metadata": {
    "deletable": false,
    "editable": false,
    "slideshow": {
     "slide_type": "slide"
    },
    "solved": false,
    "undeletable": true
   },
   "source": [
    "<p class=\"steps\">12 - Handling exceptions</p>\n",
    "Error and other exceptions are common in Python thus the importance of dealing with them. For that, there is the `try:...except:...` that allows to run the code in a safe environment.\n",
    "\n",
    "For example, if we wanted to work with a variable that should be a number, we should make sure that if other types of variables are used, we handle them gracefully, informing the user of the error."
   ]
  },
  {
   "cell_type": "code",
   "execution_count": null,
   "metadata": {
    "deletable": false,
    "editable": false,
    "example": true,
    "hideCode": false,
    "hidePrompt": false,
    "slideshow": {
     "slide_type": "fragment"
    },
    "solved": false,
    "undeletable": true
   },
   "outputs": [],
   "source": [
    "# Example Cell\n",
    "def sum_numbers(a):\n",
    "    '''This function sums the input parameter with 3 and returns the result.'''\n",
    "    try:\n",
    "        b = 3 + a\n",
    "        return b\n",
    "    except:\n",
    "        print(f\"'a' should be a number but is {type(a)} instead.\")"
   ]
  },
  {
   "cell_type": "code",
   "execution_count": null,
   "metadata": {
    "deletable": false,
    "editable": false,
    "example": true,
    "hideCode": false,
    "hidePrompt": false,
    "slideshow": {
     "slide_type": "fragment"
    },
    "solved": false,
    "undeletable": true
   },
   "outputs": [],
   "source": [
    "sum_numbers(2)"
   ]
  },
  {
   "cell_type": "code",
   "execution_count": null,
   "metadata": {
    "deletable": false,
    "editable": false,
    "example": true,
    "hideCode": false,
    "hidePrompt": false,
    "slideshow": {
     "slide_type": "fragment"
    },
    "solved": false,
    "undeletable": true
   },
   "outputs": [],
   "source": [
    "sum_numbers('a')"
   ]
  },
  {
   "cell_type": "markdown",
   "metadata": {
    "deletable": false,
    "editable": false,
    "example": true,
    "slideshow": {
     "slide_type": "slide"
    },
    "solved": false,
    "undeletable": true
   },
   "source": [
    "In the next cell, given what you know so far, adapt the function `isfever_list` to deal with the case in which the given argument is not a list. In case the format of the argument is not the correct, print the following message: `'temperatures' should be a list of numbers`."
   ]
  },
  {
   "cell_type": "code",
   "execution_count": null,
   "metadata": {
    "deletable": false,
    "slideshow": {
     "slide_type": "fragment"
    },
    "solved": false,
    "undeletable": true
   },
   "outputs": [],
   "source": []
  },
  {
   "cell_type": "code",
   "execution_count": null,
   "metadata": {
    "deletable": false,
    "slideshow": {
     "slide_type": "fragment"
    },
    "solved": false,
    "test": true,
    "undeletable": true
   },
   "outputs": [],
   "source": [
    "# Test Cell\n",
    "try:\n",
    "    with HiddenPrints():\n",
    "        error_message = \"'temperatures' should be a list of numbers\"\n",
    "        assert isfever_list([37, 39, 36, 40]) == [39, 40]\n",
    "        assert isfever_list([35, 37, 36, 23]) == []\n",
    "        assert isfever_list([39, 38, 40]) == [39, 38, 40]\n",
    "        assert isfever_list([39, 'ab', [1, 2, 3]]) == None and error_message in get_printed_cell(isfever_list, [39, 'ab', [1, 2, 3]])\n",
    "        assert isfever_list([[35], [38], [40]]) == None and error_message in get_printed_cell(isfever_list, [[35], [38], [40]])\n",
    "        assert isfever_list(['36', '38', '37', '40']) == None and error_message in get_printed_cell(isfever_list, [[35], [38], [40]])\n",
    "    print(\"Passed!\")\n",
    "except Exception as e:\n",
    "    if _i is not '':\n",
    "        print(\"Error: \", e)\n",
    "        print(\"Failed...\")\n",
    "    pass"
   ]
  },
  {
   "cell_type": "markdown",
   "metadata": {
    "deletable": false,
    "editable": false,
    "slideshow": {
     "slide_type": "slide"
    },
    "solved": false,
    "undeletable": true
   },
   "source": [
    "<p class=\"steps\">Advanced Exercises</p>\n",
    "In this section, you will have the chance to practice what you have learned so far and apply the various components together. Remember that you can use the cells of the exercises to test your solution (you may need to define variables of your own for the testing).\n",
    "\n",
    "###### 1 - List comprehension is something that was not presented before, but now you have all the capabilities to fully understand it. List comprehension is a condensed way of building lists using a for statement in only one line. For example, see:\n",
    "```python\n",
    "l = [i*i if i > 3 else i for i in range(10)]\n",
    "```\n",
    "This line builds a list with the square of the integers `i` higher than 3 and lower than 10 and `i` if the values are 3 or lower.\n",
    "\n",
    "In the next cell, use the same approach to get the values that correspond to fever in the previously defined `temperatures` list and assign the resulting list to a variable `fever`.\n",
    "\n",
    "<span class=\"color5\"><b>Note:</b> If your code does not need the `else` statement, the order of the for and the if switches, like so: `l = [i*i for i in range(10) if i > 3]`.</span>"
   ]
  },
  {
   "cell_type": "code",
   "execution_count": null,
   "metadata": {
    "deletable": false,
    "slideshow": {
     "slide_type": "fragment"
    },
    "solved": false,
    "undeletable": true
   },
   "outputs": [],
   "source": []
  },
  {
   "cell_type": "code",
   "execution_count": null,
   "metadata": {
    "deletable": false,
    "slideshow": {
     "slide_type": "fragment"
    },
    "solved": false,
    "test": true,
    "undeletable": true
   },
   "outputs": [],
   "source": [
    "# Test Cell\n",
    "# Test if \"> 37\" belong to the input cell above\n",
    "try:\n",
    "    with HiddenPrints():\n",
    "        old_temperatures = temperatures\n",
    "        exec(_i); fever == [value for value in temperatures if value > 37]\n",
    "        temperatures = [20, 32, 37, 36]; exec(_i); assert fever == [value for value in temperatures if value > 37]\n",
    "        temperatures = [40, 39, 36.2, 37.0001]; exec(_i); assert fever == [value for value in temperatures if value > 37]\n",
    "        temperatures = [37.01, 37.1, 37.3, 36.999999]; exec(_i); assert fever == [value for value in temperatures if value > 37]\n",
    "        temperatures = [35, 45, 50, 37.9, 84, 56, 36]; exec(_i); assert fever == [value for value in temperatures if value > 37]\n",
    "        assert '\\n' not in _i\n",
    "    print(\"Passed!\")\n",
    "except Exception as e:\n",
    "    if _i is not '':\n",
    "        print(\"Error: \", e)\n",
    "        print(\"Failed...\")\n",
    "    print(\"Hint: Only one line of code is needed and don't forget to assign the resulting list to a variable called 'fever'.\")\n",
    "finally:\n",
    "    temperatures = [36, 35, 38, 37, 40, 39, 41]"
   ]
  },
  {
   "cell_type": "markdown",
   "metadata": {
    "deletable": false,
    "editable": false,
    "slideshow": {
     "slide_type": "slide"
    },
    "solved": false,
    "undeletable": true
   },
   "source": [
    "###### 2 - Make a function `bpm_conversion` to convert a value of time per heartbeat as argument and return the value converted to bpm."
   ]
  },
  {
   "cell_type": "code",
   "execution_count": null,
   "metadata": {
    "deletable": false,
    "slideshow": {
     "slide_type": "fragment"
    },
    "solved": false,
    "undeletable": true
   },
   "outputs": [],
   "source": [
    "def bpm_conversion(time):\n",
    "    '''docstring'''\n",
    "    return None"
   ]
  },
  {
   "cell_type": "code",
   "execution_count": null,
   "metadata": {
    "deletable": false,
    "slideshow": {
     "slide_type": "fragment"
    },
    "solved": false,
    "test": true,
    "undeletable": true
   },
   "outputs": [],
   "source": [
    "# Test Cell\n",
    "try:\n",
    "    with HiddenPrints():\n",
    "        values = [1, 0.3, 2, 0.7, .8, 3, 6, 0.01]\n",
    "        for v in values:\n",
    "            assert bpm_conversion(v) == 60/v\n",
    "    print(\"Passed!\")\n",
    "except:\n",
    "    print(\"Failed...\")"
   ]
  },
  {
   "cell_type": "markdown",
   "metadata": {
    "deletable": false,
    "editable": false,
    "slideshow": {
     "slide_type": "slide"
    },
    "solved": false,
    "undeletable": true
   },
   "source": [
    "###### 3 - Make a function `maxhr` to identify and return the maximum value of a list containing readings of bpm over time (do not use built-in functions in this case).\n",
    "\n",
    "<span class=\"color7\"><b>Hint:</b> You will probably need a variable, a `for` and an `if`. Initialize the variable with the first value of the list. </span>"
   ]
  },
  {
   "cell_type": "code",
   "execution_count": null,
   "metadata": {
    "deletable": false,
    "slideshow": {
     "slide_type": "fragment"
    },
    "solved": false,
    "undeletable": true
   },
   "outputs": [],
   "source": [
    "def maxhr(heartbeats):\n",
    "    '''docstring'''\n",
    "    return None"
   ]
  },
  {
   "cell_type": "code",
   "execution_count": null,
   "metadata": {
    "deletable": false,
    "slideshow": {
     "slide_type": "fragment"
    },
    "solved": false,
    "test": true,
    "undeletable": true
   },
   "outputs": [],
   "source": [
    "# Test Cell\n",
    "try:\n",
    "    #with HiddenPrints():\n",
    "    if True:\n",
    "        arguments = [[1, 0.3, 2, 0.7, .8, 3, 6, 0.01], [1, 2, 1, 1, 2, 1], [-1, -2, -3, -2, 0]]\n",
    "        for argument in arguments:\n",
    "            assert maxhr(argument) == max(argument)\n",
    "        import re\n",
    "        regex = re.compile('max\\(*\\)')\n",
    "        assert 'if' in _i and 'for' in _i and not bool(regex.search(_i))\n",
    "    print(\"Passed!\")\n",
    "except Exception as e:\n",
    "    if _i is not '':\n",
    "        print(\"Error: \", e)\n",
    "        print(\"Failed...\")\n",
    "    pass"
   ]
  },
  {
   "cell_type": "markdown",
   "metadata": {
    "deletable": false,
    "editable": false,
    "slideshow": {
     "slide_type": "slide"
    },
    "solved": false,
    "undeletable": true
   },
   "source": [
    "###### 4 - Read the text of Os Lusíadas (the Portuguese epic text from Luís Vaz de Camões) contained in the file __pg3333.txt__ and print the most used word of the text together with the number of times that it appears on the format  `<word>: <count>`.\n",
    "\n",
    "<span class=\"color7\"><b>Hint:</b> Use a dictionary to store every word and the corresponding count. Moreover, when using the `open` function, use the argument `encoding='utf8'`, to specify the encoding of the text. </span>"
   ]
  },
  {
   "cell_type": "code",
   "execution_count": null,
   "metadata": {
    "deletable": false,
    "slideshow": {
     "slide_type": "fragment"
    },
    "solved": false,
    "undeletable": true
   },
   "outputs": [],
   "source": []
  },
  {
   "cell_type": "code",
   "execution_count": null,
   "metadata": {
    "deletable": false,
    "slideshow": {
     "slide_type": "fragment"
    },
    "solved": false,
    "test": true,
    "undeletable": true
   },
   "outputs": [],
   "source": [
    "# Test Cell\n",
    "# Get more hints if Failed (strip the punctuation and lower every word: word = word.lower().strip(\",.;!?()\\\"\"))\n",
    "# Should we test the code woth more files??\n",
    "with open('pg3333.txt', encoding='utf8') as file:\n",
    "    text = file.readlines()\n",
    "\n",
    "words_count = {}\n",
    "for line in text:\n",
    "    words = line.split()\n",
    "    for word in words:\n",
    "        word = word.lower().strip(\",.;!?()\\\"\")\n",
    "        if len(word) < 0:\n",
    "            continue\n",
    "        if word in words_count.keys():\n",
    "            words_count[word] += 1\n",
    "        else:\n",
    "            words_count[word] = 1\n",
    "\n",
    "for word in words_count.keys():\n",
    "    if words_count[word] == max(words_count.values()):\n",
    "        break\n",
    "        \n",
    "try:\n",
    "    string = get_printed_cell(_i)\n",
    "    expected = word + ': ' + str(words_count[word])\n",
    "    assert expected in string or string in expected\n",
    "    print(\"Passed!\")\n",
    "except Exception as e:\n",
    "    if _i is not '':\n",
    "        print(\"Error: \", e)\n",
    "        print(\"Failed...\")\n",
    "    pass"
   ]
  },
  {
   "cell_type": "markdown",
   "metadata": {
    "deletable": false,
    "editable": false,
    "slideshow": {
     "slide_type": "slide"
    },
    "solved": false,
    "undeletable": true
   },
   "source": [
    "<br><br>\n",
    "\n",
    "### Congratulations, you have finished this notebook successfully! You now possess all the knowledge to make your own applications using Python."
   ]
  },
  {
   "cell_type": "markdown",
   "metadata": {
    "deletable": false,
    "editable": false,
    "hideCode": false,
    "hidePrompt": false,
    "slideshow": {
     "slide_type": "fragment"
    },
    "solved": false,
    "tags": [
     "footer"
    ],
    "template": true,
    "undeletable": true
   },
   "source": [
    "<hr>\n",
    "<table width=\"100%\">\n",
    "    <tr>\n",
    "        <td class=\"footer_logo\">\n",
    "            <img src=\"../../images/ost_logo.png\" alt=\"biosignalsnotebooks | project logo [footer]\">\n",
    "        </td>\n",
    "        <td width=\"40%\" style=\"text-align:left\">\n",
    "            <a href=\"../MainFiles/aux_files/biosignalsnotebooks_presentation.pdf\" target=\"_blank\">&#9740; Project Presentation</a>\n",
    "            <br>\n",
    "            <a href=\"https://github.com/biosignalsplux/biosignalsnotebooks\" target=\"_blank\">&#9740; GitHub Repository</a>\n",
    "            <br>\n",
    "            <a href=\"https://pypi.org/project/biosignalsnotebooks/\" target=\"_blank\">&#9740; How to install biosignalsnotebooks Python package ?</a>\n",
    "            <br>\n",
    "            <a href=\"https://www.biosignalsplux.com/notebooks/Categories/MainFiles/signal_samples.ipynb\">&#9740; Signal Library</a>\n",
    "        </td>\n",
    "        <td width=\"40%\" style=\"text-align:left\">\n",
    "            <a href=\"https://www.biosignalsplux.com/notebooks/Categories/MainFiles/biosignalsnotebooks.ipynb\">&#9740; Notebook Categories</a>\n",
    "            <br>\n",
    "            <a href=\"https://www.biosignalsplux.com/notebooks/Categories/MainFiles/by_diff.ipynb\">&#9740; Notebooks by Difficulty</a>\n",
    "            <br>\n",
    "            <a href=\"https://www.biosignalsplux.com/notebooks/Categories/MainFiles/by_signal_type.ipynb\">&#9740; Notebooks by Signal Type</a>\n",
    "            <br>\n",
    "            <a href=\"https://www.biosignalsplux.com/notebooks/Categories/MainFiles/by_tag.ipynb\">&#9740; Notebooks by Tag</a>\n",
    "        </td>\n",
    "    </tr>\n",
    "</table>"
   ]
  },
  {
   "cell_type": "markdown",
   "metadata": {
    "deletable": false,
    "editable": false,
    "hideCode": false,
    "hidePrompt": false,
    "slideshow": {
     "slide_type": "skip"
    },
    "solved": false,
    "tags": [
     "hide_mark",
     "aux"
    ],
    "undeletable": true
   },
   "source": [
    "<span class=\"color6\"><strong>Auxiliary Code Segment (should not be replicated by\n",
    "the user)</strong></span>"
   ]
  },
  {
   "cell_type": "code",
   "execution_count": null,
   "metadata": {
    "deletable": false,
    "hideCode": false,
    "hidePrompt": false,
    "init_cell": true,
    "slideshow": {
     "slide_type": "skip"
    },
    "solved": false,
    "tags": [
     "hide_both"
    ],
    "undeletable": true
   },
   "outputs": [],
   "source": [
    "from biosignalsnotebooks.__notebook_support__ import css_style_apply\n",
    "css_style_apply()"
   ]
  },
  {
   "cell_type": "code",
   "execution_count": null,
   "metadata": {
    "deletable": false,
    "hideCode": false,
    "hidePrompt": false,
    "hide_input": false,
    "init_cell": true,
    "slideshow": {
     "slide_type": "skip"
    },
    "solved": false,
    "tags": [
     "hide_both"
    ],
    "undeletable": true
   },
   "outputs": [],
   "source": [
    "%%html\n",
    "<script>\n",
    "    // AUTORUN ALL CELLS ON NOTEBOOK-LOAD!\n",
    "    require(\n",
    "        ['base/js/namespace', 'jquery'],\n",
    "        function(jupyter, $) {\n",
    "            $(jupyter.events).on(\"kernel_ready.Kernel\", function () {\n",
    "                console.log(\"Auto-running all cells-below...\");\n",
    "                jupyter.actions.call('jupyter-notebook:run-all-cells-below');\n",
    "                jupyter.actions.call('jupyter-notebook:save-notebook');\n",
    "            });\n",
    "        }\n",
    "    );\n",
    "</script>"
   ]
  }
 ],
 "metadata": {
  "hide_code_all_hidden": false,
  "hide_input": false,
  "kernelspec": {
   "display_name": "Python 3",
   "language": "python",
   "name": "python3"
  },
  "language_info": {
   "codemirror_mode": {
    "name": "ipython",
    "version": 3
   },
   "file_extension": ".py",
   "mimetype": "text/x-python",
   "name": "python",
   "nbconvert_exporter": "python",
   "pygments_lexer": "ipython3",
   "version": "3.7.7"
  },
  "rise": {
   "scroll": true,
   "shortcuts": {
    "slideshow": "none",
    "toggle-notes": "none"
   },
   "transition": "none"
  }
 },
 "nbformat": 4,
 "nbformat_minor": 4
}
